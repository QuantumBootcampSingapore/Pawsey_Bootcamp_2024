{
 "cells": [
  {
   "cell_type": "markdown",
   "id": "90009b4e-282c-4185-9a93-09360304df2b",
   "metadata": {},
   "source": [
    "# Libraries"
   ]
  },
  {
   "cell_type": "code",
   "execution_count": 1,
   "id": "837857c8-a8d3-4c10-bc57-c6c741f004ce",
   "metadata": {},
   "outputs": [],
   "source": [
    "#!pip install numpy"
   ]
  },
  {
   "cell_type": "code",
   "execution_count": 2,
   "id": "2392c138-0493-4b55-a8eb-b38f0613a0ed",
   "metadata": {},
   "outputs": [],
   "source": [
    "#!pip install pennylane"
   ]
  },
  {
   "cell_type": "code",
   "execution_count": 3,
   "id": "12559bc1-87c0-4c4f-ae14-75f0ce6f0136",
   "metadata": {},
   "outputs": [],
   "source": [
    "#!pip install scikit-learn"
   ]
  },
  {
   "cell_type": "code",
   "execution_count": 4,
   "id": "7c7d5666-17c6-4edf-a754-9a011556ddf2",
   "metadata": {},
   "outputs": [],
   "source": [
    "#!pip install matplotlib"
   ]
  },
  {
   "cell_type": "code",
   "execution_count": 5,
   "id": "fc94346b-3490-48d8-946a-ea8ad145ba96",
   "metadata": {},
   "outputs": [],
   "source": [
    "import pennylane as qml\n",
    "import numpy as np"
   ]
  },
  {
   "cell_type": "markdown",
   "id": "8512aea9-668a-452d-b734-08c61544b8de",
   "metadata": {},
   "source": [
    "# Circuit"
   ]
  },
  {
   "cell_type": "markdown",
   "id": "9042bf6b-8cd3-4992-a8a4-780b8e16cc63",
   "metadata": {},
   "source": [
    "## Uniform superposition of state"
   ]
  },
  {
   "cell_type": "code",
   "execution_count": 6,
   "id": "cb8b13f1-7935-4b69-94da-e337a1562229",
   "metadata": {},
   "outputs": [],
   "source": [
    "dev = qml.device(\"lightning.qubit\", wires=2)"
   ]
  },
  {
   "cell_type": "code",
   "execution_count": 7,
   "id": "5aec4202-b7ad-4495-824a-aa61b59987f8",
   "metadata": {},
   "outputs": [],
   "source": [
    "@qml.qnode(dev)\n",
    "def circuit():\n",
    "    qml.PauliX(0)\n",
    "    qml.PauliX(1)\n",
    "    #qml.Hadamard(0)\n",
    "    #qml.CNOT([0,1])\n",
    "    return qml.state()"
   ]
  },
  {
   "cell_type": "code",
   "execution_count": 8,
   "id": "a67bf206-84b0-4d26-89bc-7c838933052a",
   "metadata": {},
   "outputs": [
    {
     "name": "stdout",
     "output_type": "stream",
     "text": [
      "(<Figure size 400x300 with 1 Axes>, <Axes: >)\n"
     ]
    },
    {
     "data": {
      "image/png": "[encoded data removed]",
      "text/plain": [
       "<Figure size 400x300 with 1 Axes>"
      ]
     },
     "metadata": {},
     "output_type": "display_data"
    }
   ],
   "source": [
    "print(qml.draw_mpl(circuit)())"
   ]
  },
  {
   "cell_type": "code",
   "execution_count": 9,
   "id": "1773bce1-291c-4d09-bcaa-583a668db3b2",
   "metadata": {},
   "outputs": [
    {
     "data": {
      "text/plain": [
       "tensor([0.+0.j, 0.+0.j, 0.+0.j, 1.+0.j], requires_grad=True)"
      ]
     },
     "execution_count": 9,
     "metadata": {},
     "output_type": "execute_result"
    }
   ],
   "source": [
    "results = circuit()\n",
    "results"
   ]
  },
  {
   "cell_type": "markdown",
   "id": "94ce6133-d082-4680-b275-2ceedce10afd",
   "metadata": {},
   "source": [
    "## Rotation"
   ]
  },
  {
   "cell_type": "code",
   "execution_count": 10,
   "id": "8100186a-2534-4b5e-9dcc-ff102b82070b",
   "metadata": {},
   "outputs": [],
   "source": [
    "dev = qml.device(\"lightning.qubit\", wires=1)"
   ]
  },
  {
   "cell_type": "code",
   "execution_count": 11,
   "id": "31812975-adc8-4160-ab41-8c9512638092",
   "metadata": {},
   "outputs": [],
   "source": [
    "@qml.qnode(dev)\n",
    "def circuit():\n",
    "    qml.RY(np.pi/3, 0)\n",
    "    return qml.state()"
   ]
  },
  {
   "cell_type": "code",
   "execution_count": 12,
   "id": "57059c5f-8f96-4cca-bc25-4c7c114493a9",
   "metadata": {},
   "outputs": [
    {
     "name": "stdout",
     "output_type": "stream",
     "text": [
      "(<Figure size 400x200 with 1 Axes>, <Axes: >)\n"
     ]
    },
    {
     "data": {
      "image/png": "[encoded data removed]",
      "text/plain": [
       "<Figure size 400x200 with 1 Axes>"
      ]
     },
     "metadata": {},
     "output_type": "display_data"
    }
   ],
   "source": [
    "print(qml.draw_mpl(circuit, decimals = 2)())"
   ]
  },
  {
   "cell_type": "code",
   "execution_count": 13,
   "id": "fb0b561d-27f5-4d2f-a730-1938abd42745",
   "metadata": {},
   "outputs": [
    {
     "data": {
      "text/plain": [
       "array([0.8660254+0.j, 0.5      +0.j])"
      ]
     },
     "execution_count": 13,
     "metadata": {},
     "output_type": "execute_result"
    }
   ],
   "source": [
    "results = circuit()\n",
    "results"
   ]
  },
  {
   "cell_type": "markdown",
   "id": "5fbd7d9e-9c0b-4b33-b009-a99795bacee2",
   "metadata": {},
   "source": [
    "## Try to get these states!"
   ]
  },
  {
   "cell_type": "markdown",
   "id": "32116c87-ecd5-4254-9fb7-8ddb6d4f9008",
   "metadata": {},
   "source": [
    "$$\\frac{|00 \\rangle +|11 \\rangle}{\\sqrt{2}}, \\frac{|00 \\rangle - |11 \\rangle}{\\sqrt{2}}, \\frac{|01 \\rangle +|10 \\rangle}{\\sqrt{2}}, \\frac{|01 \\rangle - |10 \\rangle}{\\sqrt{2}}$$"
   ]
  },
  {
   "cell_type": "code",
   "execution_count": null,
   "id": "c1ed15d2-5b7d-497a-a2d1-217010c24949",
   "metadata": {},
   "outputs": [],
   "source": []
  }
 ],
 "metadata": {
  "kernelspec": {
   "display_name": "Python 3 (ipykernel)",
   "language": "python",
   "name": "python3"
  },
  "language_info": {
   "codemirror_mode": {
    "name": "ipython",
    "version": 3
   },
   "file_extension": ".py",
   "mimetype": "text/x-python",
   "name": "python",
   "nbconvert_exporter": "python",
   "pygments_lexer": "ipython3",
   "version": "3.12.2"
  }
 },
 "nbformat": 4,
 "nbformat_minor": 5
}
