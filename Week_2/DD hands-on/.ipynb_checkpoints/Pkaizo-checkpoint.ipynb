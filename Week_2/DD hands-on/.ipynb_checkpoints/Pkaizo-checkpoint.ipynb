{
 "cells": [
  {
   "cell_type": "markdown",
   "id": "3ab8c372-a5c6-4dc2-83b9-c7750a0927bc",
   "metadata": {},
   "source": [
    "# PKaizo: Exploring the Advantages of Quantum Generative Adversarial Networks in Generative Chemistry"
   ]
  },
  {
   "attachments": {},
   "cell_type": "markdown",
   "id": "a61c4997-b502-46ff-9156-56669c8f536d",
   "metadata": {},
   "source": [
    "Your team is in charge of looking at the following paper:\n",
    "\n",
    "Kao, Po-Yu, et al. \"Exploring the advantages of quantum generative adversarial networks in generative chemistry.\" Journal of Chemical Information and Modeling 63.11 (2023): 3307-3318.\n",
    "\n",
    "where you can find the link to the paper here: https://pubs.acs.org/doi/full/10.1021/acs.jcim.3c00562 \n",
    "\n",
    "They also released a Github: https://github.com/pykao/QuantumMolGAN-PyTorch \n",
    "\n",
    "This notebook has been prepared with some guiding questions to help you understand the paper, and prepare your presentation."
   ]
  },
  {
   "cell_type": "markdown",
   "id": "f318db21-2263-4cc3-bd92-201a95499fd2",
   "metadata": {},
   "source": [
    "## 1. What is a Generative Adversarial Network? "
   ]
  },
  {
   "cell_type": "markdown",
   "id": "f94f38da-c70d-482f-872c-cd4fc69806c1",
   "metadata": {},
   "source": [
    "Before you can understand what the research team did in the study, you will need to understand what GANs are. There are a few key components to GANs, with the main two being the generator and discriminator. Can you describe what they do?\n",
    "\n",
    "Hint: You can look at https://machinelearningmastery.com/what-are-generative-adversarial-networks-gans/. Jump to the section \"What Are Generative Adversarial Networks?\""
   ]
  },
  {
   "cell_type": "markdown",
   "id": "40ebaf7a-c759-4de3-ab80-dbb42335f4a0",
   "metadata": {},
   "source": [
    "Generator:"
   ]
  },
  {
   "cell_type": "code",
   "execution_count": null,
   "id": "1090dedd-0417-4c0a-908e-c5870fbc8ed0",
   "metadata": {},
   "outputs": [],
   "source": []
  },
  {
   "cell_type": "markdown",
   "id": "90216952-e52f-4337-a0fb-18be82ae7126",
   "metadata": {},
   "source": [
    "Discriminator:"
   ]
  },
  {
   "cell_type": "code",
   "execution_count": null,
   "id": "e3480f9c-0e1f-443a-ae96-8de0e55d403e",
   "metadata": {},
   "outputs": [],
   "source": []
  },
  {
   "cell_type": "markdown",
   "id": "f8708062-1d9f-4b95-bbbd-0928910314e8",
   "metadata": {},
   "source": [
    "The paper added in a third aspect that they wanted to study. What was it, and how does it work?"
   ]
  },
  {
   "cell_type": "markdown",
   "id": "c829a80b-a3d6-4c7f-b4e8-e1de1c11e8b9",
   "metadata": {},
   "source": [
    "(Third aspect. To change):"
   ]
  },
  {
   "cell_type": "code",
   "execution_count": null,
   "id": "a765e618-e1b2-4fac-b144-d4a946a52e41",
   "metadata": {},
   "outputs": [],
   "source": []
  },
  {
   "cell_type": "markdown",
   "id": "aaa1711b-534a-404b-9e55-e843a3ff296b",
   "metadata": {},
   "source": [
    "## 2. Experiments"
   ]
  },
  {
   "cell_type": "markdown",
   "id": "6dedfb48-f91a-40b0-86cf-588d574024a0",
   "metadata": {},
   "source": [
    "What was the paper about? What problem are they trying to solve?"
   ]
  },
  {
   "cell_type": "code",
   "execution_count": null,
   "id": "58988d53-ee1b-4958-bc33-cedfe17f430b",
   "metadata": {},
   "outputs": [],
   "source": []
  },
  {
   "cell_type": "markdown",
   "id": "f5fbdd19-e563-4f71-a2f5-c8e23ceb0599",
   "metadata": {},
   "source": [
    "The paper conducted three different experiments. What were they and what was their methodology?"
   ]
  },
  {
   "cell_type": "code",
   "execution_count": null,
   "id": "5afc17d4-fec5-444c-82b7-628b115ed333",
   "metadata": {},
   "outputs": [],
   "source": []
  },
  {
   "cell_type": "markdown",
   "id": "c3c207d8-ce04-4105-b8f7-ffbf3ea62cb2",
   "metadata": {},
   "source": [
    "## 3. Noise Generator"
   ]
  },
  {
   "cell_type": "markdown",
   "id": "794ca644-558e-4f17-b0f6-ed08299cfa57",
   "metadata": {},
   "source": [
    "The following is the code for the noise generator that they used.\n",
    "\n",
    "Identify the following:\n",
    "- What feature mapping are they using?\n",
    "- What variational layer are they using?\n",
    "- What is the variable w? To visualize it, implement an example of what w might be below."
   ]
  },
  {
   "cell_type": "code",
   "execution_count": 3,
   "id": "c4aed08e-f9ae-4cc2-81c5-1514c0d148bb",
   "metadata": {},
   "outputs": [],
   "source": [
    "import pennylane as qml\n",
    "import numpy as np"
   ]
  },
  {
   "cell_type": "code",
   "execution_count": 4,
   "id": "6d60faa0-4dbf-4753-8b75-4ea0bcb4befe",
   "metadata": {},
   "outputs": [],
   "source": [
    "# What are these two variables?\n",
    "\n",
    "n_qubits = 4\n",
    "n_layers = 2"
   ]
  },
  {
   "cell_type": "code",
   "execution_count": 5,
   "id": "6c36db17-3f62-460f-ab4e-ad8b971ec731",
   "metadata": {},
   "outputs": [],
   "source": [
    "dev = qml.device('default.qubit', wires=n_qubits)\n",
    "\n",
    "@qml.qnode(dev, interface='torch', diff_method='backprop')\n",
    "def gen_circuit(w):\n",
    "    # random noise as generator input\n",
    "    z1 = np.random.uniform(-1, 1)\n",
    "    z2 = np.random.uniform(-1, 1)\n",
    "    # construct generator circuit for both atom vector and node matrix\n",
    "    for i in range(n_qubits):\n",
    "        qml.RY(np.arcsin(z1), wires=i)\n",
    "        qml.RZ(np.arcsin(z2), wires=i)\n",
    "    for l in range(n_layers):\n",
    "        for i in range(n_qubits):\n",
    "            qml.RY(w[i], wires=i)\n",
    "        for i in range(n_qubits-1):\n",
    "            qml.CNOT(wires=[i, i+1])\n",
    "            qml.RZ(w[i+n_qubits], wires=i+1)\n",
    "            qml.CNOT(wires=[i, i+1])\n",
    "    return [qml.expval(qml.PauliZ(i)) for i in range(n_qubits)]"
   ]
  },
  {
   "cell_type": "code",
   "execution_count": 6,
   "id": "ea67dbe0-04ed-4494-96ba-27ba3b7036ff",
   "metadata": {},
   "outputs": [
    {
     "ename": "SyntaxError",
     "evalue": "incomplete input (1414079263.py, line 1)",
     "output_type": "error",
     "traceback": [
      "\u001b[1;36m  Cell \u001b[1;32mIn[6], line 1\u001b[1;36m\u001b[0m\n\u001b[1;33m    print(qml.draw_mpl(gen_circuit, decimals = 2)(# FILL UP HERE #))\u001b[0m\n\u001b[1;37m                                                                    ^\u001b[0m\n\u001b[1;31mSyntaxError\u001b[0m\u001b[1;31m:\u001b[0m incomplete input\n"
     ]
    }
   ],
   "source": [
    "print(qml.draw_mpl(gen_circuit, decimals = 2)(# FILL UP HERE #))"
   ]
  },
  {
   "cell_type": "markdown",
   "id": "e439ba11-c250-4573-9b0e-96cfc364abae",
   "metadata": {},
   "source": [
    "The experiment mentioned results about the different tests they ran. Look at them, and see how they change the variational layer for experiments!\n",
    "\n",
    "At the end of the day, what was their conclusion for this experiment?"
   ]
  },
  {
   "cell_type": "code",
   "execution_count": null,
   "id": "9df98ed9-23b3-42e9-80ad-ee6caf44497f",
   "metadata": {},
   "outputs": [],
   "source": []
  },
  {
   "cell_type": "markdown",
   "id": "09455a10-1911-4f64-9337-13be35ac47d9",
   "metadata": {},
   "source": [
    "## 4. Generator"
   ]
  },
  {
   "cell_type": "markdown",
   "id": "fb3c6a86-6787-4cb0-8072-47ffe573c8ec",
   "metadata": {},
   "source": [
    "For the generator, they were inspired by a method from another paper. What is the method called?"
   ]
  },
  {
   "cell_type": "code",
   "execution_count": null,
   "id": "5f1d71e6-7c3b-49b6-8dbd-5e83049e4963",
   "metadata": {},
   "outputs": [],
   "source": []
  },
  {
   "cell_type": "markdown",
   "id": "97e2d26f-9d44-44d0-873e-a0138511bb22",
   "metadata": {},
   "source": [
    "Look at description/picture of the generator from the original paper in Figure 1. Can you give an intuition for what it is doing?\n",
    "\n",
    "Original Paper: https://www.researchgate.net/profile/He-Liang-Huang/publication/344638454_Experimental_Quantum_Generative_Adversarial_Networks_for_Image_Generation/links/5f90d728458515b7cf9372b2/Experimental-Quantum-Generative-Adversarial-Networks-for-Image-Generation.pdf"
   ]
  },
  {
   "cell_type": "code",
   "execution_count": null,
   "id": "0f18f057-6d10-425c-87e4-b77e2ef51a5c",
   "metadata": {},
   "outputs": [],
   "source": []
  },
  {
   "cell_type": "markdown",
   "id": "42813865-ef52-4b66-bc14-bca577dbc4e3",
   "metadata": {},
   "source": [
    "Find the code for the quantum generator from the Github and paste it below (or just navigate to the page to show for the presentation). What does it look like? (Skip this if you do not have time)"
   ]
  },
  {
   "cell_type": "code",
   "execution_count": null,
   "id": "23938dc6-3456-4887-ad5a-342200b1ef5a",
   "metadata": {},
   "outputs": [],
   "source": []
  },
  {
   "cell_type": "markdown",
   "id": "a9bbf7ec-235f-4b8d-8b54-e62825b83487",
   "metadata": {},
   "source": [
    "What problem did they find with the generator?"
   ]
  },
  {
   "cell_type": "code",
   "execution_count": null,
   "id": "591aa2a4-cf11-4a8a-a735-27aa41f35092",
   "metadata": {},
   "outputs": [],
   "source": []
  },
  {
   "cell_type": "markdown",
   "id": "1fab0a55-c8e5-465d-8dac-bff3ba98c04b",
   "metadata": {},
   "source": [
    "## 5. Discriminator"
   ]
  },
  {
   "cell_type": "markdown",
   "id": "5ccf867f-326a-4418-a8d2-db118c2c2505",
   "metadata": {},
   "source": [
    "Below is the code for the discriminator. Similar to the noise generator:\n",
    "\n",
    "Identify the following:\n",
    "- What feature mapping are they using?\n",
    "- What variational layer are they using?\n",
    "- What is the variable inputs and weights? To visualize it, implement an example of what they might be might be below.\n",
    "\n",
    "Some interesting things to consider:\n",
    "- What is ATOM_NUM?\n",
    "- Why 9 qubits?"
   ]
  },
  {
   "cell_type": "code",
   "execution_count": null,
   "id": "f52c5734-e1f2-4168-8026-e2715a5ceb2b",
   "metadata": {},
   "outputs": [],
   "source": [
    "ATOM_NUM = 450\n",
    "n_qubits = 9\n",
    "\n",
    "n_measured_wire = 1"
   ]
  },
  {
   "cell_type": "code",
   "execution_count": null,
   "id": "cf78289e-abef-40c0-9405-caea641b7dcc",
   "metadata": {},
   "outputs": [],
   "source": [
    "dev = qml.device(\"default.qubit\", wires=n_qubits)\n",
    "\n",
    "MEASURED_QUBIT_IDX = 4#int(sys.argv[1])\n",
    "\n",
    "@qml.qnode(dev, interface=\"torch\", diff_method=\"backprop\")\n",
    "def qnode(inputs, weights):\n",
    "    qml.templates.AmplitudeEmbedding(inputs, wires=range(n_qubits), pad_with=0.001, normalize=(True))\n",
    "    qml.templates.StronglyEntanglingLayers(weights, wires=range(n_qubits))\n",
    "    return [qml.expval(qml.PauliZ(wires=i)) for i in range(MEASURED_QUBIT_IDX, MEASURED_QUBIT_IDX+1)]\n"
   ]
  },
  {
   "cell_type": "code",
   "execution_count": null,
   "id": "5f2c5590-8d2a-4d64-8ae7-5eefd759a176",
   "metadata": {},
   "outputs": [],
   "source": [
    "# How does this code work?\n",
    "\n",
    "shape = qml.StronglyEntanglingLayers.shape(n_layers=2, n_wires=n_qubits)\n",
    "weights = np.random.random(size=shape)"
   ]
  },
  {
   "cell_type": "code",
   "execution_count": null,
   "id": "41aec72a-6ef9-4e61-8efa-d7d7bff60cff",
   "metadata": {},
   "outputs": [],
   "source": [
    "print(qml.draw_mpl(qnode, decimals = 2, expansion_strategy=\"device\")(# FILL UP HERE #))"
   ]
  },
  {
   "cell_type": "markdown",
   "id": "6ebc7c26-58e4-4691-a89b-740df55c15c7",
   "metadata": {},
   "source": [
    "What is the key advantage they saw with this discriminator?"
   ]
  },
  {
   "cell_type": "code",
   "execution_count": null,
   "id": "5bc6e049-336f-444f-b5dd-11e0709fe160",
   "metadata": {},
   "outputs": [],
   "source": []
  },
  {
   "cell_type": "markdown",
   "id": "a2b336f1-a536-4030-affe-9f1f8350512a",
   "metadata": {},
   "source": [
    "## 6. Reflection"
   ]
  },
  {
   "cell_type": "markdown",
   "id": "67a57f54-5640-42ac-bcea-751e6c3951a1",
   "metadata": {},
   "source": [
    "They performed three experiments to explore QGANs for this particular problem. What do you think about it?"
   ]
  },
  {
   "cell_type": "code",
   "execution_count": null,
   "id": "b8e302cb-c541-47f4-b7a7-a9b25dfe31a1",
   "metadata": {},
   "outputs": [],
   "source": []
  }
 ],
 "metadata": {
  "kernelspec": {
   "display_name": "Python 3 (ipykernel)",
   "language": "python",
   "name": "python3"
  },
  "language_info": {
   "codemirror_mode": {
    "name": "ipython",
    "version": 3
   },
   "file_extension": ".py",
   "mimetype": "text/x-python",
   "name": "python",
   "nbconvert_exporter": "python",
   "pygments_lexer": "ipython3",
   "version": "3.12.2"
  }
 },
 "nbformat": 4,
 "nbformat_minor": 5
}
