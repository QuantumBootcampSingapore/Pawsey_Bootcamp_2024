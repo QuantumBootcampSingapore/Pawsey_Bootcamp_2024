{
 "cells": [
  {
   "cell_type": "markdown",
   "id": "c0b17e11-52a6-4ead-a52e-9eb0b1fade60",
   "metadata": {},
   "source": [
    "# Nonsohn & Nonsohn: Quantum machine learning framework for virtual screening in drug discovery: a prospective quantum advantage"
   ]
  },
  {
   "attachments": {},
   "cell_type": "markdown",
   "id": "a78bd7af-1f5b-417b-8529-5a5656940ee8",
   "metadata": {},
   "source": [
    "Your team is in charge of looking at the following paper:\n",
    "\n",
    "Mensa, Stefano, et al. \"Quantum machine learning framework for virtual screening in drug discovery: a prospective quantum advantage.\" Machine Learning: Science and Technology 4.1 (2023): 015023\n",
    "\n",
    "where you can find the link to the paper here: https://iopscience.iop.org/article/10.1088/2632-2153/acb900/pdf \n",
    "\n",
    "This notebook has been prepared with some guiding questions to help you understand the paper, and prepare your presentation."
   ]
  },
  {
   "cell_type": "markdown",
   "id": "137bb788-a1f1-4874-83ff-67ee352c7938",
   "metadata": {},
   "source": [
    "## 1. Support Vector Classifier"
   ]
  },
  {
   "cell_type": "markdown",
   "id": "85aafcc9-80de-41cb-9e42-fbfe69996d49",
   "metadata": {},
   "source": [
    "Before we start looking at the paper, let us familiarize ourselves with the classical version of the main technique used in the paper. Support vector machines are a popular machine learning technique used for classification problems. Please look at the first paragraph of Section 2.2 for a brief explanation of SVCs, and for more information, look at this link: https://scikit-learn.org/stable/modules/svm.html.\n",
    "\n",
    "Could you give a brief explanation to what SVCs are and how they train?\n",
    "Hint: You should have the term optimization somewhere in the description"
   ]
  },
  {
   "cell_type": "code",
   "execution_count": null,
   "id": "1c910087-d2a5-4394-9005-1710de4d2803",
   "metadata": {},
   "outputs": [],
   "source": []
  },
  {
   "cell_type": "markdown",
   "id": "0f70e07f-7dd2-4b69-885b-f861a7ddaa55",
   "metadata": {},
   "source": [
    "A big part of SVCs are the kernel functions you choose to use. Could you:\n",
    "- Give a brief explanation what kernel methods are?\n",
    "- Why you would use kernel methods?\n",
    "- What some common kernel methods are?\n",
    "\n",
    "Hint: The informal explanation in wikipedia is pretty good: https://en.wikipedia.org/wiki/Kernel_method#:~:text=Kernel%20methods%20owe%20their%20name,data%20in%20the%20feature%20space. "
   ]
  },
  {
   "cell_type": "code",
   "execution_count": null,
   "id": "ac8ea53d-52d8-40d3-a052-8fce8b829615",
   "metadata": {},
   "outputs": [],
   "source": []
  },
  {
   "cell_type": "markdown",
   "id": "4b5cc514-7d74-4fcc-b106-1f1b7e323b9f",
   "metadata": {},
   "source": [
    "## 2. Problem Statement"
   ]
  },
  {
   "cell_type": "markdown",
   "id": "dc31b648-74ec-4e8b-a7be-d93e028c62df",
   "metadata": {},
   "source": [
    "What problem are they trying to solve? In order to answer this question, consider in the following order:\n",
    "\n",
    "- What is virtual screening? What role does it play in drug discovery?\n",
    "- What is the workflow for virtual screening for drug discovery problems?\n",
    "- What part of the workflow is difficult that they want to work on?\n",
    "- Where does SVC (both quantum and classical) fit into this part?"
   ]
  },
  {
   "cell_type": "code",
   "execution_count": null,
   "id": "1291e4c1-d847-4a10-8311-f0bc7e242132",
   "metadata": {},
   "outputs": [],
   "source": []
  },
  {
   "cell_type": "markdown",
   "id": "4389b4da-9f88-4388-b4da-d99bcf7b2d34",
   "metadata": {},
   "source": [
    "How does Figure 1 fit into this?"
   ]
  },
  {
   "cell_type": "code",
   "execution_count": null,
   "id": "551d37f0-4f94-466e-bbfb-109c796e7fe8",
   "metadata": {},
   "outputs": [],
   "source": []
  },
  {
   "cell_type": "markdown",
   "id": "ba5969fc-1f9b-4f42-be2e-50a26c14440a",
   "metadata": {},
   "source": [
    "## 3. Methodology"
   ]
  },
  {
   "cell_type": "markdown",
   "id": "60175102-b1df-4428-ab73-85e2bb71d77e",
   "metadata": {},
   "source": [
    "### High level vision"
   ]
  },
  {
   "cell_type": "markdown",
   "id": "c0b34719-50e5-45a5-997f-34aae02feeb5",
   "metadata": {},
   "source": [
    "As per any ML experimental paper, think about:\n",
    "\n",
    "- What dataset are they using? Why are they using it?\n",
    "- What models are they comparing?\n",
    "- What is their evaluation model?"
   ]
  },
  {
   "cell_type": "code",
   "execution_count": null,
   "id": "d7dcc725-bd8e-47c6-9f4b-ac2c1360278e",
   "metadata": {},
   "outputs": [],
   "source": []
  },
  {
   "cell_type": "markdown",
   "id": "1a6b0e65-b22e-4d86-bbf7-45a7b64802dd",
   "metadata": {},
   "source": [
    "### Quantum Kernel"
   ]
  },
  {
   "cell_type": "markdown",
   "id": "34e16725-68d3-4c6a-b8ad-febf94047b67",
   "metadata": {},
   "source": [
    "What is a quantum kernel? Where does it fit into the SVC?\n",
    "\n",
    "Please look at Section 2.2, second paragraph to get a brief understanding of what the quantum kernel is."
   ]
  },
  {
   "cell_type": "code",
   "execution_count": null,
   "id": "d5b5065f-36d4-4b32-88c5-ec53052ce56b",
   "metadata": {},
   "outputs": [],
   "source": []
  },
  {
   "cell_type": "markdown",
   "id": "87cd9c9e-6cd5-4a8d-a847-ab94b6d322b3",
   "metadata": {},
   "source": [
    "As an exercise, please implement the quantum circuit, the ZZ feature map, as you see in Equation 2 on Page 4.\n",
    "\n",
    "Try to implement it such that you can declare the number of layers too! (Ignore if you don't have time.)\n",
    "\n",
    "Hint: This page will be useful. https://docs.pennylane.ai/en/stable/introduction/operations.html"
   ]
  },
  {
   "cell_type": "code",
   "execution_count": null,
   "id": "7d3eb649-244a-42ea-abb7-ea370bf731fe",
   "metadata": {},
   "outputs": [],
   "source": [
    "import pennylane as qml\n",
    "from pennylane import numpy as np"
   ]
  },
  {
   "cell_type": "code",
   "execution_count": null,
   "id": "18dde582-2e7d-4bf7-a647-f95cb3609950",
   "metadata": {},
   "outputs": [],
   "source": [
    "dev = qml.device(\"default.qubit\", wires=4, shots=None)"
   ]
  },
  {
   "cell_type": "code",
   "execution_count": null,
   "id": "68714026-ec4f-48f6-86f8-e9a2d2b6315b",
   "metadata": {},
   "outputs": [],
   "source": [
    "n_layers = # fill up"
   ]
  },
  {
   "cell_type": "code",
   "execution_count": null,
   "id": "fc18bc73-1541-46f2-a78f-8014e363a51d",
   "metadata": {},
   "outputs": [],
   "source": [
    "@qml.qnode(dev)\n",
    "def kernel_circuit(params):\n",
    "    ### FILL UP CODE HERE ###\n",
    "    \n",
    "    return qml.probs(wires=wires)"
   ]
  },
  {
   "cell_type": "code",
   "execution_count": null,
   "id": "e6a996f8-88ad-4ecb-a01f-2443845afd95",
   "metadata": {},
   "outputs": [],
   "source": [
    "print(qml.draw_mpl(kernel_circuit)(# Insert some params here #))"
   ]
  },
  {
   "cell_type": "code",
   "execution_count": null,
   "id": "ac25dce2-753b-4b73-a9fc-2b34477e66b9",
   "metadata": {},
   "outputs": [],
   "source": []
  },
  {
   "cell_type": "markdown",
   "id": "8f177696-e2d8-44e2-a1e5-69fdc159df4a",
   "metadata": {},
   "source": [
    "### 4. Experiments and Results"
   ]
  },
  {
   "cell_type": "markdown",
   "id": "507c0c4e-da6c-4ffd-9f3d-75d81f7beaf5",
   "metadata": {},
   "source": [
    "### Experiments"
   ]
  },
  {
   "cell_type": "markdown",
   "id": "bec3e323-96d1-4988-b75b-bea1915b9000",
   "metadata": {},
   "source": [
    "What experiments did they run? What hardware did they use?"
   ]
  },
  {
   "cell_type": "code",
   "execution_count": null,
   "id": "ce8b1bf4-f9e7-414d-9bd2-678bd05f12b9",
   "metadata": {},
   "outputs": [],
   "source": []
  },
  {
   "cell_type": "markdown",
   "id": "3f0bea93-d43e-41a2-98c8-6648f3259e38",
   "metadata": {},
   "source": [
    "### Results"
   ]
  },
  {
   "cell_type": "markdown",
   "id": "7abd3587-d405-4acb-b242-281277fea801",
   "metadata": {},
   "source": [
    "Please focus at Figure 2 and Figure 4 and explain the results and conclusions from the experiments."
   ]
  },
  {
   "cell_type": "code",
   "execution_count": null,
   "id": "f74093da-7180-424e-9a92-52840d56d3b7",
   "metadata": {},
   "outputs": [],
   "source": []
  },
  {
   "cell_type": "markdown",
   "id": "1df71273-a7c3-487b-9be6-c9902a9ac8f4",
   "metadata": {},
   "source": [
    "## 5. Conclusion and Prospective Quantum Advantage"
   ]
  },
  {
   "cell_type": "markdown",
   "id": "96003d32-5a3e-4f9e-82ca-e54a4865b949",
   "metadata": {},
   "source": [
    "In the conclusion, they reiterated their results, and curiously defined something called Prospective Quantum Advantage. What did they define it as, and what is it intuitively?"
   ]
  },
  {
   "cell_type": "code",
   "execution_count": null,
   "id": "272ecbfb-62cc-4145-8543-5f5964a1f2f4",
   "metadata": {},
   "outputs": [],
   "source": []
  },
  {
   "cell_type": "markdown",
   "id": "4933847c-17f9-4c6a-87de-5a3c55a3a481",
   "metadata": {},
   "source": [
    "What do you think about it?"
   ]
  },
  {
   "cell_type": "code",
   "execution_count": null,
   "id": "cbbc01b7-cf84-49cf-a2c8-69e3a8bc4da3",
   "metadata": {},
   "outputs": [],
   "source": []
  }
 ],
 "metadata": {
  "kernelspec": {
   "display_name": "Python 3 (ipykernel)",
   "language": "python",
   "name": "python3"
  },
  "language_info": {
   "codemirror_mode": {
    "name": "ipython",
    "version": 3
   },
   "file_extension": ".py",
   "mimetype": "text/x-python",
   "name": "python",
   "nbconvert_exporter": "python",
   "pygments_lexer": "ipython3",
   "version": "3.12.2"
  }
 },
 "nbformat": 4,
 "nbformat_minor": 5
}
