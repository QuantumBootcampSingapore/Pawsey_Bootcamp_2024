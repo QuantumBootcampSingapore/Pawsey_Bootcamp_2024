{
 "cells": [
  {
   "cell_type": "markdown",
   "id": "26e6b477-f634-42e0-9e7d-e51ac0e81edb",
   "metadata": {},
   "source": [
    "### 1) Qiskit - TSP"
   ]
  },
  {
   "cell_type": "code",
   "execution_count": 1,
   "id": "96ba87fe-1013-4210-97e4-bd4f1349c0c6",
   "metadata": {},
   "outputs": [],
   "source": [
    "# https://qiskit-community.github.io/qiskit-optimization/tutorials/06_examples_max_cut_and_tsp.html"
   ]
  },
  {
   "cell_type": "code",
   "execution_count": 2,
   "id": "82b1bda9",
   "metadata": {},
   "outputs": [
    {
     "name": "stdout",
     "output_type": "stream",
     "text": [
      "Requirement already satisfied: qiskit_optimization in /Users/dikshantdulal/opt/anaconda3/envs/aws_braket/lib/python3.10/site-packages (0.6.1)\n",
      "Requirement already satisfied: qiskit>=0.44 in /Users/dikshantdulal/opt/anaconda3/envs/aws_braket/lib/python3.10/site-packages (from qiskit_optimization) (1.0.2)\n",
      "Requirement already satisfied: qiskit-algorithms>=0.2.0 in /Users/dikshantdulal/opt/anaconda3/envs/aws_braket/lib/python3.10/site-packages (from qiskit_optimization) (0.3.0)\n",
      "Requirement already satisfied: scipy>=1.9.0 in /Users/dikshantdulal/opt/anaconda3/envs/aws_braket/lib/python3.10/site-packages (from qiskit_optimization) (1.11.4)\n",
      "Requirement already satisfied: numpy>=1.17 in /Users/dikshantdulal/opt/anaconda3/envs/aws_braket/lib/python3.10/site-packages (from qiskit_optimization) (1.26.2)\n",
      "Requirement already satisfied: docplex!=2.24.231,>=2.21.207 in /Users/dikshantdulal/opt/anaconda3/envs/aws_braket/lib/python3.10/site-packages (from qiskit_optimization) (2.25.236)\n",
      "Requirement already satisfied: setuptools>=40.1.0 in /Users/dikshantdulal/opt/anaconda3/envs/aws_braket/lib/python3.10/site-packages (from qiskit_optimization) (68.2.2)\n",
      "Requirement already satisfied: networkx>=2.6.3 in /Users/dikshantdulal/opt/anaconda3/envs/aws_braket/lib/python3.10/site-packages (from qiskit_optimization) (3.2.1)\n",
      "Requirement already satisfied: six in /Users/dikshantdulal/opt/anaconda3/envs/aws_braket/lib/python3.10/site-packages (from docplex!=2.24.231,>=2.21.207->qiskit_optimization) (1.16.0)\n",
      "Requirement already satisfied: rustworkx>=0.14.0 in /Users/dikshantdulal/opt/anaconda3/envs/aws_braket/lib/python3.10/site-packages (from qiskit>=0.44->qiskit_optimization) (0.14.1)\n",
      "Requirement already satisfied: sympy>=1.3 in /Users/dikshantdulal/opt/anaconda3/envs/aws_braket/lib/python3.10/site-packages (from qiskit>=0.44->qiskit_optimization) (1.12)\n",
      "Requirement already satisfied: dill>=0.3 in /Users/dikshantdulal/opt/anaconda3/envs/aws_braket/lib/python3.10/site-packages (from qiskit>=0.44->qiskit_optimization) (0.3.8)\n",
      "Requirement already satisfied: python-dateutil>=2.8.0 in /Users/dikshantdulal/opt/anaconda3/envs/aws_braket/lib/python3.10/site-packages (from qiskit>=0.44->qiskit_optimization) (2.8.2)\n",
      "Requirement already satisfied: stevedore>=3.0.0 in /Users/dikshantdulal/opt/anaconda3/envs/aws_braket/lib/python3.10/site-packages (from qiskit>=0.44->qiskit_optimization) (5.2.0)\n",
      "Requirement already satisfied: typing-extensions in /Users/dikshantdulal/opt/anaconda3/envs/aws_braket/lib/python3.10/site-packages (from qiskit>=0.44->qiskit_optimization) (4.9.0)\n",
      "Requirement already satisfied: symengine>=0.11 in /Users/dikshantdulal/opt/anaconda3/envs/aws_braket/lib/python3.10/site-packages (from qiskit>=0.44->qiskit_optimization) (0.11.0)\n",
      "Requirement already satisfied: pbr!=2.1.0,>=2.0.0 in /Users/dikshantdulal/opt/anaconda3/envs/aws_braket/lib/python3.10/site-packages (from stevedore>=3.0.0->qiskit>=0.44->qiskit_optimization) (6.0.0)\n",
      "Requirement already satisfied: mpmath>=0.19 in /Users/dikshantdulal/opt/anaconda3/envs/aws_braket/lib/python3.10/site-packages (from sympy>=1.3->qiskit>=0.44->qiskit_optimization) (1.3.0)\n"
     ]
    }
   ],
   "source": [
    "! pip install qiskit_optimization"
   ]
  },
  {
   "cell_type": "code",
   "execution_count": 3,
   "id": "7950dd83-2378-4fd4-9ad6-db5dedf0559a",
   "metadata": {},
   "outputs": [],
   "source": [
    "import pennylane as qml\n",
    "\n",
    "from pennylane import qaoa\n",
    "from pennylane import numpy as np\n",
    "\n",
    "import networkx as nx\n",
    "\n",
    "from itertools import permutations\n",
    "\n",
    "from qiskit_optimization.applications import Tsp\n",
    "\n",
    "from qiskit_optimization.converters import QuadraticProgramToQubo\n",
    "\n",
    "import matplotlib.pyplot as plt\n"
   ]
  },
  {
   "cell_type": "markdown",
   "id": "88edacd2",
   "metadata": {},
   "source": [
    "## Introduction: Solving the Traveling Salesman Problem\n",
    "\n",
    "Consider the task of finding the shortest cycle within a graph $G=(V,E)$, where $V$ represents the set of nodes with $n=|V|$ elements and $w_{ij}$ signifies the distance between vertex $i$ and vertex $j$. \n",
    "\n",
    "### Mathematical Formulation\n",
    "\n",
    "A  cycle is characterized by $N^2$ variables $x_{i,p}$, where $i$ denotes the node and $p$ denotes its position in the prospective cycle. Each decision variable takes a value of 1 if the solution involves node $i$ at time step $p$. \n",
    "\n",
    "Constraints are imposed to ensure that each node appears exactly once in the cycle, and at each time step, a node must be visited. These constraints can be succinctly represented as:\n",
    "\n",
    "$$\\sum_{i} x_{i,p} = 1 ~~\\forall p$$\n",
    "$$\\sum_{p} x_{i,p} = 1 ~~\\forall i.$$\n",
    "\n",
    "### Node Connectivity Considerations\n",
    "\n",
    "Within the prospective ordering of nodes, a penalty is incurred if both $x_{i,p}$ and $x_{j,p+1}$ are set to 1 but nodes $i$ and $j$ are not connected in the graph ($i,j \\notin E$). This penalty, representing the lack of connectivity, is mathematically expressed as:\n",
    "\n",
    "$$\\sum_{i,j\\notin E}\\sum_{p} x_{i,p}x_{j,p+1}>0.$$\n",
    "\n",
    "For simplicity, we assume a fully connected graph, thus omitting this penalty term.\n",
    "\n",
    "### Objective Function\n",
    "\n",
    "Minimization of the distance traveled along the Hamiltonian cycle is the primary objective. The distance function $C(\\textbf{x})$ is given by:\n",
    "\n",
    "$$C(\\textbf{x})=\\sum_{i,j}w_{ij}\\sum_{p} x_{i,p}x_{j,p+1}.$$\n",
    "\n",
    "To unify constraints and the objective function, we introduce a single objective function to minimize:\n",
    "\n",
    "$$C(\\textbf{x})=\\sum_{i,j}w_{ij}\\sum_{p} x_{i,p}x_{j,p+1}+ A\\sum_p\\left(1- \\sum_i x_{i,p}\\right)^2+A\\sum_i\\left(1- \\sum_p x_{i,p}\\right)^2,$$\n",
    "\n",
    "where $A$ serves as a free parameter ensuring constraint satisfaction. Setting $A > \\mathrm{max}(w_{ij})$ guarantees constraint enforcement."
   ]
  },
  {
   "cell_type": "markdown",
   "id": "68df8e78-f8f1-4654-8e43-2988a5e558d7",
   "metadata": {},
   "source": [
    "## Helper Functions to visualize the graph"
   ]
  },
  {
   "cell_type": "code",
   "execution_count": 4,
   "id": "090ede1a-1638-47c6-99ed-39bd4134c77d",
   "metadata": {},
   "outputs": [],
   "source": [
    "def draw_graph(graph, colors, positions):\n",
    "    \"\"\"\n",
    "    Draw a graph with nodes colored according to specified colors and labeled with edge weights.\n",
    "\n",
    "    Args:\n",
    "        graph (nx.Graph): The graph to be drawn.\n",
    "        colors (list): List of node colors.\n",
    "        positions (dict): Dictionary mapping nodes to their positions.\n",
    "\n",
    "    Returns:\n",
    "        None\n",
    "    \"\"\"\n",
    "    default_axes = plt.axes(frameon=True)\n",
    "    \n",
    "    # Draw the networkx graph\n",
    "    nx.draw_networkx(graph, \n",
    "                     pos=positions,\n",
    "                     ax=default_axes,\n",
    "                     node_color=colors, \n",
    "                     node_size=600, \n",
    "                     alpha=0.8)\n",
    "    \n",
    "    # Get edge labels\n",
    "    edge_labels = nx.get_edge_attributes(graph, \"weight\")\n",
    "    \n",
    "    # Draw edge labels\n",
    "    nx.draw_networkx_edge_labels(graph,\n",
    "                                 pos=positions, \n",
    "                                 edge_labels=edge_labels)\n",
    "\n"
   ]
  },
  {
   "cell_type": "code",
   "execution_count": 5,
   "id": "ecb352c9",
   "metadata": {},
   "outputs": [],
   "source": [
    "def draw_tsp_solution(graph, order, colors, positions):\n",
    "    \"\"\"\n",
    "    Draw a solution for the Traveling Salesman Problem (TSP).\n",
    "\n",
    "    Args:\n",
    "        graph (nx.Graph): The graph representing the TSP.\n",
    "        order (tuple): The order of nodes to visit.\n",
    "        colors (list): List of node colors.\n",
    "        positions (dict): Dictionary mapping nodes to their positions.\n",
    "\n",
    "    Returns:\n",
    "        None\n",
    "    \"\"\"\n",
    "    digraph = nx.DiGraph()\n",
    "    digraph.add_nodes_from(graph)\n",
    "    graph_size = len(order)\n",
    "    \n",
    "    # Add edges to the directed graph based on the order of nodes\n",
    "    for index_a in range(graph_size):\n",
    "        index_b = (index_a + 1) % graph_size\n",
    "        node_a = order[index_a]\n",
    "        node_b = order[index_b]\n",
    "        weight = graph[node_a][node_b][\"weight\"]\n",
    "        digraph.add_edge(node_a, node_b, weight=weight)\n",
    "        \n",
    "    default_axes = plt.axes(frameon=True)\n",
    "    \n",
    "    # Draw the directed graph\n",
    "    nx.draw_networkx(\n",
    "        digraph,\n",
    "        pos=positions,\n",
    "        ax=default_axes,\n",
    "        node_color=colors, \n",
    "        edge_color=\"b\", \n",
    "        node_size=600, \n",
    "        alpha=0.8)\n",
    "    \n",
    "    # Get edge labels\n",
    "    edge_labels = nx.get_edge_attributes(digraph, \"weight\")\n",
    "    \n",
    "    # Draw edge labels\n",
    "    nx.draw_networkx_edge_labels(\n",
    "        digraph, \n",
    "        positions, \n",
    "        font_color=\"b\", \n",
    "        edge_labels=edge_labels)\n"
   ]
  },
  {
   "cell_type": "markdown",
   "id": "75ca92b4",
   "metadata": {},
   "source": [
    "## Create a random instance of a graph"
   ]
  },
  {
   "cell_type": "code",
   "execution_count": 6,
   "id": "12a8c882-f394-494a-885e-a3a7f6f09188",
   "metadata": {},
   "outputs": [
    {
     "name": "stdout",
     "output_type": "stream",
     "text": [
      "distances:\n",
      "[[ 0. 48. 91.]\n",
      " [48.  0. 63.]\n",
      " [91. 63.  0.]]\n"
     ]
    }
   ],
   "source": [
    "# Random Graph\n",
    "\n",
    "NODES_COUNT = 3\n",
    "\n",
    "qubits_count = NODES_COUNT ** 2\n",
    "\n",
    "tsp = Tsp.create_random_instance(NODES_COUNT, seed=123)\n",
    "\n",
    "graph = tsp.graph\n",
    "\n",
    "distances = nx.to_numpy_array(graph)\n",
    "\n",
    "print(\"distances:\")\n",
    "print(distances)"
   ]
  },
  {
   "cell_type": "code",
   "execution_count": 7,
   "id": "d4ae13f5-1e7d-4737-88c0-e9f80843606b",
   "metadata": {},
   "outputs": [
    {
     "data": {
      "image/png": "[encoded data removed]",
      "text/plain": [
       "<Figure size 640x480 with 1 Axes>"
      ]
     },
     "metadata": {},
     "output_type": "display_data"
    }
   ],
   "source": [
    "# Graph\n",
    "\n",
    "colors = [\"r\" for node in graph.nodes]\n",
    "\n",
    "positions = [tsp.graph.nodes[node][\"pos\"] for node in graph.nodes]\n",
    "\n",
    "draw_graph(graph, colors, positions)"
   ]
  },
  {
   "cell_type": "markdown",
   "id": "e02b4278",
   "metadata": {},
   "source": [
    "## Solve TSP classically with brute force method"
   ]
  },
  {
   "cell_type": "code",
   "execution_count": 8,
   "id": "a89f5eeb",
   "metadata": {},
   "outputs": [],
   "source": [
    "def brute_force_tsp(distances, nodes_count):\n",
    "    \"\"\"\n",
    "    Solve the Traveling Salesman Problem (TSP) using brute force.\n",
    "\n",
    "    Args:\n",
    "        distances (dict): Dictionary containing distances between nodes.\n",
    "        nodes_count (int): Number of nodes in the graph.\n",
    "\n",
    "    Returns:\n",
    "        tuple: A tuple containing the best order of nodes to visit and the corresponding distance.\n",
    "    \"\"\"\n",
    "    nodes_permutations = list(permutations(range(1, nodes_count)))\n",
    "    best_distance = float('inf')\n",
    "    \n",
    "    # Iterate through all permutations of nodes\n",
    "    for nodes in nodes_permutations:\n",
    "        nodes_a = (0,) + nodes\n",
    "        nodes_b = nodes + (0,)\n",
    "        \n",
    "        node_pairs = list(zip(nodes_a, nodes_b))\n",
    "        \n",
    "        # Calculate the distance for the current order of nodes\n",
    "        distance = sum(distances[node_a, node_b] for node_a, node_b in node_pairs)\n",
    "        \n",
    "        order = (0,) + nodes\n",
    "        \n",
    "        # Update the best distance and order if the current distance is shorter\n",
    "        if distance < best_distance:\n",
    "            best_order = order\n",
    "            best_distance = distance\n",
    "            \n",
    "    return best_order, best_distance "
   ]
  },
  {
   "cell_type": "code",
   "execution_count": 9,
   "id": "fe991243-e897-4ef7-83b5-bae9e88c7860",
   "metadata": {
    "tags": []
   },
   "outputs": [
    {
     "name": "stdout",
     "output_type": "stream",
     "text": [
      "best_order: (0, 1, 2)\n",
      "best_distance: 202.0\n"
     ]
    }
   ],
   "source": [
    "# Brute Force\n",
    "\n",
    "best_order, best_distance = brute_force_tsp(distances, NODES_COUNT)\n",
    "\n",
    "print(\"best_order:\", best_order)\n",
    "print(\"best_distance:\", best_distance)"
   ]
  },
  {
   "cell_type": "code",
   "execution_count": 10,
   "id": "00b4a7e9-8ba6-4453-a376-19da05a9cd64",
   "metadata": {},
   "outputs": [
    {
     "data": {
      "image/png": "[encoded data removed]",
      "text/plain": [
       "<Figure size 640x480 with 1 Axes>"
      ]
     },
     "metadata": {},
     "output_type": "display_data"
    }
   ],
   "source": [
    "draw_tsp_solution(graph, best_order, colors, positions)"
   ]
  },
  {
   "cell_type": "markdown",
   "id": "c9498b0f-e989-4b23-9dbc-188eda770d81",
   "metadata": {},
   "source": [
    "## QUBO formulation of the problem"
   ]
  },
  {
   "cell_type": "code",
   "execution_count": 11,
   "id": "e15fa29e-79d9-4a27-bddd-0594fe85036d",
   "metadata": {},
   "outputs": [
    {
     "name": "stdout",
     "output_type": "stream",
     "text": [
      "Problem name: TSP\n",
      "\n",
      "Minimize\n",
      "  48*x_0_0*x_1_1 + 48*x_0_0*x_1_2 + 91*x_0_0*x_2_1 + 91*x_0_0*x_2_2\n",
      "  + 48*x_0_1*x_1_0 + 48*x_0_1*x_1_2 + 91*x_0_1*x_2_0 + 91*x_0_1*x_2_2\n",
      "  + 48*x_0_2*x_1_0 + 48*x_0_2*x_1_1 + 91*x_0_2*x_2_0 + 91*x_0_2*x_2_1\n",
      "  + 63*x_1_0*x_2_1 + 63*x_1_0*x_2_2 + 63*x_1_1*x_2_0 + 63*x_1_1*x_2_2\n",
      "  + 63*x_1_2*x_2_0 + 63*x_1_2*x_2_1\n",
      "\n",
      "Subject to\n",
      "  Linear constraints (6)\n",
      "    x_0_0 + x_0_1 + x_0_2 == 1  'c0'\n",
      "    x_1_0 + x_1_1 + x_1_2 == 1  'c1'\n",
      "    x_2_0 + x_2_1 + x_2_2 == 1  'c2'\n",
      "    x_0_0 + x_1_0 + x_2_0 == 1  'c3'\n",
      "    x_0_1 + x_1_1 + x_2_1 == 1  'c4'\n",
      "    x_0_2 + x_1_2 + x_2_2 == 1  'c5'\n",
      "\n",
      "  Binary variables (9)\n",
      "    x_0_0 x_0_1 x_0_2 x_1_0 x_1_1 x_1_2 x_2_0 x_2_1 x_2_2\n",
      "\n"
     ]
    }
   ],
   "source": [
    "quadratic_program = tsp.to_quadratic_program()\n",
    "\n",
    "print(quadratic_program.prettyprint())"
   ]
  },
  {
   "cell_type": "code",
   "execution_count": 12,
   "id": "822429f9-3076-4532-a579-029607ac0767",
   "metadata": {},
   "outputs": [],
   "source": [
    "# # QUBO Matrix\n",
    "\n",
    "# constant = quadratic_program.objective.constant\n",
    "\n",
    "# linear = quadratic_program.objective.linear.to_array()\n",
    "\n",
    "# quadratic = quadratic_program.objective.quadratic.to_array()\n",
    "\n",
    "# qubo_matrix = quadratic + np.diag(linear) + constant\n",
    "\n",
    "# qubo_matrix.astype(int)"
   ]
  },
  {
   "cell_type": "code",
   "execution_count": 13,
   "id": "0a17504b-2b6a-4727-a267-bb720be91638",
   "metadata": {},
   "outputs": [
    {
     "name": "stdout",
     "output_type": "stream",
     "text": [
      "offset: 7581.0\n"
     ]
    }
   ],
   "source": [
    "converter = QuadraticProgramToQubo()\n",
    "\n",
    "qubo = converter.convert(quadratic_program)\n",
    "\n",
    "tsp_qiskit_hamiltonian, offset = qubo.to_ising()\n",
    "\n",
    "print(\"offset:\", offset)\n",
    "# print(\"tsp_qiskit_hamiltonian:\")\n",
    "# print(str(tsp_qiskit_hamiltonian))"
   ]
  },
  {
   "cell_type": "markdown",
   "id": "0e937610-e260-4396-b5d1-084b4b9741a0",
   "metadata": {},
   "source": [
    "## Qiskit to Pennylane Hamiltonian"
   ]
  },
  {
   "cell_type": "code",
   "execution_count": 14,
   "id": "70791c71-a4bd-4cf3-9451-7baa806d6e1f",
   "metadata": {},
   "outputs": [],
   "source": [
    "# https://discuss.pennylane.ai/t/problem-with-hamiltonian-from-qiskit-to-pennylane/3682/7"
   ]
  },
  {
   "cell_type": "code",
   "execution_count": 15,
   "id": "1dccf0ac-e3f8-46f2-a050-10469bacdbf3",
   "metadata": {},
   "outputs": [],
   "source": [
    "def qiskit_to_pennylane_hamiltonian(qiskit_hamiltonian):\n",
    "      \n",
    "    pauli_list, coefficients = qiskit_hamiltonian.paulis, qiskit_hamiltonian.coeffs\n",
    "\n",
    "    pauli_list = [p.to_label() for p in pauli_list] # Convert Pauli(str) objects to str\n",
    "    coefficients = [c.real for c in coefficients] # Convert numpy floats to python floats\n",
    "\n",
    "        \n",
    "    print(\"qiskit pauli_list:\", pauli_list)\n",
    "    print(\"qiskit coefficients:\", coefficients)\n",
    "\n",
    "    # Qiskit Little endian to Pennylane Big endian mapping\n",
    "    \n",
    "    wire_map = {}\n",
    "    \n",
    "    qubits_count = qiskit_hamiltonian.num_qubits\n",
    "    \n",
    "    for qubit in range(qubits_count):\n",
    "        \n",
    "        wire_map[qubits_count - qubit - 1] = qubit \n",
    "        \n",
    "    # Pennylane Hamiltonian\n",
    "    pauli_operations = [qml.pauli.string_to_pauli_word(word, wire_map=wire_map) \n",
    "                        for word in pauli_list]\n",
    "    \n",
    "    pennylane_hamiltonian = qml.Hamiltonian(coefficients, pauli_operations)\n",
    "    \n",
    "    print(\"pennylane_hamiltonian:\", pennylane_hamiltonian)\n",
    "    \n",
    "    return pennylane_hamiltonian "
   ]
  },
  {
   "cell_type": "code",
   "execution_count": 16,
   "id": "263de7c0-09af-4f84-a8e1-aa03b5bd9fb6",
   "metadata": {},
   "outputs": [
    {
     "name": "stdout",
     "output_type": "stream",
     "text": [
      "qiskit pauli_list: ['IIIIIIIIZ', 'IIIIIIIZI', 'IIIIIIZII', 'IIIIIZIII', 'IIIIZIIII', 'IIIZIIIII', 'IIZIIIIII', 'IZIIIIIII', 'ZIIIIIIII', 'IIIIIIIZZ', 'IIIIIIZIZ', 'IIIIIZIIZ', 'IIIIZIIIZ', 'IIIZIIIIZ', 'IIZIIIIIZ', 'IZIIIIIIZ', 'ZIIIIIIIZ', 'IIIIIIZZI', 'IIIIIZIZI', 'IIIIZIIZI', 'IIIZIIIZI', 'IIZIIIIZI', 'IZIIIIIZI', 'ZIIIIIIZI', 'IIIIIZZII', 'IIIIZIZII', 'IIIZIIZII', 'IIZIIIZII', 'IZIIIIZII', 'ZIIIIIZII', 'IIIIZZIII', 'IIIZIZIII', 'IIZIIZIII', 'IZIIIZIII', 'ZIIIIZIII', 'IIIZZIIII', 'IIZIZIIII', 'IZIIZIIII', 'ZIIIZIIII', 'IIZZIIIII', 'IZIZIIIII', 'ZIIZIIIII', 'IZZIIIIII', 'ZIZIIIIII', 'ZZIIIIIII']\n",
      "qiskit coefficients: [-1282.5, -1282.5, -1282.5, -1268.5, -1268.5, -1268.5, -1290.0, -1290.0, -1290.0, 606.5, 606.5, 606.5, 12.0, 12.0, 606.5, 22.75, 22.75, 606.5, 12.0, 606.5, 12.0, 22.75, 606.5, 22.75, 12.0, 12.0, 606.5, 22.75, 22.75, 606.5, 606.5, 606.5, 606.5, 15.75, 15.75, 606.5, 15.75, 606.5, 15.75, 15.75, 15.75, 606.5, 606.5, 606.5, 606.5]\n",
      "pennylane_hamiltonian:   (-1290.0) [Z6]\n",
      "+ (-1290.0) [Z7]\n",
      "+ (-1290.0) [Z8]\n",
      "+ (-1282.5) [Z0]\n",
      "+ (-1282.5) [Z1]\n",
      "+ (-1282.5) [Z2]\n",
      "+ (-1268.5) [Z3]\n",
      "+ (-1268.5) [Z4]\n",
      "+ (-1268.5) [Z5]\n",
      "+ (12.0) [Z4 Z0]\n",
      "+ (12.0) [Z5 Z0]\n",
      "+ (12.0) [Z3 Z1]\n",
      "+ (12.0) [Z5 Z1]\n",
      "+ (12.0) [Z3 Z2]\n",
      "+ (12.0) [Z4 Z2]\n",
      "+ (15.75) [Z7 Z3]\n",
      "+ (15.75) [Z8 Z3]\n",
      "+ (15.75) [Z6 Z4]\n",
      "+ (15.75) [Z8 Z4]\n",
      "+ (15.75) [Z6 Z5]\n",
      "+ (15.75) [Z7 Z5]\n",
      "+ (22.75) [Z7 Z0]\n",
      "+ (22.75) [Z8 Z0]\n",
      "+ (22.75) [Z6 Z1]\n",
      "+ (22.75) [Z8 Z1]\n",
      "+ (22.75) [Z6 Z2]\n",
      "+ (22.75) [Z7 Z2]\n",
      "+ (606.5) [Z1 Z0]\n",
      "+ (606.5) [Z2 Z0]\n",
      "+ (606.5) [Z3 Z0]\n",
      "+ (606.5) [Z6 Z0]\n",
      "+ (606.5) [Z2 Z1]\n",
      "+ (606.5) [Z4 Z1]\n",
      "+ (606.5) [Z7 Z1]\n",
      "+ (606.5) [Z5 Z2]\n",
      "+ (606.5) [Z8 Z2]\n",
      "+ (606.5) [Z4 Z3]\n",
      "+ (606.5) [Z5 Z3]\n",
      "+ (606.5) [Z6 Z3]\n",
      "+ (606.5) [Z5 Z4]\n",
      "+ (606.5) [Z7 Z4]\n",
      "+ (606.5) [Z8 Z5]\n",
      "+ (606.5) [Z7 Z6]\n",
      "+ (606.5) [Z8 Z6]\n",
      "+ (606.5) [Z8 Z7]\n"
     ]
    }
   ],
   "source": [
    "tsp_pennylane_hamiltonian = qiskit_to_pennylane_hamiltonian(tsp_qiskit_hamiltonian)"
   ]
  },
  {
   "cell_type": "code",
   "execution_count": 17,
   "id": "663ef86e-08bf-4181-8815-ba0a2de70611",
   "metadata": {},
   "outputs": [
    {
     "name": "stdout",
     "output_type": "stream",
     "text": [
      "the smallest eigenvalue: -7379.0\n"
     ]
    },
    {
     "data": {
      "image/png": "[encoded data removed]",
      "text/plain": [
       "<Figure size 640x480 with 1 Axes>"
      ]
     },
     "metadata": {},
     "output_type": "display_data"
    }
   ],
   "source": [
    "# eigenvalues = np.diag(qml.matrix(tsp_pennylane_hamiltonian))\n",
    "eigenvalues = np.linalg.eigvals(qml.matrix(tsp_pennylane_hamiltonian))\n",
    "print(\"the smallest eigenvalue:\", min(eigenvalues.real))\n",
    "\n",
    "#plot histogram of the eigenvalues\n",
    "plt.hist(eigenvalues.real, bins=40)\n",
    "plt.show()"
   ]
  },
  {
   "cell_type": "markdown",
   "id": "2ca0670a-3feb-47eb-a31a-548dad9da0d9",
   "metadata": {},
   "source": [
    "## Solve TSP with pennylane"
   ]
  },
  {
   "cell_type": "code",
   "execution_count": 18,
   "id": "977c0520-819b-4654-a7de-256044c6887a",
   "metadata": {},
   "outputs": [
    {
     "name": "stdout",
     "output_type": "stream",
     "text": [
      "<Hamiltonian: terms=45, wires=[0, 1, 2, 3, 4, 5, 6, 7, 8]>\n"
     ]
    }
   ],
   "source": [
    "tsp_pennylane_hamiltonian"
   ]
  },
  {
   "cell_type": "code",
   "execution_count": 19,
   "id": "cea29266",
   "metadata": {},
   "outputs": [],
   "source": [
    "def get_mixer_hamiltonian(qubits_count):\n",
    "    \"\"\"\n",
    "    Constructs the mixer Hamiltonian for the QAOA circuit.\n",
    "\n",
    "    This function generates a mixer Hamiltonian composed of Pauli-X observables\n",
    "    acting on each qubit with uniform coefficients.\n",
    "\n",
    "    Args:\n",
    "        qubits_count (int): Number of qubits in the system.\n",
    "\n",
    "    Returns:\n",
    "        qml.Hamiltonian: Mixer Hamiltonian for the QAOA circuit.\n",
    "    \"\"\"\n",
    "    coefficients = [1] * qubits_count\n",
    "    observables = [qml.PauliX(qubit) for qubit in range(qubits_count)]\n",
    "    \n",
    "    mixer_hamiltonian = qml.Hamiltonian(\n",
    "        coeffs=coefficients,\n",
    "        observables=observables\n",
    "    )\n",
    "    \n",
    "    return mixer_hamiltonian"
   ]
  },
  {
   "cell_type": "code",
   "execution_count": 20,
   "id": "52b8bed9",
   "metadata": {},
   "outputs": [
    {
     "name": "stdout",
     "output_type": "stream",
     "text": [
      "Cost Hamiltonian:   (-1290.0) [Z6]\n",
      "+ (-1290.0) [Z7]\n",
      "+ (-1290.0) [Z8]\n",
      "+ (-1282.5) [Z0]\n",
      "+ (-1282.5) [Z1]\n",
      "+ (-1282.5) [Z2]\n",
      "+ (-1268.5) [Z3]\n",
      "+ (-1268.5) [Z4]\n",
      "+ (-1268.5) [Z5]\n",
      "+ (12.0) [Z4 Z0]\n",
      "+ (12.0) [Z5 Z0]\n",
      "+ (12.0) [Z3 Z1]\n",
      "+ (12.0) [Z5 Z1]\n",
      "+ (12.0) [Z3 Z2]\n",
      "+ (12.0) [Z4 Z2]\n",
      "+ (15.75) [Z7 Z3]\n",
      "+ (15.75) [Z8 Z3]\n",
      "+ (15.75) [Z6 Z4]\n",
      "+ (15.75) [Z8 Z4]\n",
      "+ (15.75) [Z6 Z5]\n",
      "+ (15.75) [Z7 Z5]\n",
      "+ (22.75) [Z7 Z0]\n",
      "+ (22.75) [Z8 Z0]\n",
      "+ (22.75) [Z6 Z1]\n",
      "+ (22.75) [Z8 Z1]\n",
      "+ (22.75) [Z6 Z2]\n",
      "+ (22.75) [Z7 Z2]\n",
      "+ (606.5) [Z1 Z0]\n",
      "+ (606.5) [Z2 Z0]\n",
      "+ (606.5) [Z3 Z0]\n",
      "+ (606.5) [Z6 Z0]\n",
      "+ (606.5) [Z2 Z1]\n",
      "+ (606.5) [Z4 Z1]\n",
      "+ (606.5) [Z7 Z1]\n",
      "+ (606.5) [Z5 Z2]\n",
      "+ (606.5) [Z8 Z2]\n",
      "+ (606.5) [Z4 Z3]\n",
      "+ (606.5) [Z5 Z3]\n",
      "+ (606.5) [Z6 Z3]\n",
      "+ (606.5) [Z5 Z4]\n",
      "+ (606.5) [Z7 Z4]\n",
      "+ (606.5) [Z8 Z5]\n",
      "+ (606.5) [Z7 Z6]\n",
      "+ (606.5) [Z8 Z6]\n",
      "+ (606.5) [Z8 Z7]\n",
      "Mixer Hamiltonian:   (1) [X0]\n",
      "+ (1) [X1]\n",
      "+ (1) [X2]\n",
      "+ (1) [X3]\n",
      "+ (1) [X4]\n",
      "+ (1) [X5]\n",
      "+ (1) [X6]\n",
      "+ (1) [X7]\n",
      "+ (1) [X8]\n"
     ]
    }
   ],
   "source": [
    "cost_hamiltonian = tsp_pennylane_hamiltonian\n",
    "mixer_hamiltonian = get_mixer_hamiltonian(qubits_count)\n",
    "\n",
    "print(\"Cost Hamiltonian:\", cost_hamiltonian)\n",
    "print(\"Mixer Hamiltonian:\", mixer_hamiltonian)"
   ]
  },
  {
   "cell_type": "code",
   "execution_count": 21,
   "id": "e8aaec6f-296e-405f-9ce9-4841a90ac5a4",
   "metadata": {},
   "outputs": [],
   "source": [
    "QAOA_LAYERS_COUNT = 4\n",
    "VQE_LAYERS_COUNT = 4\n",
    "\n",
    "STEPS_COUNT = 300\n",
    "\n",
    "np.random.seed(2)\n",
    "qubits_count = len(tsp_pennylane_hamiltonian.wires)\n",
    "\n",
    "qubits = list(range(qubits_count))\n",
    "\n",
    "qml_device = qml.device(\"default.qubit\", wires=qubits)"
   ]
  },
  {
   "cell_type": "markdown",
   "id": "58eb54b0",
   "metadata": {},
   "source": [
    "## QAOA "
   ]
  },
  {
   "cell_type": "code",
   "execution_count": 22,
   "id": "a80ef0e9",
   "metadata": {},
   "outputs": [],
   "source": [
    "# Functions\n",
    "def qaoa_layer(gamma, alpha):\n",
    "    \"\"\"\n",
    "    Builds a single layer of the Quantum Approximate Optimization Algorithm (QAOA) circuit.\n",
    "\n",
    "    Args:\n",
    "        gamma (float): The parameter for the cost layer.\n",
    "        alpha (float): The parameter for the mixer layer.\n",
    "\n",
    "    Returns:\n",
    "        None\n",
    "    \"\"\"\n",
    "    qaoa.cost_layer(gamma, cost_hamiltonian)\n",
    "    qaoa.mixer_layer(alpha, mixer_hamiltonian)\n",
    "\n",
    "\n",
    "def qaoa_circuit(gammas, alphas):\n",
    "    \"\"\"\n",
    "    Constructs the Quantum Approximate Optimization Algorithm (QAOA) circuit.\n",
    "\n",
    "    This function builds the QAOA circuit by applying Hadamard gates to each qubit\n",
    "    and then stacking QAOA layers composed of cost and mixer layers.\n",
    "\n",
    "    Args:\n",
    "        gammas (list): List of parameters for the cost layer.\n",
    "        alphas (list): List of parameters for the mixer layer.\n",
    "\n",
    "    Returns:\n",
    "        None\n",
    "    \"\"\"\n",
    "    for qubit in qubits:\n",
    "        qml.Hadamard(wires=qubit)\n",
    "        \n",
    "    qml.layer(qaoa_layer, QAOA_LAYERS_COUNT, gammas, alphas)\n",
    "\n",
    "\n",
    "@qml.qnode(qml_device)\n",
    "def cost_function_qaoa(gammas, alphas):\n",
    "    \"\"\"\n",
    "    Evaluates the cost function of the Quantum Approximate Optimization Algorithm (QAOA).\n",
    "\n",
    "    This function constructs the QAOA circuit with the provided parameters and calculates\n",
    "    the expectation value of the cost Hamiltonian.\n",
    "\n",
    "    Args:\n",
    "        gammas (list): List of parameters for the cost layer.\n",
    "        alphas (list): List of parameters for the mixer layer.\n",
    "\n",
    "    Returns:\n",
    "        float: Expectation value of the cost Hamiltonian.\n",
    "    \"\"\"\n",
    "    qaoa_circuit(gammas, alphas) \n",
    "    res = qml.expval(cost_hamiltonian)   \n",
    "    return res\n",
    "\n",
    "@qml.qnode(qml_device)\n",
    "def sample_qaoa_probabilities(gammas, alphas):\n",
    "    \"\"\"\n",
    "    Samples the probabilities of the Quantum Approximate Optimization Algorithm (QAOA) circuit outcomes.\n",
    "\n",
    "    This function constructs the QAOA circuit with the provided parameters and returns\n",
    "    the probability distribution of measurement outcomes.\n",
    "\n",
    "    Args:\n",
    "        gammas (list): List of parameters for the cost layer.\n",
    "        alphas (list): List of parameters for the mixer layer.\n",
    "\n",
    "    Returns:\n",
    "        numpy.ndarray: Probability distribution of measurement outcomes.\n",
    "    \"\"\"\n",
    "    qaoa_circuit(gammas, alphas)\n",
    "    return qml.probs(wires=qubits)"
   ]
  },
  {
   "cell_type": "markdown",
   "id": "db11454f",
   "metadata": {},
   "source": [
    "## VQE code"
   ]
  },
  {
   "cell_type": "code",
   "execution_count": 23,
   "id": "d90cd302",
   "metadata": {},
   "outputs": [],
   "source": [
    "def vqe_circuit(params):\n",
    "    \"\"\"\n",
    "    Constructs the Variational Quantum Eigensolver (VQE) circuit.\n",
    "\n",
    "    This function uses qml.StronglyEntanglingLayers to create a variational circuit\n",
    "    with the specified number of layers and parameters.\n",
    "\n",
    "    Args:\n",
    "        params (list): List of variational parameters.\n",
    "        nlayers (int): Number of layers in the circuit.\n",
    "\n",
    "    Returns:\n",
    "        None\n",
    "    \"\"\"\n",
    "    qml.StronglyEntanglingLayers(weights=params, wires= qubits)\n",
    "    \n",
    "\n",
    "@qml.qnode(qml_device)\n",
    "def cost_function_vqe(params):\n",
    "    \"\"\"\n",
    "    Evaluates the cost function of the Variational Quantum Eigensolver (VQE).\n",
    "\n",
    "    This function constructs the VQE circuit with the provided parameters and calculates\n",
    "    the expectation value of the cost Hamiltonian.\n",
    "\n",
    "    Args:\n",
    "        params (list): List of variational parameters.\n",
    "\n",
    "    Returns:\n",
    "        float: Expectation value of the cost Hamiltonian.\n",
    "    \"\"\"\n",
    "    vqe_circuit(params) \n",
    "    res = qml.expval(cost_hamiltonian)   \n",
    "    return res\n",
    "\n",
    "@qml.qnode(qml_device)\n",
    "def sample_vqe_probabilities(params):\n",
    "    \"\"\"\n",
    "    Samples the probabilities of the Variational Quantum Eigensolver (VQE) circuit outcomes.\n",
    "\n",
    "    This function constructs the VQE circuit with the provided parameters and returns\n",
    "    the probability distribution of measurement outcomes.\n",
    "\n",
    "    Args:\n",
    "        params (list): List of variational parameters.\n",
    "\n",
    "    Returns:\n",
    "        numpy.ndarray: Probability distribution of measurement outcomes.\n",
    "    \"\"\"\n",
    "    vqe_circuit(params)\n",
    "    return qml.probs(wires=qubits)"
   ]
  },
  {
   "cell_type": "code",
   "execution_count": 24,
   "id": "4dcea546",
   "metadata": {},
   "outputs": [],
   "source": [
    "def get_mixer_hamiltonian(qubits_count):\n",
    "    \"\"\"\n",
    "    Constructs the mixer Hamiltonian for the QAOA circuit.\n",
    "\n",
    "    This function generates a mixer Hamiltonian composed of Pauli-X observables\n",
    "    acting on each qubit with uniform coefficients.\n",
    "\n",
    "    Args:\n",
    "        qubits_count (int): Number of qubits in the system.\n",
    "\n",
    "    Returns:\n",
    "        qml.Hamiltonian: Mixer Hamiltonian for the QAOA circuit.\n",
    "    \"\"\"\n",
    "    coefficients = [1] * qubits_count\n",
    "    observables = [qml.PauliX(qubit) for qubit in range(qubits_count)]\n",
    "    \n",
    "    mixer_hamiltonian = qml.Hamiltonian(\n",
    "        coeffs=coefficients,\n",
    "        observables=observables\n",
    "    )\n",
    "    \n",
    "    return mixer_hamiltonian"
   ]
  },
  {
   "cell_type": "code",
   "execution_count": 25,
   "id": "1de0c67e",
   "metadata": {},
   "outputs": [],
   "source": [
    "# optimizer = qml.SPSAOptimizer(maxiter=STEPS_COUNT)\n",
    "optimizer = qml.AdamOptimizer()"
   ]
  },
  {
   "cell_type": "code",
   "execution_count": 26,
   "id": "f7aa3d70-8fee-4c30-82db-d306a0fd29f0",
   "metadata": {},
   "outputs": [],
   "source": [
    "# gammas = np.array([0.2] * QAOA_LAYERS_COUNT, requires_grad=True)\n",
    "# alphas = np.array([0.2] * QAOA_LAYERS_COUNT, requires_grad=True)\n",
    "\n",
    "# list_cost = []\n",
    "\n",
    "# for step in range(STEPS_COUNT):\n",
    "#     print(f\"Step {step}/{STEPS_COUNT}\", end=\"\\r\")\n",
    "#     (gammas, alphas), curr_cost = optimizer.step_and_cost(cost_function_qaoa, gammas, alphas)\n",
    "#     list_qaoa_cost.append(curr_cost)\n",
    "\n",
    "# print(\"Optimal Parameters\")\n",
    "# print(gammas, alphas)"
   ]
  },
  {
   "cell_type": "code",
   "execution_count": 27,
   "id": "0dd1d27a",
   "metadata": {},
   "outputs": [
    {
     "name": "stdout",
     "output_type": "stream",
     "text": [
      "Optimal cost: -6236.085932409262\n"
     ]
    }
   ],
   "source": [
    "vqe_params_shape = qml.StronglyEntanglingLayers.shape(n_layers=VQE_LAYERS_COUNT, n_wires=qubits_count)\n",
    "vqe_params = np.random.random(size=vqe_params_shape)\n",
    "\n",
    "list_cost = []\n",
    "\n",
    "for step in range(STEPS_COUNT):\n",
    "    print(f\"Step {step}/{STEPS_COUNT}\", end=\"\\r\")\n",
    "    vqe_params, curr_cost = optimizer.step_and_cost(cost_function_vqe, vqe_params)\n",
    "    list_cost.append(curr_cost)\n",
    "\n",
    "print(\"Optimal cost:\", curr_cost)"
   ]
  },
  {
   "cell_type": "code",
   "execution_count": 28,
   "id": "906cd7c4",
   "metadata": {},
   "outputs": [
    {
     "data": {
      "image/png": "[encoded data removed]",
      "text/plain": [
       "<Figure size 640x480 with 1 Axes>"
      ]
     },
     "metadata": {},
     "output_type": "display_data"
    }
   ],
   "source": [
    "plt.plot(list_cost)\n",
    "plt.xlabel(\"Steps\")\n",
    "plt.ylabel(\"Cost\")\n",
    "plt.title(\"TSP optimization\")\n",
    "plt.show()"
   ]
  },
  {
   "cell_type": "code",
   "execution_count": 29,
   "id": "bf42f1de-59ea-47ca-89c0-54b3a3af34de",
   "metadata": {},
   "outputs": [
    {
     "data": {
      "text/plain": [
       "(512,)"
      ]
     },
     "execution_count": 29,
     "metadata": {},
     "output_type": "execute_result"
    }
   ],
   "source": [
    "# probabilities = sample_qaoa_probabilities(gammas, alphas)\n",
    "probabilities = sample_vqe_probabilities(vqe_params)\n",
    "probabilities.shape"
   ]
  },
  {
   "cell_type": "code",
   "execution_count": 30,
   "id": "1fced58a-ffaf-4427-86c2-732af815feb0",
   "metadata": {},
   "outputs": [],
   "source": [
    "# States\n",
    "\n",
    "states_count = 2 ** qubits_count\n",
    "\n",
    "states = list(range(states_count))\n",
    "\n",
    "label_pattern = f\"0{qubits_count}b\"\n",
    "\n",
    "state_labels = [f\"{state:{label_pattern}}\" for state in states]"
   ]
  },
  {
   "cell_type": "code",
   "execution_count": 31,
   "id": "e0efab9d-734a-4b83-9868-2ec0592a26f2",
   "metadata": {},
   "outputs": [],
   "source": [
    "optimal_state_probabilities = dict(zip(state_labels, probabilities.tolist()))"
   ]
  },
  {
   "cell_type": "code",
   "execution_count": 32,
   "id": "3cdaa558-a960-4779-aabb-c5062011cac6",
   "metadata": {},
   "outputs": [
    {
     "data": {
      "text/plain": [
       "{'001100010': 0.5005064395012012,\n",
       " '000010001': 0.4992605570481031,\n",
       " '000100000': 9.538799795465385e-05,\n",
       " '001010011': 8.362276752115731e-05,\n",
       " '100000011': 1.452676329745731e-05,\n",
       " '101110000': 1.4526435643589758e-05,\n",
       " '100100010': 1.2127259235881121e-05,\n",
       " '101010001': 1.2126973198739632e-05,\n",
       " '100100011': 2.5872221847532416e-07,\n",
       " '101010000': 2.5871328573414783e-07}"
      ]
     },
     "execution_count": 32,
     "metadata": {},
     "output_type": "execute_result"
    }
   ],
   "source": [
    "sorted_optimal_probs = dict(sorted(optimal_state_probabilities.items(), \n",
    "                                         key=lambda item: -item[1]))\n",
    "\n",
    "top_optimal_state_probs = dict(list(sorted_optimal_probs.items())[:10])\n",
    "\n",
    "top_optimal_state_probs"
   ]
  },
  {
   "cell_type": "code",
   "execution_count": 33,
   "id": "7d657557-767a-4545-b5ae-f3cd78fef681",
   "metadata": {},
   "outputs": [
    {
     "data": {
      "image/png": "[encoded data removed]",
      "text/plain": [
       "<Figure size 640x480 with 1 Axes>"
      ]
     },
     "metadata": {},
     "output_type": "display_data"
    }
   ],
   "source": [
    "# Plot Results\n",
    "\n",
    "TICK_PERIOD = 20\n",
    "\n",
    "plt.title(\"TSP\")\n",
    "plt.xlabel(\"State\")\n",
    "plt.ylabel(\"Probability\")\n",
    "\n",
    "plt.bar(state_labels, probabilities)\n",
    "\n",
    "plt.xticks(states[::TICK_PERIOD], \n",
    "           state_labels[::TICK_PERIOD], \n",
    "           rotation=\"vertical\")\n",
    "\n",
    "plt.show()"
   ]
  }
 ],
 "metadata": {
  "kernelspec": {
   "display_name": "Python 3 (ipykernel)",
   "language": "python",
   "name": "python3"
  },
  "language_info": {
   "codemirror_mode": {
    "name": "ipython",
    "version": 3
   },
   "file_extension": ".py",
   "mimetype": "text/x-python",
   "name": "python",
   "nbconvert_exporter": "python",
   "pygments_lexer": "ipython3",
   "version": "3.10.0"
  }
 },
 "nbformat": 4,
 "nbformat_minor": 5
}
