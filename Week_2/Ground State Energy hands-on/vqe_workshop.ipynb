{
 "cells": [
  {
   "attachments": {},
   "cell_type": "markdown",
   "metadata": {},
   "source": [
    "## Introduction\n",
    "**Author: Dikshant Dulal** \n",
    "\n",
    "This tutorial will guide you through the process of simulating the ground state energy of the simple molecule $H_2$. Initially, I will provide an explanation of the UCCSD ansatz and demonstrate how to construct it using the language of second quantization and subsequently converting it into the language of Pauli operators. Subsequently, I will demonstrate the utilization of the UCCSD ansatz for simulating the ground state energy of the $H_2$ molecule.\n",
    "\n",
    "Within this section, our discussion on the UCCSD ansatz is based on the paper by [Barkoutsos et al. (2018)](https://arxiv.org/abs/1805.04340). The UCCSD ansatz involves a unitary operator with adjustable parameters denoted as $\\boldsymbol{\\theta}$. This operator comprises two components: one responsible for generating single excitations (transferring one electron from an occupied orbital to an unoccupied orbital) and another for generating double excitations (transferring two electrons from occupied orbitals to unoccupied orbitals).\n",
    "The wavefunction can be written as \n",
    "$$ |\\Psi \\rangle = U(\\theta) |HF \\rangle$$\n",
    "where $|HF\\rangle$ is the reference state (for example the Hartree-Fock solution). See this more for [reference](https://arxiv.org/pdf/1701.02691.pdf). The unitary operator $U(\\theta)$ is given by\n",
    "$$U(\\boldsymbol{\\theta}) = e^{\\hat{T}(\\boldsymbol{\\theta}) - \\hat{T}^\\dagger(\\boldsymbol{\\theta})}$$\n",
    "\n",
    "Here, \n",
    "\n",
    "$$\\hat{T}(\\boldsymbol{\\theta})  = \\hat{T}_1(\\boldsymbol{\\theta}) + \\hat{T}_2(\\boldsymbol{\\theta}) + \\ldots + \\hat{T}_n(\\boldsymbol{\\theta})$$ \n",
    "\n",
    "is the excitation operator up to the $n^\\text{th}$ order where $\\hat{T}_k(\\boldsymbol{\\theta)}$ excites $k$ number of electrons from occupied orbital to unoccupied orbital. The single and double excitations are given by \n",
    "\n",
    "$$\n",
    "\\begin{aligned}\n",
    "    \\hat{T}_1(\\boldsymbol{\\theta)} &=   \\sum_{k;i}\n",
    "                                        \\theta_k^i\n",
    "                                        \\hat{c}_i^\\dagger \\hat{c}_k \\\\\n",
    "%\n",
    "    \\hat{T}_2(\\boldsymbol{\\theta)} &=   \\sum_{k,l;i,j}\n",
    "                                        \\theta_{k,l}^{i,j}\n",
    "                                        \\hat{c}_i^\\dagger \\hat{c}_j^\\dagger \\hat{c}_k \\hat{c}_l             \n",
    "\\end{aligned}\n",
    "$$\n",
    "\n",
    "and $\\boldsymbol{\\theta} = \\{ \\{\\theta_k^i\\},  \\{ \\theta_{k,l}^{i,j} \\}, \\ldots\\}$ are coefficients for all excitations. Up to the double excitation the unitary ansatz becomes \n",
    "\\begin{align*}\n",
    "     U(\\boldsymbol{\\theta}) &= \\mathrm{exp} \n",
    "            \\Big\\{\\hat{T_1}(\\boldsymbol{\\theta}) - \n",
    "                  \\hat{T_1}^\\dagger(\\boldsymbol{\\theta}) \n",
    "            +     \n",
    "            \\hat{T_2}(\\boldsymbol{\\theta}) - \n",
    "                \\hat{T_2}^\\dagger(\\boldsymbol{\\theta})\n",
    "            \\Big\\} \\\\ \n",
    "     &= \\mathrm{exp} \n",
    "            \\Big\\{\\sum_{ki}\n",
    "                            \\theta_{ki}\n",
    "                            (\\hat{c}_i^\\dagger \\hat{c}_k - \\hat{c}_k^\\dagger \\hat{c}_i) \n",
    "                + \\sum_{klij}\n",
    "                            \\theta_{klij}\n",
    "                            (\\hat{c}_i^\\dagger \\hat{c}_j^\\dagger \\hat{c}_k \\hat{c}_l\n",
    "                            - \\hat{c}_l^\\dagger \\hat{c}_k^\\dagger \\hat{c}_j\\hat{c}_i)\n",
    "            \\Big\\}\n",
    "\\end{align*}\n",
    "Since implementation of exponentiatial of hamiltonian with non-commuting terms on a quantum computer is not possible, we will have to use the trotterization decomposition.\n",
    "Using the trotter approximation up to the first order\n",
    "$e^{\\hat{A}+\\hat{B}} \\approx e^{\\hat{A}} e^{\\hat{B}}$ [see proof here](https://en.wikipedia.org/wiki/Baker%E2%80%93Campbell%E2%80%93Hausdorff_formula) where $\\hat{A} = \n",
    "        \\hat{T}_1(\\boldsymbol{\\theta}) - \n",
    "        \\hat{T}_1^\\dagger(\\boldsymbol{\\theta})$ \n",
    "and  $\\hat{B} = \n",
    "        \\hat{T}_2(\\boldsymbol{\\theta}) - \n",
    "        \\hat{T}_2^\\dagger(\\boldsymbol{\\theta}).$\n",
    "\n",
    "\\begin{align*}\n",
    "     U(\\boldsymbol{\\theta}) &= \n",
    "            \\mathrm{exp} \n",
    "            \\Big\\{\\sum_{ki}\n",
    "                            \\theta_{ki}\n",
    "                            (\\hat{c}_i^\\dagger \\hat{c}_k - \\hat{c}_k^\\dagger \\hat{c}_i) \n",
    "            \\Big\\} \\text{ }\n",
    "            \\mathrm{exp} \n",
    "            %\n",
    "            \\Big\\{\n",
    "            \\sum_{klij}\n",
    "                            \\theta_{klij}\n",
    "                            (\\hat{c}_i^\\dagger \\hat{c}_j^\\dagger \\hat{c}_k \\hat{c}_l\n",
    "                            - \\hat{c}_l^\\dagger \\hat{c}_k^\\dagger \\hat{c}_j\\hat{c}_i)\n",
    "            \\Big\\}\n",
    "\\end{align*}\n",
    "\n",
    "\n",
    "Using the first-trotterization decomposition again  we can write\n",
    "\n",
    "$$\n",
    "\\hat{U}(\\boldsymbol{\\theta}) =\n",
    "        \\prod_{i > k} \\mathrm{exp} \n",
    "        \\Big\\{\\theta_{ki}\n",
    "        (\\hat{c}_i^\\dagger \\hat{c}_k-\\mathrm{c.t.}) \\Big\\}\n",
    "        \\prod_{i > j > k > l} \\mathrm{exp} \n",
    "        \\Big\\{\\theta_{klij}\n",
    "        (\\hat{c}_i^\\dagger \\hat{c}_j^\\dagger \\hat{c}_k \\hat{c}_l-\\mathrm{c.t.}) \n",
    "        \\Big\\}\n",
    "$$\n",
    "\n",
    "The initial component consists of a series of exponential terms involving operators such as $\\hat{c}_i^\\dagger \\hat{c}_k$ and its conjugate transpose. Here, $\\hat{c}$ and $\\hat{c}^\\dagger$ represent the fermionic annihilation and creation operators, while $i$ and $k$ are indices corresponding to unoccupied and occupied orbitals, respectively. The subsequent component follows a similar structure but involves operators like $\\hat{c}_i^\\dagger \\hat{c}_j^\\dagger \\hat{c}_k \\hat{c}_l$ and its Hermitian conjugate. In this case, $i$ and $j$ represent indices for unoccupied orbitals, while $k$ and $l$ represent indices for occupied orbitals. The parameters to be optimized are $\\theta_{ik}$ and $\\theta_{ijkl}$, which correspond to the coupled-cluster amplitudes for each single and double excitation operation, respectively.\n",
    "\n",
    "Our objective is to convert the fermionic creation and annihilation operators into Pauli operators, which can be implemented on a quantum computer. For this purpose, we can employ a mapping known as the Jordan-Wigner transformation.\n",
    "\n",
    "$$\n",
    "\\begin{aligned} \n",
    "    \\hat{a}_j &= \n",
    "        1^{\\otimes j} \\otimes \\frac{1}{2}(\\hat{X} + i\\hat{Y}) \\otimes \\hat{Z}^{\\otimes N-j-1} \n",
    "        \\\\\n",
    "    \\hat{a}^\\dagger_j &= 1^{\\otimes j} \\otimes \\frac{1}{2}(\\hat{X} - i\\hat{Y}) \\otimes \\hat{Z}^{\\otimes N-j-1}\n",
    "    % \\label{eq:JordanWigner}\n",
    "\\end{aligned} \n",
    "$$\n",
    "\n",
    "where $X_j$, $Y_j$, and $Z_j$ are Pauli matrices acting on qubit $j$. Subsituting the Jordan-Wigner transformation into the coupled-cluster ansatz, we obtain\n",
    "$$\n",
    "\\begin{aligned}\n",
    "    \\hat{U}(\\boldsymbol{\\theta}) &= \\prod_{i > k} \\mathrm{exp} \\Big\\{ \\frac{i\\theta_{ki}}{2}\n",
    "        \\bigotimes_{a=k+1}^{i-1} \\hat{Z}_a (\\hat{Y}_k \\hat{X}_i - \\mathrm{c.t.}) \\Big\\} \\\\  \n",
    "        & \\prod_{i > j > k > l} \\mathrm{exp} \\Big\\{ \\frac{i\\theta_{klij}}{8}\n",
    "        \\bigotimes_{b=l+1}^{k-1} \\hat{Z}_b \\bigotimes_{a=j+1}^{i-1}\n",
    "        \\hat{Z}_a (\\hat{X}_l \\hat{X}_k \\hat{Y}_j \\hat{X}_i + \n",
    "        \\hat{Y}_l \\hat{X}_k \\hat{Y}_j \\hat{Y}_i +\n",
    "        \\hat{X}_l \\hat{Y}_k \\hat{Y}_j \\hat{Y}_i +\n",
    "        \\hat{X}_l \\hat{X}_k \\hat{X}_j \\hat{Y}_i -\n",
    "        \\{\\mathrm{c.t.}\\}) \\Big\\}.\n",
    "\\end{aligned}\n",
    "$$\n",
    "\n"
   ]
  },
  {
   "attachments": {},
   "cell_type": "markdown",
   "metadata": {},
   "source": [
    "### Construction of the Hamiltonian of $H_2$ molecule\n",
    "First we need access to the 1D array of nuclear coordinates of the molecule in atomic units. Molecular orbitals are typically represented as a linear combination of atomic orbitals. The expansion coefficients in the atomic basis are calculated using the Hartree-Fock (HF) method. In the HF approximation, each electron in the molecule is treated as an independent particle that moves under the influence of the Coulomb potential due to the nuclei, and a mean field generated by all other electrons 3. The optimized coefficients are precisely what we need to build the second-quantized Hamiltonian then we pass that information to our Jordan-Wigner transformation function to obtain the qubit Hamiltonian.\n",
    "\n",
    "For this example, we use a [minimal basis\n",
    "set](https://en.wikipedia.org/wiki/STO-nG_basis_sets) to represent the\n",
    "[molecular orbitals](https://en.wikipedia.org/wiki/Molecular_orbital)."
   ]
  },
  {
   "cell_type": "code",
   "execution_count": 1,
   "metadata": {},
   "outputs": [],
   "source": [
    "# uncomment and run this\n",
    "# ! pip install pennylane"
   ]
  },
  {
   "cell_type": "code",
   "execution_count": 2,
   "metadata": {},
   "outputs": [],
   "source": [
    "from pennylane import numpy as np\n",
    "import pennylane as qml\n",
    "\n",
    "# MOLECULAR PARAMETERS\n",
    "SYMBOLS = [\"H\", \"H\"]\n",
    "COORDINATES = np.array([0.0, 0.0, -0.6614, 0.0, 0.0, 0.6614])\n",
    "\n",
    "# MOLECULAR HAMILTONIAN\n",
    "HAMILTONIAN, QUBITS = qml.qchem.molecular_hamiltonian(SYMBOLS, COORDINATES, basis='sto-3g')\n",
    "\n",
    "#PENNYLANE DEVICE\n",
    "DEVICE = qml.device(\"default.qubit\", wires=QUBITS)\n",
    "# DEVICE = qml.device(\"braket.local.qubit\", wires=qubits)"
   ]
  },
  {
   "cell_type": "code",
   "execution_count": 3,
   "metadata": {},
   "outputs": [
    {
     "name": "stdout",
     "output_type": "stream",
     "text": [
      "Number of qubits =  4\n",
      "The Hamiltonian is    (-0.2427450126094144) [Z2]\n",
      "+ (-0.2427450126094144) [Z3]\n",
      "+ (-0.042072551947439224) [I0]\n",
      "+ (0.1777135822909176) [Z0]\n",
      "+ (0.1777135822909176) [Z1]\n",
      "+ (0.12293330449299361) [Z0 Z2]\n",
      "+ (0.12293330449299361) [Z1 Z3]\n",
      "+ (0.16768338855601356) [Z0 Z3]\n",
      "+ (0.16768338855601356) [Z1 Z2]\n",
      "+ (0.17059759276836803) [Z0 Z1]\n",
      "+ (0.1762766139418181) [Z2 Z3]\n",
      "+ (-0.044750084063019925) [Y0 Y1 X2 X3]\n",
      "+ (-0.044750084063019925) [X0 X1 Y2 Y3]\n",
      "+ (0.044750084063019925) [Y0 X1 X2 Y3]\n",
      "+ (0.044750084063019925) [X0 Y1 Y2 X3]\n",
      "Number of terms in the Hamiltonian =  15\n"
     ]
    }
   ],
   "source": [
    "#read the moleculear hamiltonian from the nuclear coordinates.\n",
    "print(\"Number of qubits = \", QUBITS)\n",
    "print(\"The Hamiltonian is \", HAMILTONIAN)\n",
    "print(\"Number of terms in the Hamiltonian = \", len(HAMILTONIAN.ops))"
   ]
  },
  {
   "attachments": {},
   "cell_type": "markdown",
   "metadata": {},
   "source": [
    "### Preparation of the circuit: \n",
    "\n",
    "### Bonus: Useful links\n",
    "- [pennylane aws-braket example](https://pennylane.ai/blog/2022/12/computing-adjoint-gradients-with-amazon-braket-sv1/\n",
    ")\n",
    "- [Adjoint gradient computation with braket](https://github.com/amazon-braket/amazon-braket-examples/blob/main/examples/pennylane/6_Adjoint_gradient_computation/6_Adjoint_gradient_computation.ipynb)"
   ]
  },
  {
   "attachments": {},
   "cell_type": "markdown",
   "metadata": {},
   "source": [
    "First, we must establish the quantum arrangement that readies the experimental condition of the molecule. Our goal is to create states in the following manner:\n",
    "\n",
    "$$| \\Psi(\\theta) \\rangle = \\cos(\\theta/2)~|1100\\rangle -\\sin(\\theta/2)~|0011\\rangle,$$\n",
    "Note that we prepare our wavefunction as above since our wavefunction can be written as sum of two states $|\\psi\\rangle = \\cos(\\frac{\\theta}{2})|\\tilde{0}\\rangle + \\sin(\\frac{\\theta}{2})e^{i\\phi}|\\tilde{1}\\rangle$ where each value of $\\theta$ and $\\phi$ corresponds to a unique state in the bloch sphere where $0 \\leq \\phi < 2\\pi$, $0 \\leq \\theta \\leq \\pi$.\n",
    "\n",
    "Here $\\theta$ symbolizes the adjustable parameter that we will optimize to obtain the most accurate approximation of the actual ground state. Within the Jordan-Wigner encoding framework, the initial term $|1100\\rangle$ represents the [Hartree-Fock (HF) state](https://en.wikipedia.org/wiki/Hartree%E2%80%93Fock_method), in which the two electrons in the molecule occupy the orbitals with the lowest energy. The second term $|0011\\rangle$ encodes a double excitation of the HF state, where the two particles are excited from qubits 0 and 1 to qubits 2 and 3.\n",
    "\n",
    "The gate G^(2) corresponds to the Givens rotation, refer more about it here on [DoubleExcitation](https://docs.pennylane.ai/en/stable/_modules/pennylane/ops/qubit/qchem_ops.html#DoubleExcitation). This operation is specifically used to couple the states |1100⟩ and |0011⟩ of the four-qubit system. Implementing the circuit above using PennyLane is straightforward.\n",
    "First, we use the `hf_state` function to\n",
    "generate the vector representing the Hartree-Fock state, the information of which is passed to the `BasisState` function."
   ]
  },
  {
   "cell_type": "code",
   "execution_count": 4,
   "metadata": {},
   "outputs": [
    {
     "name": "stdout",
     "output_type": "stream",
     "text": [
      "[1 1 0 0]\n"
     ]
    }
   ],
   "source": [
    "ELECTRONS = 2\n",
    "HF = qml.qchem.hf_state(ELECTRONS, QUBITS)\n",
    "print(HF)"
   ]
  },
  {
   "cell_type": "code",
   "execution_count": 5,
   "metadata": {},
   "outputs": [],
   "source": [
    "# define the circuit\n",
    "def circuit(params, wires):\n",
    "    qml.BasisState(HF, wires=wires)\n",
    "    qml.DoubleExcitation(params[0], wires=wires)\n",
    "\n",
    "# then we define the objective energy to be minimized\n",
    "@qml.qnode(DEVICE, interface=\"autograd\")\n",
    "def objective(parameter):\n",
    "    circuit(parameter, wires=range(QUBITS))\n",
    "    return qml.expval(HAMILTONIAN)"
   ]
  },
  {
   "cell_type": "code",
   "execution_count": 6,
   "metadata": {},
   "outputs": [
    {
     "name": "stdout",
     "output_type": "stream",
     "text": [
      "Step = 0,  Energy = -1.12799983 Ha\n",
      "Step = 2,  Energy = -1.13466246 Ha\n",
      "Step = 4,  Energy = -1.13590595 Ha\n",
      "\n",
      "Final value of the ground-state energy = -1.13590595 Ha\n",
      "\n",
      "Optimal value of the circuit parameter = 0.1841\n"
     ]
    }
   ],
   "source": [
    "# store the values of the cost function\n",
    "OPTIMIZER = qml.GradientDescentOptimizer(stepsize=0.4)\n",
    "\n",
    "theta = np.array([0.0], requires_grad=True)\n",
    "\n",
    "energy = [objective(theta)]\n",
    "\n",
    "# store the values of the circuit parameter\n",
    "angle = [theta]\n",
    "\n",
    "MAX_ITERATIONS = 5\n",
    "CONV_TOL = 1e-06\n",
    "\n",
    "for n in range(MAX_ITERATIONS):\n",
    "    theta, prev_energy = OPTIMIZER.step_and_cost(objective, theta)\n",
    "\n",
    "    energy.append(objective(theta))\n",
    "    angle.append(theta)\n",
    "\n",
    "    conv = np.abs(energy[-1] - prev_energy)\n",
    "\n",
    "    if n % 2 == 0:\n",
    "        print(f\"Step = {n},  Energy = {energy[-1]:.8f} Ha\")\n",
    "\n",
    "    if conv <= CONV_TOL:\n",
    "        break\n",
    "\n",
    "print(\"\\n\" f\"Final value of the ground-state energy = {energy[-1]:.8f} Ha\")\n",
    "print(\"\\n\" f\"Optimal value of the circuit parameter = {angle[-1][0]:.4f}\")"
   ]
  },
  {
   "cell_type": "code",
   "execution_count": 7,
   "metadata": {},
   "outputs": [
    {
     "data": {
      "image/png": "[encoded data removed]",
      "text/plain": [
       "<Figure size 1200x500 with 2 Axes>"
      ]
     },
     "metadata": {},
     "output_type": "display_data"
    }
   ],
   "source": [
    "#visualization of the outcome. \n",
    "import matplotlib.pyplot as plt\n",
    "\n",
    "fig = plt.figure()\n",
    "fig.set_figheight(5)\n",
    "fig.set_figwidth(12)\n",
    "\n",
    "# Full configuration interaction (FCI) energy computed classically\n",
    "E_fci = -1.136189454088\n",
    "\n",
    "# Add energy plot on column 1\n",
    "ax1 = fig.add_subplot(121)\n",
    "ax1.plot(range(n + 2), energy, \"go\", ls=\"dashed\")\n",
    "ax1.plot(range(n + 2), np.full(n + 2, E_fci), color=\"red\")\n",
    "ax1.set_xlabel(\"Optimization step\", fontsize=13)\n",
    "ax1.set_ylabel(\"Energy (Hartree)\", fontsize=13)\n",
    "ax1.text(0.5, -1.1176, r\"$E_\\mathrm{HF}$\", fontsize=15)\n",
    "ax1.text(0, -1.1357, r\"$E_\\mathrm{FCI}$\", fontsize=15)\n",
    "plt.xticks(fontsize=12)\n",
    "plt.yticks(fontsize=12)\n",
    "\n",
    "# Add angle plot on column 2\n",
    "ax2 = fig.add_subplot(122)\n",
    "ax2.plot(range(n + 2), angle, \"go\", ls=\"dashed\")\n",
    "ax2.set_xlabel(\"Optimization step\", fontsize=13)\n",
    "ax2.set_ylabel(\"Gate parameter $\\\\theta$ (rad)\", fontsize=13)\n",
    "plt.xticks(fontsize=12)\n",
    "plt.yticks(fontsize=12)\n",
    "\n",
    "plt.subplots_adjust(wspace=0.3, bottom=0.2)\n",
    "plt.show()"
   ]
  },
  {
   "attachments": {},
   "cell_type": "markdown",
   "metadata": {},
   "source": [
    "In this particular scenario, the VQE algorithm demonstrates convergence after thirteen iterations. The optimal value of the circuit parameter, 𝜃* = 0.208, defines the state:\n",
    "\n",
    "|Ψ(𝜃*)⟩ = 0.994|1100⟩ - 0.104|0011⟩\n",
    "\n",
    "This state corresponds precisely to the ground state of the H2 molecule within the minimal basis set approximation.\n",
    "\n",
    "Conclusion\n",
    "----------\n",
    "\n",
    "Throughout this tutorial, we successfully implemented the VQE algorithm to determine the ground state of a hydrogen molecule. By employing a straightforward circuit, we were able to prepare quantum states of the molecule beyond the Hartree-Fock approximation. The ground-state energy was obtained by minimizing a cost function defined as the expectation value of the molecular Hamiltonian in the trial state.\n",
    "\n",
    "Refer to the tutorials on [molecular geometry optimization](https://pennylane.ai/qml/demos/tutorial_mol_geo_opt.html) and [VQE in different spin sectors](https://pennylane.ai/qml/demos/tutorial_vqe_spin_sectors.html) to get an idea of how VQE can be useful for molecular simulation."
   ]
  },
  {
   "cell_type": "markdown",
   "metadata": {},
   "source": [
    "### Running hybrid jobs\n"
   ]
  },
  {
   "cell_type": "code",
   "execution_count": 8,
   "metadata": {},
   "outputs": [],
   "source": [
    "from braket.tracking import Tracker\n",
    "from braket.aws import AwsDevice\n",
    "from braket.devices import Devices\n",
    "from braket.jobs import hybrid_job\n",
    "from braket.jobs.metrics import log_metric\n",
    "\n",
    "\n",
    "# BRAKET DEVICE\n",
    "DEVICE_ARN = Devices.Amazon.SV1\n",
    "AWS_DEVICE = AwsDevice(DEVICE_ARN)\n",
    "\n",
    "# BRAKET HYBRID JOB\n",
    "@hybrid_job(device=DEVICE_ARN)\n",
    "def hybrid_job_qchem(steps_count=MAX_ITERATIONS):\n",
    "    braket_cost_tracker = Tracker().start()\n",
    "\n",
    "    # INITIALIZATION\n",
    "    QML_DEVICE = qml.device(\"braket.aws.qubit\", device_arn=DEVICE_ARN.value, wires=QUBITS)\n",
    "    INITIAL_PARAMETERS = np.array([0.0])\n",
    "\n",
    "    # CIRCUIT\n",
    "    @qml.qnode(QML_DEVICE)\n",
    "    def circuit(parameters):\n",
    "        qml.BasisState(HF, wires=range(QUBITS))\n",
    "        qml.DoubleExcitation(parameters[0], wires=range(QUBITS))\n",
    "        return qml.expval(HAMILTONIAN)\n",
    "\n",
    "    # OPTIMIZATION\n",
    "    costs = []\n",
    "    parameters = INITIAL_PARAMETERS\n",
    "\n",
    "    for step in range(steps_count):\n",
    "        parameters, cost = OPTIMIZER.step_and_cost(circuit, parameters)\n",
    "        costs.append(cost)\n",
    "\n",
    "        # BRAKET TASK COST\n",
    "        braket_task_cost = float(braket_cost_tracker.qpu_tasks_cost() + braket_cost_tracker.simulator_tasks_cost())\n",
    "\n",
    "        # LOG OPTIMIZATION COST\n",
    "        log_metric(metric_name=\"optimization_cost\", value=cost, iteration_number=step)\n",
    "\n",
    "        # LOG BRAKET COST\n",
    "        log_metric(metric_name=\"braket_cost\", value=braket_task_cost, iteration_number=step)\n",
    "\n",
    "    results = {\"parameters\": parameters, \"costs\": costs, \"braket_tasks_cost(USD)\": braket_task_cost}\n",
    "\n",
    "    return results\n"
   ]
  },
  {
   "cell_type": "code",
   "execution_count": 9,
   "metadata": {},
   "outputs": [],
   "source": [
    "# RUN THE HYBRID JOB\n",
    "job = hybrid_job_qchem(steps_count=MAX_ITERATIONS)\n"
   ]
  },
  {
   "cell_type": "code",
   "execution_count": 10,
   "metadata": {},
   "outputs": [
    {
     "data": {
      "text/plain": [
       "'QUEUED'"
      ]
     },
     "execution_count": 10,
     "metadata": {},
     "output_type": "execute_result"
    }
   ],
   "source": [
    "job.state()"
   ]
  },
  {
   "cell_type": "code",
   "execution_count": 11,
   "metadata": {},
   "outputs": [],
   "source": [
    "if job.state() == 'COMPLETED':\n",
    "    print(job.result())"
   ]
  }
 ],
 "metadata": {
  "kernelspec": {
   "display_name": "pytorch_m1",
   "language": "python",
   "name": "python3"
  },
  "language_info": {
   "codemirror_mode": {
    "name": "ipython",
    "version": 3
   },
   "file_extension": ".py",
   "mimetype": "text/x-python",
   "name": "python",
   "nbconvert_exporter": "python",
   "pygments_lexer": "ipython3",
   "version": "3.10.0"
  },
  "orig_nbformat": 4
 },
 "nbformat": 4,
 "nbformat_minor": 2
}
