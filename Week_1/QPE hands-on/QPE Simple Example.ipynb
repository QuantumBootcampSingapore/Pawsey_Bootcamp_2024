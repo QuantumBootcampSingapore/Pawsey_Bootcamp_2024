{
 "cells": [
  {
   "cell_type": "markdown",
   "id": "85f4a6ad-e7d1-4943-9408-0c01d2264b66",
   "metadata": {},
   "source": [
    "# Import Libraries"
   ]
  },
  {
   "cell_type": "code",
   "execution_count": 1,
   "id": "a5253e7d-7472-4774-bb20-3447e992806a",
   "metadata": {
    "tags": []
   },
   "outputs": [],
   "source": [
    "import braket\n",
    "from braket.circuits import Circuit\n",
    "from braket.devices import LocalSimulator\n",
    "\n",
    "import numpy as np\n",
    "import matplotlib.pyplot as plt\n",
    "\n",
    "plt.style.use(\"dark_background\")"
   ]
  },
  {
   "cell_type": "markdown",
   "id": "2acb4542-a163-4ed5-bcdd-d605b9ef72b1",
   "metadata": {},
   "source": [
    "# Needed functions"
   ]
  },
  {
   "cell_type": "markdown",
   "id": "b03a3b51-1005-4cd9-8e78-202deae249f8",
   "metadata": {},
   "source": [
    "As we have gone through, we need the inverse QFT for this algorithm!"
   ]
  },
  {
   "cell_type": "code",
   "execution_count": 2,
   "id": "2f3b0834-1079-4b4c-8787-84cba98019d6",
   "metadata": {
    "tags": []
   },
   "outputs": [],
   "source": [
    "def build_aws_qft_circuit(qubits_count):\n",
    "    \n",
    "    qubits = list(range(qubits_count))\n",
    "    \n",
    "    circuit = Circuit()\n",
    "    \n",
    "    # Add Hadamards and Controlled RZs\n",
    "    \n",
    "    for target_qubit in qubits:\n",
    "        for control_qubit in range(target_qubit, qubits_count):\n",
    "            if control_qubit == target_qubit:\n",
    "                circuit.h(control_qubit)\n",
    "            else:\n",
    "                theta = np.pi / 2 ** (control_qubit - target_qubit)\n",
    "                circuit.cphaseshift(control_qubit, target_qubit, theta)\n",
    "                \n",
    "    # Add SWAPs\n",
    "    \n",
    "    for qubit_index in range(qubits_count // 2):\n",
    "        reversed_qubit_index = -qubit_index - 1\n",
    "        circuit.swap(qubits[qubit_index], \n",
    "                     qubits[reversed_qubit_index])\n",
    "                \n",
    "    return circuit"
   ]
  },
  {
   "cell_type": "markdown",
   "id": "29329dc5-af46-491c-8458-5ff7d5ced93e",
   "metadata": {},
   "source": [
    "# The Problem For QPE"
   ]
  },
  {
   "cell_type": "markdown",
   "id": "640a4e37-606f-4767-bb18-25e323d90c22",
   "metadata": {},
   "source": [
    "Given a unitary matrix $U$ and a quantum state $|u\\rangle$, where the quantum state is a eigenstate of the unitary matrix $U$ such that :\n",
    "\n",
    "$$ U |u\\rangle = e^{2π𝑖𝜑}|u\\rangle $$\n",
    "\n",
    "We want to find $𝜑$."
   ]
  },
  {
   "cell_type": "markdown",
   "id": "5d825228-afd6-439d-9486-9fe6fb9952d7",
   "metadata": {},
   "source": [
    "# Simple Example:"
   ]
  },
  {
   "cell_type": "markdown",
   "id": "3cdb808e-e452-4d57-8886-8321dc691187",
   "metadata": {
    "tags": []
   },
   "source": [
    "Let us consider the simple phase shift gate:\n",
    "\n",
    "According to the documentation, the phase shift gate implements:\n",
    "\n",
    "phaseshift(phi)= diag([1,exp(1j*$\\phi$)]) \n",
    "\n",
    "Which means when you implement the phase shift on $|1\\rangle$, we get $P|1\\rangle = e^{i\\phi}|1\\rangle$."
   ]
  },
  {
   "cell_type": "code",
   "execution_count": 3,
   "id": "fc076bb1-4d1e-4395-abd6-baf2a8971cb7",
   "metadata": {
    "tags": []
   },
   "outputs": [],
   "source": [
    "# We want to have it in the above form\n",
    "INITIAL_PHI = 1 / 8\n",
    "\n",
    "angle = 2 * np.pi * INITIAL_PHI"
   ]
  },
  {
   "cell_type": "code",
   "execution_count": 4,
   "id": "424c441c-c81a-413f-bc2e-77b2b768dbbe",
   "metadata": {
    "tags": []
   },
   "outputs": [
    {
     "data": {
      "text/plain": [
       "Circuit('instructions': [Instruction('operator': X('qubit_count': 1), 'target': QubitSet([Qubit(0)]), 'control': QubitSet([]), 'control_state': (), 'power': 1), Instruction('operator': PhaseShift('angle': 0.7853981633974483, 'qubit_count': 1), 'target': QubitSet([Qubit(0)]), 'control': QubitSet([]), 'control_state': (), 'power': 1)], 'result_types': [StateVector()])"
      ]
     },
     "execution_count": 4,
     "metadata": {},
     "output_type": "execute_result"
    }
   ],
   "source": [
    "circ = Circuit()\n",
    "circ.x(0)\n",
    "circ.phaseshift(0,angle)\n",
    "circ.state_vector()"
   ]
  },
  {
   "cell_type": "code",
   "execution_count": 5,
   "id": "b383336b-ef55-4e90-b551-e5f1c2ce5449",
   "metadata": {
    "tags": []
   },
   "outputs": [
    {
     "name": "stdout",
     "output_type": "stream",
     "text": [
      "T  : |0|     1     |\n",
      "                    \n",
      "q0 : -X-PHASE(0.79)-\n",
      "\n",
      "T  : |0|     1     |\n",
      "\n",
      "Additional result types: StateVector\n"
     ]
    }
   ],
   "source": [
    "print(circ)"
   ]
  },
  {
   "cell_type": "code",
   "execution_count": 6,
   "id": "1401722f-fbb7-4c21-ac46-9b0f1ef7ce35",
   "metadata": {
    "tags": []
   },
   "outputs": [],
   "source": [
    "device = LocalSimulator()\n",
    "\n",
    "task = device.run(circ)\n",
    "result = task.result()"
   ]
  },
  {
   "cell_type": "code",
   "execution_count": 7,
   "id": "bd98aa96-389e-4f22-bc4a-52dccff4a8d8",
   "metadata": {
    "tags": []
   },
   "outputs": [
    {
     "data": {
      "text/plain": [
       "[array([0.        +0.j        , 0.70710678+0.70710678j])]"
      ]
     },
     "execution_count": 7,
     "metadata": {},
     "output_type": "execute_result"
    }
   ],
   "source": [
    "result.values"
   ]
  },
  {
   "cell_type": "markdown",
   "id": "fed708b9-cfca-47a8-99bd-20530b02aa3a",
   "metadata": {},
   "source": [
    "Now, we don't just need to be able to implement the unitary, we also need to be able to implement the controlled version of it, of which there is the function in AWS:"
   ]
  },
  {
   "cell_type": "code",
   "execution_count": 8,
   "id": "31c79252-7632-4a51-9991-12d0c49a959d",
   "metadata": {
    "tags": []
   },
   "outputs": [],
   "source": [
    "# circ.cphaseshift(0, 1, angle)"
   ]
  },
  {
   "cell_type": "markdown",
   "id": "ca8fba2b-f6dd-4bfe-8fc2-8a25ac8e5d19",
   "metadata": {},
   "source": [
    "Know that this is possible, and also an active area of research (to reduce complexity). For one of the more fun papers to read about it:\n",
    "    \n",
    "https://www.nature.com/articles/ncomms1392"
   ]
  },
  {
   "cell_type": "markdown",
   "id": "7464d223-965a-44dc-8e66-caa800a2c103",
   "metadata": {},
   "source": [
    "# Implementation of QPE for the Simple Example"
   ]
  },
  {
   "cell_type": "markdown",
   "id": "79a5b49a-be8e-46e6-8f61-6cf39e2dac3b",
   "metadata": {},
   "source": [
    "## The Problem For QPE for the Simple Example"
   ]
  },
  {
   "cell_type": "markdown",
   "id": "8f179f79-dc52-434b-ac35-27cf02225615",
   "metadata": {},
   "source": [
    "Given a phase-shift operator $P$ as defined above where we don't know what the angle of the phase shift is but know how to apply it, we want to find the value of the angle. \n",
    "\n",
    "We know that $|1\\rangle$ is an eigenstate of the phase-shift operator."
   ]
  },
  {
   "cell_type": "markdown",
   "id": "e87ce477-3ccf-4016-bedc-53efe9ed1371",
   "metadata": {},
   "source": [
    "## The code for QPE for the Simple Example"
   ]
  },
  {
   "cell_type": "code",
   "execution_count": 9,
   "id": "bc5dfdbb-5970-4e6a-9b59-593cde7c7488",
   "metadata": {
    "tags": []
   },
   "outputs": [],
   "source": [
    "def build_aws_qpe_circuit(angle, precision):\n",
    "    \n",
    "    ## Qubit Counts\n",
    "    \n",
    "    # Since we are implementing the phase shift\n",
    "    UNITARY_QUBITS_COUNT = 1\n",
    "    \n",
    "    # We want to know how precise to go. \n",
    "    counting_qubits_count = precision\n",
    "    \n",
    "    total_qubits_count = counting_qubits_count + UNITARY_QUBITS_COUNT\n",
    "    counting_qubits = list(range(counting_qubits_count))\n",
    "    unitary_qubits = list(range(counting_qubits_count,\n",
    "                                total_qubits_count))\n",
    "    \n",
    "    # Circuit\n",
    "    \n",
    "    qpe_circuit = braket.circuits.Circuit()\n",
    "    \n",
    "    # Superposition\n",
    "    \n",
    "    qpe_circuit.h(counting_qubits)\n",
    "    \n",
    "    # Eigenstate\n",
    "    \n",
    "    qpe_circuit.x(unitary_qubits)\n",
    "    \n",
    "    # Apply Controlled Phase Shifts\n",
    "    \n",
    "    repetitions = 1\n",
    "    \n",
    "    for counting_qubit in reversed(counting_qubits):\n",
    "        \n",
    "        for repetition in range(repetitions):\n",
    "            qpe_circuit.cphaseshift(angle=angle, \n",
    "                                    control=counting_qubit, \n",
    "                                    target=unitary_qubits)        \n",
    "        repetitions *= 2\n",
    "        \n",
    "    # Inverse QFT\n",
    "    \n",
    "    qft_circuit = build_aws_qft_circuit(counting_qubits_count)\n",
    "    inverted_qft_circuit = qft_circuit.adjoint()\n",
    "    qpe_circuit.add_circuit(inverted_qft_circuit,\n",
    "                            target=counting_qubits)\n",
    "    \n",
    "    return qpe_circuit"
   ]
  },
  {
   "cell_type": "markdown",
   "id": "9c4c12f3-84da-4c3b-a0e0-6f37fc207297",
   "metadata": {},
   "source": [
    "# Running the function"
   ]
  },
  {
   "cell_type": "markdown",
   "id": "e56bb7cb-8c89-4047-ab79-87029f55dc3d",
   "metadata": {},
   "source": [
    "Get an angle we want to find, and determine how precise we want to be"
   ]
  },
  {
   "cell_type": "code",
   "execution_count": 10,
   "id": "6fa8dad0-651c-47bb-a23e-7aae47672846",
   "metadata": {
    "tags": []
   },
   "outputs": [],
   "source": [
    "# Get an angle (this is information we don't know)\n",
    "INITIAL_PHI = 1 / 8\n",
    "angle = 2 * np.pi * INITIAL_PHI\n",
    "\n",
    "# In this case we think 2^(-3) will be precise enough\n",
    "PRECISION = 3\n",
    "counting_qubits = list(range(PRECISION))\n",
    "\n",
    "SHOTS = 2048"
   ]
  },
  {
   "cell_type": "markdown",
   "id": "ba5514d5-9521-4f4c-9f2b-20fa9eaac11d",
   "metadata": {},
   "source": [
    "Now we build the QPE circuit for phaseshift"
   ]
  },
  {
   "cell_type": "code",
   "execution_count": 11,
   "id": "4c582ae2-c07f-40a9-80bd-d035bb6a4a9d",
   "metadata": {
    "tags": []
   },
   "outputs": [
    {
     "name": "stdout",
     "output_type": "stream",
     "text": [
      "T  : |0|     1     |     2     |     3     |     4     |     5     |     6     |     7     | 8  |9|  10   |   11    |  12   |13|Result Types|\n",
      "                                                                                                                                             \n",
      "q0 : -H-------------------------------------C-----------C-----------C-----------C-----------SWAP-------------(-0.79)-(-1.57)-H--Probability--\n",
      "                                            |           |           |           |           |                |       |          |            \n",
      "q1 : -H-------------C-----------C-----------|-----------|-----------|-----------|-----------|------(-1.57)-H-|-------(-1.57)----Probability--\n",
      "                    |           |           |           |           |           |           |      |         |                  |            \n",
      "q2 : -H-C-----------|-----------|-----------|-----------|-----------|-----------|-----------SWAP-H-(-1.57)---(-0.79)------------Probability--\n",
      "        |           |           |           |           |           |           |                                                            \n",
      "q3 : -X-PHASE(0.79)-PHASE(0.79)-PHASE(0.79)-PHASE(0.79)-PHASE(0.79)-PHASE(0.79)-PHASE(0.79)--------------------------------------------------\n",
      "\n",
      "T  : |0|     1     |     2     |     3     |     4     |     5     |     6     |     7     | 8  |9|  10   |   11    |  12   |13|Result Types|\n"
     ]
    }
   ],
   "source": [
    "qpe_circuit = build_aws_qpe_circuit(angle, precision=PRECISION)\n",
    "\n",
    "qpe_circuit.probability(target=counting_qubits)\n",
    "\n",
    "print(qpe_circuit)"
   ]
  },
  {
   "cell_type": "markdown",
   "id": "2de97a21-bb10-43d8-a9a7-728d339f2891",
   "metadata": {},
   "source": [
    "And now we run it"
   ]
  },
  {
   "cell_type": "code",
   "execution_count": 12,
   "id": "66f893bc-2509-4cd8-88d0-cefdae197490",
   "metadata": {
    "tags": []
   },
   "outputs": [
    {
     "data": {
      "text/plain": [
       "array([0., 1., 0., 0., 0., 0., 0., 0.])"
      ]
     },
     "execution_count": 12,
     "metadata": {},
     "output_type": "execute_result"
    }
   ],
   "source": [
    "device = LocalSimulator()\n",
    "\n",
    "task = device.run(qpe_circuit, shots=SHOTS)\n",
    "result = task.result()\n",
    "\n",
    "probabilities = result.values[0]\n",
    "\n",
    "probabilities"
   ]
  },
  {
   "cell_type": "code",
   "execution_count": 13,
   "id": "d383b409-4453-409e-8728-ba971db4b04d",
   "metadata": {
    "tags": []
   },
   "outputs": [
    {
     "data": {
      "text/plain": [
       "{'0011': 1.0}"
      ]
     },
     "execution_count": 13,
     "metadata": {},
     "output_type": "execute_result"
    }
   ],
   "source": [
    "result.measurement_probabilities"
   ]
  },
  {
   "cell_type": "code",
   "execution_count": 14,
   "id": "f11d17a3-c308-4a3e-b8da-8c2ad4c6c7a0",
   "metadata": {
    "tags": []
   },
   "outputs": [
    {
     "data": {
      "text/plain": [
       "['000', '001', '010', '011', '100', '101', '110', '111']"
      ]
     },
     "execution_count": 14,
     "metadata": {},
     "output_type": "execute_result"
    }
   ],
   "source": [
    " # States\n",
    "\n",
    "QUBITS_COUNT = PRECISION\n",
    "\n",
    "state_format = f\"0{QUBITS_COUNT}b\"\n",
    "\n",
    "states = list(range(2 ** QUBITS_COUNT))\n",
    "states_strings = [f\"{state:{state_format}}\" for state in states]\n",
    "\n",
    "states_strings"
   ]
  },
  {
   "cell_type": "code",
   "execution_count": 15,
   "id": "1312b7c1-c6de-4832-8a5c-06af3081a4f3",
   "metadata": {
    "tags": []
   },
   "outputs": [
    {
     "data": {
      "image/png": "[encoded data removed]",
      "text/plain": [
       "<Figure size 640x480 with 1 Axes>"
      ]
     },
     "metadata": {},
     "output_type": "display_data"
    }
   ],
   "source": [
    "# Plot Probabilities\n",
    "\n",
    "plt.bar(states_strings, probabilities)\n",
    "\n",
    "plt.title(\"State probabilities after IQFT\")\n",
    "plt.xlabel(\"States\")\n",
    "plt.ylabel(\"Probability\")\n",
    "\n",
    "plt.xticks(rotation=90);"
   ]
  },
  {
   "cell_type": "code",
   "execution_count": 19,
   "id": "bb254c77-dea7-4477-a1e0-bd0e4137e971",
   "metadata": {
    "tags": []
   },
   "outputs": [
    {
     "data": {
      "text/plain": [
       "'001'"
      ]
     },
     "execution_count": 19,
     "metadata": {},
     "output_type": "execute_result"
    }
   ],
   "source": [
    "idx_max = np.argmax(probabilities)\n",
    "print(states_strings[idx_max])"
   ]
  },
  {
   "cell_type": "code",
   "execution_count": 24,
   "id": "3f50111b-7802-4029-b188-a3cfcb38d702",
   "metadata": {
    "tags": []
   },
   "outputs": [],
   "source": [
    "total = 0\n",
    "for i,b in enumerate(states_strings[idx_max]):\n",
    "    total = total + int(b) * 2**(-(i+1))"
   ]
  },
  {
   "cell_type": "code",
   "execution_count": 23,
   "id": "384515ad-d75e-4121-b388-f8684e2feb6e",
   "metadata": {
    "tags": []
   },
   "outputs": [
    {
     "data": {
      "text/plain": [
       "0.125"
      ]
     },
     "execution_count": 23,
     "metadata": {},
     "output_type": "execute_result"
    }
   ],
   "source": [
    "print(total)"
   ]
  },
  {
   "cell_type": "code",
   "execution_count": 25,
   "id": "522b828f-233b-46fa-9326-d57e7a7a5c07",
   "metadata": {
    "tags": []
   },
   "outputs": [
    {
     "name": "stdout",
     "output_type": "stream",
     "text": [
      "0.7853981633974483\n"
     ]
    }
   ],
   "source": [
    "angle_predicted = 2 * np.pi * total\n",
    "print(angle_predicted)"
   ]
  },
  {
   "cell_type": "code",
   "execution_count": 26,
   "id": "e3eb2c75-5424-4de5-a77c-ae755aff6244",
   "metadata": {
    "tags": []
   },
   "outputs": [
    {
     "name": "stdout",
     "output_type": "stream",
     "text": [
      "0.7853981633974483\n"
     ]
    }
   ],
   "source": [
    "print(angle)"
   ]
  }
 ],
 "metadata": {
  "kernelspec": {
   "display_name": "conda_braket",
   "language": "python",
   "name": "conda_braket"
  },
  "language_info": {
   "codemirror_mode": {
    "name": "ipython",
    "version": 3
   },
   "file_extension": ".py",
   "mimetype": "text/x-python",
   "name": "python",
   "nbconvert_exporter": "python",
   "pygments_lexer": "ipython3",
   "version": "3.10.13"
  }
 },
 "nbformat": 4,
 "nbformat_minor": 5
}
