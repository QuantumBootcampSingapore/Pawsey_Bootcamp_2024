{
 "cells": [
  {
   "cell_type": "code",
   "execution_count": 1,
   "id": "56884c81-7b32-47e4-901e-0433f2c62721",
   "metadata": {},
   "outputs": [],
   "source": [
    "#Reference tutorial: https://github.com/amazon-braket/amazon-braket-examples/blob/main/examples/advanced_circuits_algorithms/Quantum_Fourier_Transform/Quantum_Fourier_Transform.ipynb"
   ]
  },
  {
   "cell_type": "code",
   "execution_count": 2,
   "id": "ba0ad87d-cd69-4dee-8d41-695466517174",
   "metadata": {},
   "outputs": [],
   "source": [
    "from braket.circuits import circuit\n",
    "from braket.circuits import Circuit\n",
    "\n",
    "from braket.devices import LocalSimulator\n",
    "\n",
    "import numpy as np\n",
    "\n",
    "import matplotlib.pyplot as plt\n",
    "\n",
    "plt.style.use(\"dark_background\")"
   ]
  },
  {
   "cell_type": "markdown",
   "id": "33c1660f-acaf-4e8a-a9fb-b62cf6c3a73d",
   "metadata": {},
   "source": [
    "### Functions"
   ]
  },
  {
   "cell_type": "code",
   "execution_count": 3,
   "id": "469bcef3-835e-47ef-91b3-6a06f49437fe",
   "metadata": {},
   "outputs": [],
   "source": [
    "# Define function to build Quantum Fourier Transform (QFT) circuit\n",
    "def build_qft_circuit(qubits_count):\n",
    "    \"\"\"Build Quantum Fourier Transform (QFT) circuit.\n",
    "\n",
    "    Args:\n",
    "        qubits_count (int): Number of qubits.\n",
    "\n",
    "    Returns:\n",
    "        Circuit: QFT circuit.\n",
    "    \"\"\"\n",
    "    qubits = list(range(qubits_count))\n",
    "    circuit = Circuit()\n",
    "\n",
    "    # Add Hadamards and Controlled RZ gates\n",
    "    for target_qubit in qubits:\n",
    "        for control_qubit in range(target_qubit, qubits_count):\n",
    "            if control_qubit == target_qubit:\n",
    "                circuit.h(control_qubit)\n",
    "            else:\n",
    "                theta = np.pi / 2 ** (control_qubit - target_qubit)\n",
    "                circuit.cphaseshift(control_qubit, target_qubit, theta)\n",
    "\n",
    "    # Add SWAP gates\n",
    "    for qubit_index in range(qubits_count // 2):\n",
    "        reversed_qubit_index = -qubit_index - 1\n",
    "        circuit.swap(qubits[qubit_index], qubits[reversed_qubit_index])\n",
    "\n",
    "    return circuit"
   ]
  },
  {
   "cell_type": "code",
   "execution_count": 4,
   "id": "9ee80676-0e88-4227-8ae4-653fc6bae14f",
   "metadata": {},
   "outputs": [],
   "source": [
    "# Define function to build initial state circuit\n",
    "def build_initial_state_circuit(qubits_count):\n",
    "    \"\"\"Build circuit to prepare initial state.\n",
    "\n",
    "    Args:\n",
    "        qubits_count (int): Number of qubits.\n",
    "\n",
    "    Returns:\n",
    "        Circuit: Circuit for initial state preparation.\n",
    "    \"\"\"\n",
    "    qubits = list(range(qubits_count))\n",
    "    circuit = Circuit()\n",
    "\n",
    "    circuit.h(qubits) #for uniform distribution\n",
    "    # circuit.x(qubits) #for starting from |111..> state\n",
    "    return circuit"
   ]
  },
  {
   "cell_type": "code",
   "execution_count": 5,
   "id": "747d90dc-0120-40e9-b5fd-3c93e22ce2e8",
   "metadata": {},
   "outputs": [
    {
     "name": "stdout",
     "output_type": "stream",
     "text": [
      "T  : |0|\n",
      "        \n",
      "q0 : -H-\n",
      "        \n",
      "q1 : -H-\n",
      "        \n",
      "q2 : -H-\n",
      "        \n",
      "q3 : -H-\n",
      "\n",
      "T  : |0|\n"
     ]
    }
   ],
   "source": [
    "# Define constants\n",
    "QUBITS_COUNT = 4\n",
    "\n",
    "# Build initial state circuit\n",
    "initial_state_circuit = build_initial_state_circuit(QUBITS_COUNT)\n",
    "print(initial_state_circuit)"
   ]
  },
  {
   "cell_type": "markdown",
   "id": "8c20acdc",
   "metadata": {},
   "source": [
    "## Test 1: QFT on |++..+>"
   ]
  },
  {
   "cell_type": "code",
   "execution_count": 6,
   "id": "31276c80",
   "metadata": {},
   "outputs": [
    {
     "name": "stdout",
     "output_type": "stream",
     "text": [
      "T  : |0|     1     |      2      |           3           |      4      |     5     | 6  | 7  |\n",
      "                                                                                              \n",
      "q0 : -H-PHASE(1.57)-PHASE(0.79)---PHASE(0.39)--------------------------------------------SWAP-\n",
      "        |           |             |                                                      |    \n",
      "q1 : ---C-----------|-----------H-|-----------PHASE(1.57)-PHASE(0.79)---------------SWAP-|----\n",
      "                    |             |           |           |                         |    |    \n",
      "q2 : ---------------C-------------|-----------C-----------|-----------H-PHASE(1.57)-SWAP-|----\n",
      "                                  |                       |             |                |    \n",
      "q3 : -----------------------------C-----------------------C-------------C-----------H----SWAP-\n",
      "\n",
      "T  : |0|     1     |      2      |           3           |      4      |     5     | 6  | 7  |\n"
     ]
    }
   ],
   "source": [
    "# Build QFT circuit\n",
    "qft_circuit = build_qft_circuit(QUBITS_COUNT)\n",
    "print(qft_circuit)"
   ]
  },
  {
   "cell_type": "code",
   "execution_count": 7,
   "id": "82ac60e1",
   "metadata": {},
   "outputs": [
    {
     "name": "stdout",
     "output_type": "stream",
     "text": [
      "T  : |    0    |1|   2   |    3    |       4       |    5    |   6   |7|\n",
      "                                                                        \n",
      "q0 : ------SWAP-----------------------------(-0.39)---(-0.79)-(-1.57)-H-\n",
      "           |                                |         |       |         \n",
      "q1 : -SWAP-|----------------(-0.79)-(-1.57)-|-------H-|-------(-1.57)---\n",
      "      |    |                |       |       |         |                 \n",
      "q2 : -SWAP-|------(-1.57)-H-|-------(-1.57)-|---------(-0.79)-----------\n",
      "           |      |         |               |                           \n",
      "q3 : ------SWAP-H-(-1.57)---(-0.79)---------(-0.39)---------------------\n",
      "\n",
      "T  : |    0    |1|   2   |    3    |       4       |    5    |   6   |7|\n"
     ]
    }
   ],
   "source": [
    "# Build inverted QFT circuit\n",
    "inverted_qft_circuit = qft_circuit.adjoint()\n",
    "print(inverted_qft_circuit)"
   ]
  },
  {
   "cell_type": "code",
   "execution_count": 8,
   "id": "84d2b285",
   "metadata": {},
   "outputs": [
    {
     "name": "stdout",
     "output_type": "stream",
     "text": [
      "T  : |0|1|     2     |      3      |           4           |      5      |     6     | 7  | 8  |Result Types|\n",
      "                                                                                                             \n",
      "q0 : -H-H-PHASE(1.57)-PHASE(0.79)---PHASE(0.39)--------------------------------------------SWAP-Probability--\n",
      "          |           |             |                                                      |    |            \n",
      "q1 : -H---C-----------|-----------H-|-----------PHASE(1.57)-PHASE(0.79)---------------SWAP-|----Probability--\n",
      "                      |             |           |           |                         |    |    |            \n",
      "q2 : -H---------------C-------------|-----------C-----------|-----------H-PHASE(1.57)-SWAP-|----Probability--\n",
      "                                    |                       |             |                |    |            \n",
      "q3 : -H-----------------------------C-----------------------C-------------C-----------H----SWAP-Probability--\n",
      "\n",
      "T  : |0|1|     2     |      3      |           4           |      5      |     6     | 7  | 8  |Result Types|\n",
      "\n",
      "Additional result types: StateVector\n"
     ]
    }
   ],
   "source": [
    "# Compose circuits\n",
    "circuit = Circuit()\n",
    "circuit.add_circuit(initial_state_circuit)\n",
    "circuit.add_circuit(qft_circuit)\n",
    "\n",
    "# Add result types\n",
    "circuit.state_vector()\n",
    "circuit.probability()\n",
    "\n",
    "print(circuit)"
   ]
  },
  {
   "cell_type": "code",
   "execution_count": 9,
   "id": "536efbba",
   "metadata": {},
   "outputs": [],
   "source": [
    "\n",
    "# Run simulation\n",
    "device = LocalSimulator()\n",
    "task = device.run(circuit, shots=0)\n",
    "result = task.result()"
   ]
  },
  {
   "cell_type": "code",
   "execution_count": 10,
   "id": "3b501669",
   "metadata": {},
   "outputs": [
    {
     "name": "stdout",
     "output_type": "stream",
     "text": [
      "[ 1.+0.j  0.+0.j  0.+0.j  0.+0.j -0.-0.j  0.+0.j  0.+0.j  0.+0.j -0.+0.j\n",
      "  0.-0.j  0.-0.j  0.-0.j -0.+0.j  0.-0.j  0.-0.j  0.-0.j]\n",
      "[1. 0. 0. 0. 0. 0. 0. 0. 0. 0. 0. 0. 0. 0. 0. 0.]\n"
     ]
    }
   ],
   "source": [
    "# Retrieve state vector and probabilities\n",
    "state_vector, probabilities = result.values\n",
    "print(state_vector.round(3))\n",
    "print(probabilities.round(3))\n"
   ]
  },
  {
   "cell_type": "code",
   "execution_count": 11,
   "id": "f1bb480c",
   "metadata": {},
   "outputs": [
    {
     "data": {
      "text/plain": [
       "['0000', '0001', '0010', '0011', '0100', '0101', '0110', '0111']"
      ]
     },
     "execution_count": 11,
     "metadata": {},
     "output_type": "execute_result"
    }
   ],
   "source": [
    "# Define state format for printing\n",
    "state_format = f\"0{QUBITS_COUNT}b\"\n",
    "\n",
    "# List all possible states\n",
    "states = list(range(2 ** QUBITS_COUNT))\n",
    "states_strings = [f\"{state:{state_format}}\" for state in states]\n",
    "\n",
    "states_strings[:8]\n"
   ]
  },
  {
   "cell_type": "code",
   "execution_count": 12,
   "id": "50c87aaf",
   "metadata": {},
   "outputs": [
    {
     "data": {
      "image/png": "[encoded data removed]",
      "text/plain": [
       "<Figure size 640x480 with 1 Axes>"
      ]
     },
     "metadata": {},
     "output_type": "display_data"
    }
   ],
   "source": [
    "# Plot probabilities\n",
    "plt.bar(states_strings, probabilities)\n",
    "plt.title(\"State probabilities after QFT\")\n",
    "plt.xlabel(\"States\")\n",
    "plt.ylabel(\"Probability\")\n",
    "plt.xticks(rotation=90)\n",
    "plt.show()\n"
   ]
  },
  {
   "cell_type": "markdown",
   "id": "bdf2ac5b",
   "metadata": {},
   "source": [
    "## Test 2: QFT and Inverse QFT cancel each other out."
   ]
  },
  {
   "cell_type": "code",
   "execution_count": 13,
   "id": "95229ec2",
   "metadata": {},
   "outputs": [],
   "source": [
    "#test that the circuit is working:\n",
    "def test_qft(num_qubits, device = LocalSimulator()):\n",
    "    \"\"\"Test the QFT circuit.\n",
    "\n",
    "    Args:\n",
    "        num_qubits (int): Number of qubits.\n",
    "        device (LocalSimulator): Braket device to run the circuit.\n",
    "\n",
    "    Returns:\n",
    "        tuple: Tuple containing state vector and probabilities.\n",
    "    \"\"\"\n",
    "\n",
    "    qft_circuit = build_qft_circuit(num_qubits)\n",
    "    inverted_qft_circuit = qft_circuit.adjoint()\n",
    "\n",
    "    # Compose circuits\n",
    "    circuit = Circuit()\n",
    "    circuit.add_circuit(qft_circuit)\n",
    "    circuit.add_circuit(inverted_qft_circuit)\n",
    "\n",
    "    # Add result types\n",
    "    circuit.state_vector()\n",
    "    circuit.probability()\n",
    "\n",
    "    # Run the QFT on 3 circuits with all zeros input\n",
    "    task = device.run(circuit, shots=0)\n",
    "    result = task.result()\n",
    "    state_vector, probs_values = result.values\n",
    "\n",
    "    # format state vector for output\n",
    "    state_vec_pretty = np.round(state_vector, decimals=3)\n",
    "    state_vec_pretty = [ampl if np.abs(ampl) > 10**(-5) else 0 for ampl in state_vec_pretty]\n",
    "\n",
    "    # bitstrings\n",
    "    format_bitstring = '{0:0' + str(num_qubits) + 'b}'\n",
    "    bitstring_keys = [format_bitstring.format(ii) for ii in range(2**num_qubits)]\n",
    "\n",
    "    # Print the output state vector\n",
    "    print('Exact statevector:\\n', state_vec_pretty)\n",
    "\n",
    "    # plot probabilities\n",
    "    plt.bar(bitstring_keys, probs_values)\n",
    "    plt.xlabel('bitstrings')\n",
    "    plt.ylabel('probability')\n",
    "    plt.xticks(rotation=90)\n",
    "    plt.title('Probability distribution after QFT and IQFT')\n",
    "    plt.show()"
   ]
  }
 ],
 "metadata": {
  "kernelspec": {
   "display_name": "Python 3 (ipykernel)",
   "language": "python",
   "name": "python3"
  },
  "language_info": {
   "codemirror_mode": {
    "name": "ipython",
    "version": 3
   },
   "file_extension": ".py",
   "mimetype": "text/x-python",
   "name": "python",
   "nbconvert_exporter": "python",
   "pygments_lexer": "ipython3",
   "version": "3.10.0"
  }
 },
 "nbformat": 4,
 "nbformat_minor": 5
}
