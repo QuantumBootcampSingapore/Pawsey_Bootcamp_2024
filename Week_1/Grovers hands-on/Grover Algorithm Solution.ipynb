{
 "cells": [
  {
   "cell_type": "code",
   "execution_count": 1,
   "id": "ac501b64-6099-489e-a0aa-f7f5c0f4d2ca",
   "metadata": {
    "tags": []
   },
   "outputs": [],
   "source": [
    "import numpy as np\n",
    "import math\n",
    "\n",
    "from braket.circuits import Circuit\n",
    "from braket.circuits import circuit \n",
    "\n",
    "from braket.aws import AwsDevice\n",
    "from braket.aws import AwsQuantumTask\n",
    "\n",
    "from braket.devices import LocalSimulator\n",
    "\n",
    "import matplotlib.pyplot as plt\n",
    "\n",
    "plt.style.use(\"dark_background\")"
   ]
  },
  {
   "cell_type": "markdown",
   "id": "1170cf2a-bb53-451b-86a0-b4d083a9855b",
   "metadata": {},
   "source": [
    "# Simple Example: 3 qubits"
   ]
  },
  {
   "cell_type": "markdown",
   "id": "0c25dffc-54c5-4093-bcaf-bd14887f7f89",
   "metadata": {},
   "source": [
    "## Useful functions!"
   ]
  },
  {
   "cell_type": "code",
   "execution_count": 2,
   "id": "bc1820ba-bb55-44d7-8469-d8a9ab88c847",
   "metadata": {
    "tags": []
   },
   "outputs": [],
   "source": [
    "@circuit.subroutine(register=True)\n",
    "def ccz(targets=[0, 1, 2]):\n",
    "    \"\"\"\n",
    "    implementation of three-qubit gate CCZ\n",
    "    \"\"\"\n",
    "    # define three-qubit CCZ gate\n",
    "    ccz_gate = np.array([[1.0, 0.0, 0.0, 0.0, 0.0, 0.0, 0.0, 0.0],\n",
    "                         [0.0, 1.0, 0.0, 0.0, 0.0, 0.0, 0.0, 0.0],\n",
    "                         [0.0, 0.0, 1.0, 0.0, 0.0, 0.0, 0.0, 0.0],\n",
    "                         [0.0, 0.0, 0.0, 1.0, 0.0, 0.0, 0.0, 0.0],\n",
    "                         [0.0, 0.0, 0.0, 0.0, 1.0, 0.0, 0.0, 0.0],\n",
    "                         [0.0, 0.0, 0.0, 0.0, 0.0, 1.0, 0.0, 0.0],\n",
    "                         [0.0, 0.0, 0.0, 0.0, 0.0, 0.0, 1.0, 0.0],\n",
    "                         [0.0, 0.0, 0.0, 0.0, 0.0, 0.0, 0.0, -1.0]],\n",
    "                       dtype=complex)\n",
    "    \n",
    "    # instantiate circuit object\n",
    "    circ = Circuit()\n",
    "    \n",
    "    # add CCZ gate\n",
    "    circ.unitary(matrix=ccz_gate, targets=targets)\n",
    "    \n",
    "    return circ"
   ]
  },
  {
   "cell_type": "markdown",
   "id": "c2bd0bbc-83ff-42e8-8ed9-dcf1f1ba8bc0",
   "metadata": {},
   "source": [
    "## The Oracle"
   ]
  },
  {
   "cell_type": "markdown",
   "id": "d6ff0c9c-399d-4e29-9b04-90837541bf57",
   "metadata": {},
   "source": [
    "Let us say that we have a domain of {0,1,...,7}, which can be seen as {000,001,...,111}. For the purposes of this exercise, let's say we want a function that finds the element 100. How would you implement such an oracle?\n",
    "\n",
    "Remember, what this oracle does is change the phase of 100, while keeping the rest the same. Hint: use CCZ!\n",
    "\n",
    "Input: Doesn't need an input\n",
    "\n",
    "Output: Quantum Circuit"
   ]
  },
  {
   "cell_type": "code",
   "execution_count": 3,
   "id": "88d7a726-4acb-4c36-abf9-60a974dabdbe",
   "metadata": {
    "tags": []
   },
   "outputs": [],
   "source": [
    "def build_100_oracle():\n",
    "    \n",
    "    circ = Circuit()\n",
    "    \n",
    "    circ.x(1)\n",
    "    circ.x(2)\n",
    "    circ.ccz(targets=[0, 1, 2])\n",
    "    circ.x(1)\n",
    "    circ.x(2)            \n",
    "            \n",
    "    return circ"
   ]
  },
  {
   "cell_type": "markdown",
   "id": "721b63e8-58fd-4122-b8d4-aecab6cde965",
   "metadata": {},
   "source": [
    "## The Diffusion Operator"
   ]
  },
  {
   "cell_type": "markdown",
   "id": "cf281300-8a3f-4756-ad28-cfe7c1ed4845",
   "metadata": {},
   "source": [
    "To construct the entire Grover Diffusion Operator, we first need a circuit subroutine that changes the phase of 000. Implement it here first! "
   ]
  },
  {
   "cell_type": "code",
   "execution_count": 4,
   "id": "4279a99e-e72a-478e-812c-28b1cbc30dcf",
   "metadata": {
    "tags": []
   },
   "outputs": [],
   "source": [
    "def build_000_phase_change():\n",
    "    \n",
    "    circ = Circuit()\n",
    "    \n",
    "    circ.x(0)\n",
    "    circ.x(1)\n",
    "    circ.x(2)\n",
    "    circ.ccz(targets=[0, 1, 2])\n",
    "    circ.x(0)\n",
    "    circ.x(1)\n",
    "    circ.x(2)            \n",
    "            \n",
    "    return circ"
   ]
  },
  {
   "cell_type": "markdown",
   "id": "c6c705f3-75ae-465f-a21d-6df249423a36",
   "metadata": {
    "tags": []
   },
   "source": [
    "With that, we can create the diffusion operator!"
   ]
  },
  {
   "cell_type": "code",
   "execution_count": 5,
   "id": "32c9be17-a5e0-4a94-9899-a53dd617b00a",
   "metadata": {
    "tags": []
   },
   "outputs": [],
   "source": [
    "def diffusion_operator_3qubits():\n",
    "    \n",
    "    circ = Circuit()\n",
    "    \n",
    "    circ.h(np.arange(3))\n",
    "    circ.add_circuit(build_000_phase_change())\n",
    "    circ.h(np.arange(3))\n",
    "    \n",
    "    return circ\n",
    "    "
   ]
  },
  {
   "cell_type": "markdown",
   "id": "d69ecc99-780a-4b8a-9dac-4b2fa9a573ec",
   "metadata": {},
   "source": [
    "## The Grover Circuit"
   ]
  },
  {
   "cell_type": "markdown",
   "id": "753b5aad-1094-4733-8857-8f6073287ec9",
   "metadata": {},
   "source": [
    "With the oracle and the grover diffusion operator, we can implement Grover's algorithm! Here, write the code for Grover's algorithm to find 100."
   ]
  },
  {
   "cell_type": "code",
   "execution_count": 6,
   "id": "09b3b5db-b5bb-4468-b20b-2ce7fe3d1ce0",
   "metadata": {
    "tags": []
   },
   "outputs": [],
   "source": [
    "def build_grover_circuit_100(n_qubits=3, iterations_count=1):\n",
    "    \n",
    "    # Initial State\n",
    "    \n",
    "    circ = Circuit()\n",
    "    circ.h(np.arange(n_qubits))\n",
    "    \n",
    "    # Oracle\n",
    "    \n",
    "    oracle_circuit = build_100_oracle()\n",
    "    \n",
    "    # Amplification\n",
    "    \n",
    "    amplification_circuit = diffusion_operator_3qubits()\n",
    "    \n",
    "    # Iterations\n",
    "    \n",
    "    for iteration in range(iterations_count):\n",
    "        \n",
    "        circ.add(oracle_circuit)        \n",
    "        circ.add(amplification_circuit)\n",
    "        \n",
    "    # Measurement\n",
    "    \n",
    "    circ.probability()\n",
    "    \n",
    "    return circ"
   ]
  },
  {
   "cell_type": "markdown",
   "id": "58491104-a978-4373-bb6f-70d82972d21b",
   "metadata": {},
   "source": [
    "## Running the Algorithm"
   ]
  },
  {
   "cell_type": "code",
   "execution_count": 7,
   "id": "1641a20f-70cc-4b61-8431-d9a589401312",
   "metadata": {
    "tags": []
   },
   "outputs": [],
   "source": [
    "# Local Device\n",
    "\n",
    "DEVICE = LocalSimulator()\n",
    "SHOTS_COUNT = 1000\n"
   ]
  },
  {
   "cell_type": "code",
   "execution_count": 8,
   "id": "02e62a7d-c7e1-43fd-b94f-8dfb25d12fae",
   "metadata": {
    "tags": []
   },
   "outputs": [],
   "source": [
    "grover_circuit = build_grover_circuit_100(iterations_count=2)"
   ]
  },
  {
   "cell_type": "code",
   "execution_count": 9,
   "id": "f91dd349-5009-4efc-ae2e-43030ef88434",
   "metadata": {
    "tags": []
   },
   "outputs": [
    {
     "name": "stdout",
     "output_type": "stream",
     "text": [
      "T  : |0|1|2|3|4|5|6|7|8|9|10|11|12|13|14|15|16|Result Types|\n",
      "                                                            \n",
      "q0 : -H---U-H-X---U-X-H---U--H--X-----U--X--H--Probability--\n",
      "          |       |       |           |        |            \n",
      "q1 : -H-X-U-X-H-X-U-X-H-X-U--X--H--X--U--X--H--Probability--\n",
      "          |       |       |           |        |            \n",
      "q2 : -H-X-U-X-H-X-U-X-H-X-U--X--H--X--U--X--H--Probability--\n",
      "\n",
      "T  : |0|1|2|3|4|5|6|7|8|9|10|11|12|13|14|15|16|Result Types|\n"
     ]
    }
   ],
   "source": [
    "print(grover_circuit)"
   ]
  },
  {
   "cell_type": "code",
   "execution_count": 10,
   "id": "9a15a417-4962-4bfc-9df9-e5b45e1db4ea",
   "metadata": {
    "tags": []
   },
   "outputs": [],
   "source": [
    "task = DEVICE.run(grover_circuit, shots=SHOTS_COUNT)"
   ]
  },
  {
   "cell_type": "code",
   "execution_count": 11,
   "id": "a411871b-df32-466d-b88f-58f2970bc286",
   "metadata": {
    "tags": []
   },
   "outputs": [],
   "source": [
    "result = task.result()"
   ]
  },
  {
   "cell_type": "code",
   "execution_count": 12,
   "id": "c47a0154-a78e-4f73-89ee-c080d9059d1f",
   "metadata": {
    "tags": []
   },
   "outputs": [
    {
     "data": {
      "text/plain": [
       "array([0.005, 0.009, 0.012, 0.009, 0.94 , 0.008, 0.007, 0.01 ])"
      ]
     },
     "execution_count": 12,
     "metadata": {},
     "output_type": "execute_result"
    }
   ],
   "source": [
    "probabilities = result.values[0]\n",
    "\n",
    "probabilities"
   ]
  },
  {
   "cell_type": "code",
   "execution_count": 13,
   "id": "a1530766-2c30-4447-829f-eb452aeb6faf",
   "metadata": {
    "tags": []
   },
   "outputs": [
    {
     "data": {
      "text/plain": [
       "['000', '001', '010', '011', '100', '101', '110', '111']"
      ]
     },
     "execution_count": 13,
     "metadata": {},
     "output_type": "execute_result"
    }
   ],
   "source": [
    "qubits_count = grover_circuit.qubit_count\n",
    "\n",
    "states_count = 2 ** qubits_count\n",
    "\n",
    "state_pattern = f\"0{qubits_count}b\"\n",
    "\n",
    "states = [f\"{state:{state_pattern}}\" for state in range(states_count)]\n",
    "\n",
    "states"
   ]
  },
  {
   "cell_type": "code",
   "execution_count": 14,
   "id": "f376ab57-6ab6-4a18-bafa-b2cfefe9ade2",
   "metadata": {
    "tags": []
   },
   "outputs": [
    {
     "data": {
      "image/png": "[encoded data removed]",
      "text/plain": [
       "<Figure size 640x480 with 1 Axes>"
      ]
     },
     "metadata": {},
     "output_type": "display_data"
    }
   ],
   "source": [
    "plt.bar(states, probabilities)\n",
    "\n",
    "plt.title(\"Measured Probabilities\")\n",
    "plt.xlabel(\"State\")\n",
    "plt.ylabel(\"Probability\")\n",
    "\n",
    "plt.xticks(rotation=90)\n",
    "\n",
    "# plt.savefig('grover.png', dpi=100)\n",
    "\n",
    "plt.show()"
   ]
  },
  {
   "cell_type": "markdown",
   "id": "d5c2bcb5-71ba-4128-bec5-e4ddd19b0190",
   "metadata": {},
   "source": [
    "# Generalizing Simple Case"
   ]
  },
  {
   "cell_type": "markdown",
   "id": "a46b9d1b-b983-49b2-b76b-0ac3f4fdca9d",
   "metadata": {},
   "source": [
    "Now that we have seen Grover's Algorithm in action, let's try to generalize it! We now want to make it work for any state, supposing we know the state beforehand."
   ]
  },
  {
   "cell_type": "markdown",
   "id": "ffbd3894-c743-42e3-a117-9750fbb35269",
   "metadata": {},
   "source": [
    "## The Oracle"
   ]
  },
  {
   "cell_type": "markdown",
   "id": "f8369045-d45b-43a4-8ad6-4fdf1c0bec1b",
   "metadata": {},
   "source": [
    "We now have a domain of that we have a domain of {0,1,...,2^n - 1}, which can converted into binary form. For the purposes of this exercise, let's say we know that we want to find an arbitrary state that is of length n. How would you implement such an oracle?\n",
    "\n",
    "Input: String, representing the state. For example, \"10010\" or \"0001011\"\n",
    "\n",
    "Output: Quantum Circuit"
   ]
  },
  {
   "cell_type": "markdown",
   "id": "d5a45b34-6853-4bb5-a2b1-511db3512aed",
   "metadata": {},
   "source": [
    "You will first need to change the useful function!"
   ]
  },
  {
   "cell_type": "code",
   "execution_count": 15,
   "id": "239b38dd-8e33-4564-98e6-7458b3194ec9",
   "metadata": {
    "tags": []
   },
   "outputs": [],
   "source": [
    "@circuit.subroutine(register=True)\n",
    "def cnz(targets):\n",
    "    \n",
    "    qubits_count = len(targets)\n",
    "    \n",
    "    # CnZ Unitary\n",
    "\n",
    "    identity = np.eye(2)\n",
    "    unitary = identity\n",
    "\n",
    "    for qubit in range(qubits_count - 1):\n",
    "        unitary = np.kron(unitary, identity)\n",
    "\n",
    "    unitary[-1, -1] = -unitary[-1, -1]\n",
    "    \n",
    "    # CCZ Circuit\n",
    "\n",
    "    circ = Circuit()\n",
    "    circ.unitary(matrix=unitary, targets=targets)\n",
    "    \n",
    "    return circ"
   ]
  },
  {
   "cell_type": "markdown",
   "id": "0fbed71c-216a-4f98-bbed-2005df1a2c5f",
   "metadata": {},
   "source": [
    "Then you can implement the oracle"
   ]
  },
  {
   "cell_type": "code",
   "execution_count": 16,
   "id": "2109ad18-343e-4612-ab43-0ee313d8f92f",
   "metadata": {
    "tags": []
   },
   "outputs": [],
   "source": [
    "def build_phase_oracle(state):\n",
    "    \n",
    "    qubits = list(range(len(state)))\n",
    "    \n",
    "    circuit = Circuit()\n",
    "    \n",
    "    for index, bit in enumerate(state):\n",
    "        if bit == \"0\":\n",
    "            circuit.x(index)\n",
    "\n",
    "    circuit.cnz(targets=qubits)\n",
    "    \n",
    "    for index, bit in enumerate(state):\n",
    "        if bit == \"0\":\n",
    "            circuit.x(index)\n",
    "            \n",
    "    return circuit"
   ]
  },
  {
   "cell_type": "markdown",
   "id": "6fd62877-e671-4fa5-9270-a8d983a908c1",
   "metadata": {},
   "source": [
    "## The Diffusion Operator"
   ]
  },
  {
   "cell_type": "markdown",
   "id": "3ae84055-0695-4565-a8ea-43fbb96efcb4",
   "metadata": {},
   "source": [
    "To construct the entire Grover Diffusion Operator, we first need a circuit subroutine. What is it? Does it resemble any other function? Implement it here first! "
   ]
  },
  {
   "cell_type": "code",
   "execution_count": 17,
   "id": "11895996-e74d-461a-a5ca-dfc342a046f1",
   "metadata": {
    "tags": []
   },
   "outputs": [],
   "source": [
    "def build_phase_change(state):\n",
    "    \n",
    "    qubits_count = len(state)\n",
    "    \n",
    "    circ = Circuit()\n",
    "    \n",
    "    zero_oracle = build_phase_oracle('0' * qubits_count)    \n",
    "    circ.add_circuit(zero_oracle)\n",
    "            \n",
    "    return circ"
   ]
  },
  {
   "cell_type": "markdown",
   "id": "39360073-0497-40bd-bdc3-cb75c2e7b091",
   "metadata": {},
   "source": [
    "Then we can construct the diffusion operator!"
   ]
  },
  {
   "cell_type": "code",
   "execution_count": 18,
   "id": "a87adbc2-478a-45c4-a354-a0c0ac65b11c",
   "metadata": {
    "tags": []
   },
   "outputs": [],
   "source": [
    "def diffusion_operator(state):\n",
    "    \n",
    "    qubits_count = len(state)\n",
    "    \n",
    "    circ = Circuit()\n",
    "    \n",
    "    circ.h(np.arange(qubits_count))\n",
    "    circ.add_circuit(build_phase_change(state))\n",
    "    circ.h(np.arange(qubits_count))\n",
    "    \n",
    "    return circ"
   ]
  },
  {
   "cell_type": "markdown",
   "id": "0f1320c4-300e-41e1-a4b8-f4b6b48fcce5",
   "metadata": {},
   "source": [
    "## The Grover Circuit"
   ]
  },
  {
   "cell_type": "markdown",
   "id": "33d7c9d5-db26-49f4-b5e7-3743d6b2bdac",
   "metadata": {},
   "source": [
    "With all the tools above, this will be the Grover Circuit:"
   ]
  },
  {
   "cell_type": "code",
   "execution_count": 19,
   "id": "8a24099d-f0db-403a-b02c-3bfd884a6d62",
   "metadata": {
    "tags": []
   },
   "outputs": [],
   "source": [
    "def build_grover_circuit(state, iterations_count=1):\n",
    "    \n",
    "    qubits_count = len(state)\n",
    "    qubits = list(range(qubits_count))\n",
    "    \n",
    "    # Initial State\n",
    "    \n",
    "    circ = Circuit()\n",
    "    circ.h(qubits)\n",
    "    \n",
    "    # Oracle\n",
    "    \n",
    "    oracle_circuit = build_phase_oracle(state)\n",
    "    \n",
    "    # Amplification\n",
    "    \n",
    "    amplification_circuit = diffusion_operator(state)\n",
    "    \n",
    "    # Iterations\n",
    "    \n",
    "    for iteration in range(iterations_count):\n",
    "        \n",
    "        circ.add(oracle_circuit)        \n",
    "        circ.add(amplification_circuit)\n",
    "        \n",
    "    # Measurement\n",
    "    \n",
    "    circ.probability()\n",
    "    \n",
    "    return circ"
   ]
  },
  {
   "cell_type": "markdown",
   "id": "1f454faa-f4ae-425b-af47-3cb9b51c9f79",
   "metadata": {},
   "source": [
    "## Running the Algorithm"
   ]
  },
  {
   "cell_type": "code",
   "execution_count": 20,
   "id": "2bb78e0e-a81d-4298-a596-89a4c25ef10b",
   "metadata": {
    "tags": []
   },
   "outputs": [],
   "source": [
    "# Local Device\n",
    "\n",
    "DEVICE = LocalSimulator()\n",
    "SHOTS_COUNT = 1000\n",
    "\n",
    "state = \"10101\"\n",
    "\n",
    "n_iterations = int(np.round((np.pi/4) * np.sqrt((2 ** len(state)))))"
   ]
  },
  {
   "cell_type": "code",
   "execution_count": 21,
   "id": "12279485-f2e9-4484-a26b-ee7f6feaac6c",
   "metadata": {
    "tags": []
   },
   "outputs": [],
   "source": [
    "grover_circuit = build_grover_circuit(state, iterations_count=n_iterations)"
   ]
  },
  {
   "cell_type": "code",
   "execution_count": 22,
   "id": "34fdfa6d-4adb-4ced-b9e8-6882b8965c67",
   "metadata": {
    "tags": []
   },
   "outputs": [
    {
     "name": "stdout",
     "output_type": "stream",
     "text": [
      "T  : |0|1|2|3|4|5|6|7|8|9|10|11|12|13|14|15|16|17|18|19|20|21|22|23|24|25|26|27|28|29|30|31|32|Result Types|\n",
      "                                                                                                            \n",
      "q0 : -H---U-H-X---U-X-H---U--H--X-----U--X--H-----U--H--X-----U--X--H-----U--H--X-----U--X--H--Probability--\n",
      "          |       |       |           |           |           |           |           |        |            \n",
      "q1 : -H-X-U-X-H-X-U-X-H-X-U--X--H--X--U--X--H--X--U--X--H--X--U--X--H--X--U--X--H--X--U--X--H--Probability--\n",
      "          |       |       |           |           |           |           |           |        |            \n",
      "q2 : -H---U-H-X---U-X-H---U--H--X-----U--X--H-----U--H--X-----U--X--H-----U--H--X-----U--X--H--Probability--\n",
      "          |       |       |           |           |           |           |           |        |            \n",
      "q3 : -H-X-U-X-H-X-U-X-H-X-U--X--H--X--U--X--H--X--U--X--H--X--U--X--H--X--U--X--H--X--U--X--H--Probability--\n",
      "          |       |       |           |           |           |           |           |        |            \n",
      "q4 : -H---U-H-X---U-X-H---U--H--X-----U--X--H-----U--H--X-----U--X--H-----U--H--X-----U--X--H--Probability--\n",
      "\n",
      "T  : |0|1|2|3|4|5|6|7|8|9|10|11|12|13|14|15|16|17|18|19|20|21|22|23|24|25|26|27|28|29|30|31|32|Result Types|\n"
     ]
    }
   ],
   "source": [
    "print(grover_circuit)"
   ]
  },
  {
   "cell_type": "code",
   "execution_count": 23,
   "id": "c254072b-1f97-4d99-89b4-581270c14b9f",
   "metadata": {
    "tags": []
   },
   "outputs": [],
   "source": [
    "task = DEVICE.run(grover_circuit, shots=SHOTS_COUNT)\n",
    "result = task.result()"
   ]
  },
  {
   "cell_type": "code",
   "execution_count": 24,
   "id": "ea270bc6-ba29-4886-8166-41d9c0976cfa",
   "metadata": {
    "tags": []
   },
   "outputs": [
    {
     "data": {
      "text/plain": [
       "array([0.   , 0.   , 0.   , 0.   , 0.   , 0.   , 0.   , 0.001, 0.   ,\n",
       "       0.   , 0.   , 0.   , 0.   , 0.   , 0.   , 0.   , 0.   , 0.   ,\n",
       "       0.   , 0.   , 0.   , 0.999, 0.   , 0.   , 0.   , 0.   , 0.   ,\n",
       "       0.   , 0.   , 0.   , 0.   , 0.   ])"
      ]
     },
     "execution_count": 24,
     "metadata": {},
     "output_type": "execute_result"
    }
   ],
   "source": [
    "probabilities = result.values[0]\n",
    "\n",
    "probabilities"
   ]
  },
  {
   "cell_type": "code",
   "execution_count": 25,
   "id": "fd51f7c3-f497-4587-b9b6-429ace7ac6b2",
   "metadata": {
    "tags": []
   },
   "outputs": [
    {
     "data": {
      "image/png": "[encoded data removed]",
      "text/plain": [
       "<Figure size 640x480 with 1 Axes>"
      ]
     },
     "metadata": {},
     "output_type": "display_data"
    }
   ],
   "source": [
    "qubits_count = grover_circuit.qubit_count\n",
    "\n",
    "states_count = 2 ** qubits_count\n",
    "\n",
    "state_pattern = f\"0{qubits_count}b\"\n",
    "\n",
    "states = [f\"{state:{state_pattern}}\" for state in range(states_count)]\n",
    "\n",
    "plt.bar(states, probabilities)\n",
    "\n",
    "plt.title(\"Measured Probabilities\")\n",
    "plt.xlabel(\"State\")\n",
    "plt.ylabel(\"Probability\")\n",
    "\n",
    "plt.xticks(rotation=90)\n",
    "\n",
    "# plt.savefig('grover.png', dpi=100)\n",
    "\n",
    "plt.show()"
   ]
  },
  {
   "cell_type": "code",
   "execution_count": null,
   "id": "e4e6c540-6198-4d5a-a41a-e8ae4919c1b3",
   "metadata": {},
   "outputs": [],
   "source": []
  },
  {
   "cell_type": "code",
   "execution_count": null,
   "id": "4519ce6d-5c57-4ca8-863f-6202e3989422",
   "metadata": {},
   "outputs": [],
   "source": []
  }
 ],
 "metadata": {
  "kernelspec": {
   "display_name": "conda_braket",
   "language": "python",
   "name": "conda_braket"
  },
  "language_info": {
   "codemirror_mode": {
    "name": "ipython",
    "version": 3
   },
   "file_extension": ".py",
   "mimetype": "text/x-python",
   "name": "python",
   "nbconvert_exporter": "python",
   "pygments_lexer": "ipython3",
   "version": "3.10.13"
  }
 },
 "nbformat": 4,
 "nbformat_minor": 5
}
