{
 "cells": [
  {
   "cell_type": "markdown",
   "metadata": {},
   "source": [
    "Reference tutorial: [click here](https://github.com/amazon-braket/amazon-braket-examples/blob/main/examples/hybrid_quantum_algorithms/VQE_Transverse_Ising/VQE_Transverse_Ising_Model.ipynb)\n",
    "\n",
    "\n",
    "While VQE is a general approach, we'll focus on applying it to the one-dimensional Transverse Ising Model (TIM). The TIM, a type of many-body spin system, is challenging to study on classical computers due to exponential growth in the Hilbert space dimension.\n",
    "\n",
    "What is TIM?: TIM is a quantum version of the classical Ising model describing spins on a lattice where \n",
    "- The nearest neighbor interaction strenght is J set by the alignment/anti-alignment of spin along the z-axis.\n",
    "- B is the magnetic field along the x-axis creating energy bias for up spin over the down spin and vice versa.\n",
    "\n",
    "In one dimension, the Hamiltonian for $N$ spin-$1/2$ particles is:\n",
    "\n",
    "$$H = -J\\sum_{i}S_{i}^{z}S_{i+1}^{z} - B\\sum_{i}S_{i}^{x}.$$\n",
    "Transforming spin variables to qubits:\n",
    "$$H = -\\frac{1}{4}\\sum_{i}\\sigma_{i}^{z}\\sigma_{i+1}^{z} - \\frac{B}{2}\\sum_{i}\\sigma_{i}^{x}.$$\n",
    "\n",
    "Here, $B$ represents the strength of the transverse magnetic field in units of the hopping matrix element $J$."
   ]
  },
  {
   "cell_type": "code",
   "execution_count": 1,
   "metadata": {},
   "outputs": [],
   "source": [
    "from braket.tracking import Tracker\n",
    "t = Tracker().start()"
   ]
  },
  {
   "cell_type": "markdown",
   "metadata": {},
   "source": [
    "## IMPORTS and SETUP"
   ]
  },
  {
   "cell_type": "code",
   "execution_count": 2,
   "metadata": {},
   "outputs": [],
   "source": [
    "# general imports\n",
    "import numpy as np\n",
    "from scipy.optimize import minimize\n",
    "import matplotlib.pyplot as plt\n",
    "import time\n",
    "from datetime import datetime\n",
    "\n",
    "# AWS imports: Import Braket SDK modules\n",
    "from braket.circuits import Circuit, observables\n",
    "from braket.devices import LocalSimulator\n",
    "\n",
    "\n",
    "# magic word for producing visualizations in notebook\n",
    "%matplotlib inline"
   ]
  },
  {
   "cell_type": "markdown",
   "metadata": {},
   "source": [
    "## Properties of the Ising model\n",
    "\n",
    "__Symmetries and Phases__: The Hamiltonian is invariant under the global rotation of spin along the x-axis by $\\pi$\n",
    "- Formally, this property can be expressed as $R_{x}\\mathbf{H}R_{x}^{\\dagger}=\\mathbf{H}$, since $$R_{x}\\sigma_{i}^{z}R_{x}^{\\dagger}=-\\sigma_{i}^{z}$$ and $$R_{x}\\sigma_{i}^{x}R_{x}^{\\dagger}=\\sigma_{i}^{x}$$, with $R_{x}=\\exp(-i \\pi/2 \\sum_{i}\\sigma_{i}^{x})= (-i)^{N}\\prod _{i}\\sigma_{i}^{x}$ being a global rotation around the $x$-axis by angle $\\pi$. \n",
    "\n",
    "The 1D model then allows for two phases, depending on whether the ground state $\\left|\\Psi_{\\mathrm{gs}}\\right>$ breaks or preserves this global spin-flip symmetry. \n",
    "\n",
    "1.  *Ordered Phase*: When the transverse field $B$ is small, the system is in the ordered phase. In this phase the ground state breaks the spin-flip symmetry. Thus, the ground state is in fact two-fold degenerate.\n",
    "Mathematically, if ${\\displaystyle |\\psi _{1}\\rangle }$  is a ground state of the Hamiltonian, then ${\\displaystyle |\\psi _{2}\\rangle \\equiv \\prod \\sigma^{x}_{j}|\\psi _{1}\\rangle \\neq |\\psi _{1}\\rangle }$ is a ground state as well. Taken together, these two distinct states span the degenerate ground state space. \n",
    "Consider the following example for $B=0$: In this case, the ground state space is spanned by the states ${\\displaystyle |\\ldots 1,1,1, \\ldots \\rangle }$ and ${\\displaystyle |\\ldots 0,0,0, \\ldots \\rangle }$, that is, with all the qubits aligned along the $z$ axis.\n",
    "2.  *Disordered Phase*: In contrast, when $B>1$, the system is in the disordered phase. Here, the ground state *does* preserve the spin-flip symmetry, and is nondegenerate (as opposed to the ordered phase discussed above). \n",
    "\n",
    "Consider the following example when $B \\rightarrow \\infty$: Here, the ground state is simply the state aligned with the external magnetic field, ${\\displaystyle |\\ldots +,+,+, \\ldots \\rangle}$, with every qubit (spin) pointing in the $x$ direction.\n",
    "\n",
    "There is a quantum phase transition at $B=1$ separating these two phases. We take this information for granted. Click [here for details](https://en.wikipedia.org/wiki/Transverse-field_Ising_model)\n",
    "\n",
    "\n"
   ]
  },
  {
   "cell_type": "markdown",
   "metadata": {},
   "source": [
    "## Prepare the ansatz: \n",
    "Now we're ready to prepare the ansatz. Reference paper: [click here](https://arxiv.org/pdf/1804.03719.pdf)\n",
    "- **Choice of Ansatz for TIM:**\n",
    "  - In tackling the Transverse Ising Model (TIM), selecting a suitable ansatz is crucial. We opt for one capable of accommodating quantum entanglement.\n",
    "  - Utilizing $\\mathbb{Z}_{2}$ symmetry, we recognize that any state $\\left|\\Psi(\\theta)\\right>$ possesses a degenerate counterpart with identical energy upon rotation which leads to the state, $R_{x}\\left|\\Psi(\\theta)\\right>$.\n",
    "  - Thus, our ansatz comprises a linear combination of these degenerate states: $\\left|\\psi(\\theta)\\right> = \\alpha \\left|\\Psi(\\theta)\\right> + \\beta R_{x}\\left|\\Psi(\\theta)\\right>$.\n",
    "- **Preparation Procedure on Quantum Computer:**\n",
    "  - We employ a sequence of parametrized gates to prepare such a state.\n",
    "  - Initially, from $\\left|0000\\right>$, a general single qubit rotation is applied to the first qubit, yielding $\\alpha \\left|000\\dots\\right> + \\beta \\left|100\\dots\\right>$, where the parameters $\\alpha$ and $\\beta$ are adjustable during the training process.\n",
    "  - Subsequently, a series of CNOT gates, akin to those used for GHZ state preparation, are applied. For instance, the first CNOT between the first and second qubits prepares the state $\\alpha \\left|000\\dots\\right> + \\beta \\left|110\\dots\\right>$. This continues until we arrive at the parametrized ansatz $\\alpha \\left|000\\dots\\right> + \\beta \\left|111\\dots\\right>$. \n",
    "  - Finally, to accommodate various polarization directions, parametrized single qubit rotations around the $y$ axis are applied. This yields our VQE trial ansatz state:\n",
    "  $$\\left|\\Psi(\\theta)\\right> = \\alpha U_{y}(\\theta_{y})\\left|000\\dots\\right> + \\beta U_{y}(\\theta_{y})\\left|111\\dots\\right>,$$\n",
    "with $U_{y}(\\theta_{y})=\\prod \\exp(-i \\theta_{y}/2 \\sigma_{i}^{y})$."
   ]
  },
  {
   "cell_type": "markdown",
   "metadata": {},
   "source": [
    "## Run the simulation on local simulator"
   ]
  },
  {
   "cell_type": "markdown",
   "metadata": {},
   "source": [
    "1. **Experimentation with VQE Simulation:**\n",
    "   - Begin by conducting VQE simulation experiments.\n",
    "2. **Adjustment of Qubit Number and Classical Optimizer:**\n",
    "   - Firstly, explore varying the number of qubits, denoted as $N$.\n",
    "   - Additionally, experiment with different classical optimizers. By utilizing an off-the-shelf `scipy` minimizer, interchange between optimizers by adjusting the `method` parameter. This can be accomplished similarly to the line `result = minimize(..., method='SLSQP')`. Common options within this library include *Nelder-Mead*, *BFGS*, and *COBYLA*.\n",
    "3. **Handling Local Optima in Classical Optimization:**\n",
    "   - Note that the classical optimization step may become trapped in a local optimum rather than reaching the global minimum for our parametrized VQE ansatz wavefunction.\n",
    "   - To mitigate this issue, execute several optimization loops, each commencing from different random parameter seeds. Specify the number of these loops using the `n_initial` parameter.\n",
    "   - While this brute-force method doesn't ensure discovering the global optimum, it improves the likelihood of finding an acceptable solution. However, it may necessitate running numerous circuits on the Quantum Processing Unit (QPU)."
   ]
  },
  {
   "cell_type": "markdown",
   "metadata": {},
   "source": [
    "## Setup the problem"
   ]
  },
  {
   "cell_type": "markdown",
   "metadata": {},
   "source": [
    "- Within this section, we craft a set of handy utility functions, each with detailed explanations to follow.\n",
    "- These utilities serve as foundational components for our VQE (Variational Quantum Eigensolver) algorithm:\n",
    "  1. An essential function named `circuit` is designed to define the parametrized ansatz.\n",
    "  2. Another crucial function, `objective_function`, is devised to accept a set of variational parameters and compute the associated cost.\n",
    "  3. Finally, we introduce a function named `train` to execute the entire VQE algorithm with a specified ansatz.\n"
   ]
  },
  {
   "cell_type": "code",
   "execution_count": 3,
   "metadata": {},
   "outputs": [
    {
     "data": {
      "text/plain": [
       "(Z('qubit_count': 1), X('qubit_count': 1))"
      ]
     },
     "execution_count": 3,
     "metadata": {},
     "output_type": "execute_result"
    }
   ],
   "source": [
    "observables.Z(), observables.X()"
   ]
  },
  {
   "cell_type": "code",
   "execution_count": 4,
   "metadata": {},
   "outputs": [],
   "source": [
    "#set seed for initial state\n",
    "np.random.seed(0)\n",
    "\n",
    "# to save the plot\n",
    "SAVE_FIG = False\n",
    "\n",
    "device = LocalSimulator()"
   ]
  },
  {
   "cell_type": "code",
   "execution_count": 5,
   "metadata": {},
   "outputs": [],
   "source": [
    "## example code for other backends\n",
    "# from braket.aws import AwsDevice\n",
    "## choose the on-demand simulator to run your circuit\n",
    "# device = AwsDevice(\"arn:aws:braket:::device/quantum-simulator/amazon/sv1\")\n",
    "## choose the Rigetti device to run your circuit\n",
    "# device = AwsDevice(\"arn:aws:braket:us-west-1::device/qpu/rigetti/Aspen-M-3\")\n",
    "## choose the Ionq device to run your circuit\n",
    "# device = AwsDevice(\"arn:aws:braket:us-east-1::device/qpu/ionq/Harmony\")"
   ]
  },
  {
   "cell_type": "code",
   "execution_count": 6,
   "metadata": {},
   "outputs": [
    {
     "ename": "IndentationError",
     "evalue": "expected an indented block after 'for' statement on line 30 (2807321905.py, line 34)",
     "output_type": "error",
     "traceback": [
      "\u001b[0;36m  Cell \u001b[0;32mIn[6], line 34\u001b[0;36m\u001b[0m\n\u001b[0;31m    for qubit in range(n_qubits):\u001b[0m\n\u001b[0m    ^\u001b[0m\n\u001b[0;31mIndentationError\u001b[0m\u001b[0;31m:\u001b[0m expected an indented block after 'for' statement on line 30\n"
     ]
    }
   ],
   "source": [
    "def get_ising_interactions(n_qubits):\n",
    "    \"\"\"\n",
    "    Sets up the Ising interaction term matrix \n",
    "    \"\"\"\n",
    "    # Initialize the Ising interaction term matrix\n",
    "    ising = np.zeros((n_qubits, n_qubits))\n",
    "    \n",
    "    # Assign interaction strengths for adjacent qubits\n",
    "    for ii in range(n_qubits - 1):\n",
    "        ising[ii][ii + 1] = -1\n",
    "    ising[0][n_qubits - 1] = -1\n",
    "    \n",
    "    # Display the Ising matrix\n",
    "    print('Ising matrix:\\n', ising)\n",
    "    \n",
    "    return ising\n",
    "\n",
    "def circuit(params, n_qubits):\n",
    "    \"\"\"\n",
    "    function to return full VQE circuit ansatz\n",
    "    input: parameter list with three parameters \n",
    "    \"\"\"\n",
    "\n",
    "    # instantiate circuit object\n",
    "    circuit = Circuit()\n",
    "    \n",
    "    #apply rotation on the first qubit: play around with this\n",
    "\n",
    "    # apply series of CNOT gates\n",
    "    for ii in range(1, n_qubits):\n",
    "        #\n",
    "\n",
    "    # add parametrized single-qubit rotations around y\n",
    "    for qubit in range(n_qubits):\n",
    "        #\n",
    "    return circuit\n",
    "\n",
    "def objective_function(params, J, b_field, n_qubits, n_shots):\n",
    "    \"\"\"\n",
    "    Computes the cost associated with the given parameters.\n",
    "    \"\"\"\n",
    "\n",
    "    # Obtain the VQE circuit ansatz\n",
    "    vqe_circuit = circuit(params, n_qubits)\n",
    "    \n",
    "    # Measure the Z and X observables\n",
    "    circuit_zz = Circuit(vqe_circuit).sample(observables.Z())\n",
    "    task_zz = device.run(circuit_zz, shots=n_shots)\n",
    "    circuit_b = #\n",
    "    task_b = #\n",
    "    \n",
    "    # Retrieve measurement results\n",
    "    result_zz = task_zz.result()\n",
    "    result_b = #\n",
    "    \n",
    "    # Compute energy expectation values\n",
    "    # print(\"expectations_zz\", expectations_zz)\n",
    "    # print(\"np.einsum('ik,ij', expectations_zz, J), shape\", np.einsum('ik,ij', expectations_zz, J), np.einsum('ik,ij', expectations_zz, J).shape)\n",
    "    # print(\"np.einsum('ik,ij,jk', expectations_zz, J, expectations_zz)\", np.einsum('ik,ij,jk', expectations_zz, J, expectations_zz))\n",
    "\n",
    "    expectations_zz = np.array(result_zz.values[0])\n",
    "    energy_expect_zz = 0.25 * np.einsum(\"ik,ij,jk\", expectations_zz, J, expectations_zz) / n_shots\n",
    "    energy_expect_b = -1 * b_field / 2 * np.array(result_b.values[0]).sum() / n_shots\n",
    "    energy_expect = #\n",
    "\n",
    "    return energy_expect\n",
    "\n",
    "def train(J, b_field, options, n_qubits, n_shots, n_initial=10):\n",
    "    \"\"\"\n",
    "    Runs the VQE algorithm with several random seeds for initialization.\n",
    "    \"\"\"\n",
    "    print('Starting the training.')\n",
    "    \n",
    "    # Initialize lists to store optimization results\n",
    "    cost_energy = []\n",
    "    angles = []\n",
    "    \n",
    "    # Iterate through different random seeds\n",
    "    for ii in range(n_initial):\n",
    "        \n",
    "        # Generate random initial parameters\n",
    "        params0 = np.random.uniform(0, 2 * np.pi, 3).tolist()\n",
    "        \n",
    "        # Perform optimization\n",
    "        result = minimize(\n",
    "            objective_function,\n",
    "            params0,\n",
    "            args=(J, b_field, n_qubits, n_shots),\n",
    "            options=options, method='COBYLA',\n",
    "        )\n",
    "        \n",
    "        # Store optimization results\n",
    "        result_energy = result.fun\n",
    "        cost_energy.append(result_energy)\n",
    "        result_angle = result.x\n",
    "        angles.append(result_angle)\n",
    "        \n",
    "    \n",
    "    # Determine energy minimum (over different initial configurations)\n",
    "\n",
    "    energy_min = np.min(cost_energy)\n",
    "    \n",
    "    return energy_min\n"
   ]
  },
  {
   "cell_type": "code",
   "execution_count": null,
   "metadata": {},
   "outputs": [
    {
     "name": "stdout",
     "output_type": "stream",
     "text": [
      "1. Printing VQE test circuit:\n",
      "T  : |   0    |1|    2     |    3     |   4    |\n",
      "                                                \n",
      "q0 : -Rx(0.10)-C-C----------C----------Ry(0.20)-\n",
      "               | |          |                   \n",
      "q1 : ----------X-|-Ry(0.20)-|-------------------\n",
      "                 |          |                   \n",
      "q2 : ------------X----------|-Ry(0.20)----------\n",
      "                            |                   \n",
      "q3 : -----------------------X----------Ry(0.20)-\n",
      "\n",
      "T  : |   0    |1|    2     |    3     |   4    |\n",
      "\n",
      "2. Apply Hadamard to measure in x-basis:\n",
      "T  : |   0    |1|    2     |    3     |   4    |5|\n",
      "                                                  \n",
      "q0 : -Rx(0.10)-C-C----------C----------Ry(0.20)-H-\n",
      "               | |          |                     \n",
      "q1 : ----------X-|-Ry(0.20)-|-H-------------------\n",
      "                 |          |                     \n",
      "q2 : ------------X----------|-Ry(0.20)-H----------\n",
      "                            |                     \n",
      "q3 : -----------------------X----------Ry(0.20)-H-\n",
      "\n",
      "T  : |   0    |1|    2     |    3     |   4    |5|\n"
     ]
    }
   ],
   "source": [
    "# visualize VQE circuit example\n",
    "N = 4\n",
    "params = [0.1, 0.2]\n",
    "\n",
    "vqe_circuit = circuit(params, N)\n",
    "\n",
    "print('1. Printing VQE test circuit:')\n",
    "print(vqe_circuit)\n",
    "\n",
    "# Hb term: construct the circuit for measuring in the X-basis\n",
    "print('')\n",
    "print('2. Apply Hadamard to measure in x-basis:')\n",
    "print(Circuit(vqe_circuit).h(range(0, N)))"
   ]
  },
  {
   "cell_type": "code",
   "execution_count": null,
   "metadata": {},
   "outputs": [
    {
     "name": "stdout",
     "output_type": "stream",
     "text": [
      "1. Printing VQE test circuit:\n",
      "T  : |   0    |1|    2     |    3     |   4    |\n",
      "                                                \n",
      "q0 : -Rx(0.10)-C-C----------C----------Ry(0.20)-\n",
      "               | |          |                   \n",
      "q1 : ----------X-|-Ry(0.20)-|-------------------\n",
      "                 |          |                   \n",
      "q2 : ------------X----------|-Ry(0.20)----------\n",
      "                            |                   \n",
      "q3 : -----------------------X----------Ry(0.20)-\n",
      "\n",
      "T  : |   0    |1|    2     |    3     |   4    |\n",
      "\n",
      "2. Apply Hadamard to measure in x-basis:\n",
      "T  : |   0    |1|    2     |    3     |   4    |5|\n",
      "                                                  \n",
      "q0 : -Rx(0.10)-C-C----------C----------Ry(0.20)-H-\n",
      "               | |          |                     \n",
      "q1 : ----------X-|-Ry(0.20)-|-H-------------------\n",
      "                 |          |                     \n",
      "q2 : ------------X----------|-Ry(0.20)-H----------\n",
      "                            |                     \n",
      "q3 : -----------------------X----------Ry(0.20)-H-\n",
      "\n",
      "T  : |   0    |1|    2     |    3     |   4    |5|\n"
     ]
    }
   ],
   "source": [
    "# visualize VQE circuit example\n",
    "N = 4\n",
    "params = [0.1, 0.2]\n",
    "\n",
    "vqe_circuit = circuit(params, N)\n",
    "\n",
    "print('1. Printing VQE test circuit:')\n",
    "print(vqe_circuit)\n",
    "\n",
    "# Hb term: construct the circuit for measuring in the X-basis\n",
    "print('')\n",
    "print('2. Apply Hadamard to measure in x-basis:')\n",
    "print(Circuit(vqe_circuit).h(range(0, N)))"
   ]
  },
  {
   "cell_type": "code",
   "execution_count": null,
   "metadata": {},
   "outputs": [
    {
     "name": "stdout",
     "output_type": "stream",
     "text": [
      "Ising matrix:\n",
      " [[ 0. -1.  0. -1.]\n",
      " [ 0.  0. -1.  0.]\n",
      " [ 0.  0.  0. -1.]\n",
      " [ 0.  0.  0.  0.]]\n",
      "Strength of magnetic field: 0.01\n",
      "Starting the training.\n",
      "Strength of magnetic field: 0.21000000000000002\n",
      "Starting the training.\n",
      "Strength of magnetic field: 0.41000000000000003\n",
      "Starting the training.\n",
      "Strength of magnetic field: 0.6100000000000001\n",
      "Starting the training.\n",
      "Strength of magnetic field: 0.81\n",
      "Starting the training.\n",
      "Strength of magnetic field: 1.01\n",
      "Starting the training.\n",
      "Strength of magnetic field: 1.2100000000000002\n",
      "Starting the training.\n",
      "Strength of magnetic field: 1.4100000000000001\n",
      "Starting the training.\n",
      "Strength of magnetic field: 1.61\n",
      "Starting the training.\n",
      "Strength of magnetic field: 1.81\n",
      "Starting the training.\n",
      "Strength of magnetic field: 2.01\n",
      "Starting the training.\n",
      "Code execution time [sec]: 6.187764883041382\n",
      "Optimal energies: [-0.99984, -1.04858, -1.20725, -1.39616, -1.66257, -2.02613, -2.43874, -2.8045000000000004, -3.246, -3.64152, -4.019949999999999]\n",
      "Optimal energies (per site): [-0.24996, -0.262145, -0.3018125, -0.34904, -0.4156425, -0.5065325, -0.609685, -0.7011250000000001, -0.8115, -0.91038, -1.0049874999999997]\n"
     ]
    }
   ],
   "source": [
    "# set up the problem\n",
    "SHOTS = 1_000\n",
    "N = 4 # number of qubits\n",
    "n_initial = 2 # number of random seeds to explore optimization landscape\n",
    "verbose = False # control amount of print output in scipy\n",
    "\n",
    "# set up Ising matrix with nearest neighbour interactions and PBC\n",
    "J = get_ising_interactions(N)\n",
    "\n",
    "# set options for classical optimization\n",
    "options = {\"maxiter\": 20}\n",
    "if verbose:\n",
    "    options[\"disp\"] = True\n",
    "\n",
    "# kick off training\n",
    "start = time.time()\n",
    "\n",
    "# parameter scan\n",
    "xvalues = np.arange(0.01, 2.2, 0.2)\n",
    "results = []\n",
    "results_site = []\n",
    "\n",
    "for bb in xvalues:\n",
    "    b_field = bb\n",
    "    print('Strength of magnetic field:', b_field)\n",
    "    energy_min = train(\n",
    "        J,\n",
    "        b_field,\n",
    "        options=options,\n",
    "        n_qubits=N,\n",
    "        n_shots=SHOTS,\n",
    "        n_initial=n_initial,\n",
    "    )\n",
    "    results.append(energy_min)\n",
    "    results_site.append(energy_min/N)\n",
    "    \n",
    "    # reset counters\n",
    "    CYCLE = 0\n",
    "\n",
    "end = time.time()\n",
    "# print execution time\n",
    "print('Code execution time [sec]:', end - start)\n",
    "\n",
    "# print optimized results\n",
    "print('Optimal energies:', results)\n",
    "print('Optimal energies (per site):', results_site)"
   ]
  },
  {
   "cell_type": "code",
   "execution_count": null,
   "metadata": {},
   "outputs": [
    {
     "data": {
      "image/png": "[encoded data removed]",
      "text/plain": [
       "<Figure size 640x480 with 1 Axes>"
      ]
     },
     "metadata": {},
     "output_type": "display_data"
    }
   ],
   "source": [
    "# plot the VQE results for the energy per site\n",
    "plt.plot(xvalues, results_site, 'm--o')\n",
    "plt.xlabel('transverse field $B [J]$')\n",
    "plt.ylabel('groundstate energy per site $E_{0}/N [J]$')\n",
    "plt.show()"
   ]
  },
  {
   "cell_type": "markdown",
   "metadata": {},
   "source": [
    "## Compare with exact result \n",
    "Click [here for reference paper](https://www.math.ucdavis.edu/~bxn/pfeuty1970.pdf). "
   ]
  },
  {
   "cell_type": "code",
   "execution_count": null,
   "metadata": {},
   "outputs": [],
   "source": [
    "# helper function to numerically solve for gs energy of TIM\n",
    "def num_integrate_gs(B):\n",
    "    \"\"\"\n",
    "    numerically integrate exact band to get gs energy of TIM\n",
    "    this should give -E_0/(N*J) by Pfeufy\n",
    "    Here set J=1 (units of energy)\n",
    "    \"\"\"\n",
    "    # lamba_ratio (setting J=1): compare thesis\n",
    "    ll = 1/(2*B)\n",
    "    \n",
    "    # set energy\n",
    "    gs_energy = 0\n",
    "    \n",
    "    # numerical integration\n",
    "    step_size = 0.0001\n",
    "    k_values = np.arange(0, np.pi, step_size)\n",
    "    integration_values = [step_size*np.sqrt(1 + ll**2 + 2 * ll * np.cos(kk)) for kk in k_values]\n",
    "    integral = np.sum(integration_values)\n",
    "    gs_energy = 1*integral/(4*np.pi*ll)\n",
    "    \n",
    "    return gs_energy"
   ]
  },
  {
   "cell_type": "code",
   "execution_count": null,
   "metadata": {},
   "outputs": [
    {
     "data": {
      "image/png": "[encoded data removed]",
      "text/plain": [
       "<Figure size 640x480 with 1 Axes>"
      ]
     },
     "metadata": {},
     "output_type": "display_data"
    }
   ],
   "source": [
    "# plot exact gs energy of TIM vs VQE results\n",
    "x = np.arange(0.01, 2.2, 0.2)\n",
    "y = [-1*num_integrate_gs(xx) for xx in x]\n",
    "# plot exact results\n",
    "plt.plot(x, y, 'b--s', label='exact')\n",
    "# plot vqe results\n",
    "plt.plot(xvalues, results_site, 'm--o', label='VQE')\n",
    "plt.xlabel('magnetic field $B [J]$')\n",
    "plt.ylabel('groundstate energy $E_{0}/N [J]$')\n",
    "plt.tight_layout();\n",
    "plt.legend()\n",
    "# save figure\n",
    "if SAVE_FIG:\n",
    "    time_now = datetime.strftime(datetime.now(), '%Y%m%d%H%M%S')\n",
    "    filename = 'vqe_tim_gs-energy_'+time_now+'.png'\n",
    "    plt.savefig(filename, dpi=700);"
   ]
  }
 ],
 "metadata": {
  "kernelspec": {
   "display_name": "aws_braket",
   "language": "python",
   "name": "python3"
  },
  "language_info": {
   "codemirror_mode": {
    "name": "ipython",
    "version": 3
   },
   "file_extension": ".py",
   "mimetype": "text/x-python",
   "name": "python",
   "nbconvert_exporter": "python",
   "pygments_lexer": "ipython3",
   "version": "3.10.0"
  }
 },
 "nbformat": 4,
 "nbformat_minor": 2
}
