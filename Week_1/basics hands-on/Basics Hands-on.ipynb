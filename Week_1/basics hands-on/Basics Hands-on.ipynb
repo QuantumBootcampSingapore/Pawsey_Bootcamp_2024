{
 "cells": [
  {
   "cell_type": "markdown",
   "id": "3235df45-b8b1-49c1-bbf4-42c09a8d87c3",
   "metadata": {},
   "source": [
    "# Some basic exercises to get your hands warm"
   ]
  },
  {
   "cell_type": "markdown",
   "id": "21c468f6-3972-4c97-80f2-3a40d6d86d96",
   "metadata": {},
   "source": [
    "## Single Qubit"
   ]
  },
  {
   "cell_type": "markdown",
   "id": "7810736a-f7e4-4c82-ad7b-5323692ee757",
   "metadata": {},
   "source": [
    "The single qubit is the fundamental unit of information in Quantum Computing. It is realized as an actual physical system in the hardware, but when it comes to Quantum Computing, it is instead treated as a mathematical object for use in computation!\n",
    "\n",
    "We declare a single qubit below:"
   ]
  },
  {
   "cell_type": "code",
   "execution_count": null,
   "id": "cb25d013-061d-4c4e-a095-e91fe9e70812",
   "metadata": {
    "tags": []
   },
   "outputs": [],
   "source": [
    "from braket.circuits import Circuit\n",
    "from braket.circuits import Gate\n",
    "from braket.devices import LocalSimulator\n",
    "\n",
    "import numpy as np"
   ]
  },
  {
   "cell_type": "code",
   "execution_count": null,
   "id": "72c9fb00-a9c2-409d-b982-f9d8b280dd70",
   "metadata": {
    "tags": []
   },
   "outputs": [],
   "source": [
    "circ = Circuit()\n",
    "\n",
    "circ.i([0])"
   ]
  },
  {
   "cell_type": "code",
   "execution_count": null,
   "id": "79d9c56f-2c06-4741-9a2a-628e715d974b",
   "metadata": {
    "tags": []
   },
   "outputs": [],
   "source": [
    "print(circ)"
   ]
  },
  {
   "cell_type": "markdown",
   "id": "608234f6-fc11-4e6a-8a08-a9a9333a0220",
   "metadata": {},
   "source": [
    "## Dynamics for the Single Qubit"
   ]
  },
  {
   "cell_type": "markdown",
   "id": "ea5a6c52-b621-4261-b925-9be9ec8af3f2",
   "metadata": {},
   "source": [
    "What are some things we can do with a single qubit?\n",
    "\n",
    "Look at the Braket guide for options:\n",
    "https://docs.aws.amazon.com/braket/latest/developerguide/braket-constructing-circuit.html"
   ]
  },
  {
   "cell_type": "markdown",
   "id": "46a84e91-2feb-4f0a-8bf0-5b00e033ea8d",
   "metadata": {
    "tags": []
   },
   "source": [
    "1. Create a uniform super-position of states between 0 and 1:"
   ]
  },
  {
   "cell_type": "code",
   "execution_count": null,
   "id": "42a2b87c-44b9-4a34-8441-fc9a73d2d8fa",
   "metadata": {
    "tags": []
   },
   "outputs": [],
   "source": [
    "circ = Circuit()\n",
    "\n",
    "# Insert code block here ------------\n",
    "    \n",
    "# Insert code block here ------------\n",
    "\n",
    "circ.state_vector()"
   ]
  },
  {
   "cell_type": "code",
   "execution_count": null,
   "id": "6953db07-882c-482e-9019-8a6f40906fca",
   "metadata": {
    "tags": []
   },
   "outputs": [],
   "source": [
    "DEVICE = LocalSimulator()\n",
    "task = DEVICE.run(circ)\n",
    "result = task.result()\n",
    "result.values"
   ]
  },
  {
   "cell_type": "markdown",
   "id": "e16a1d58-f20b-4de0-88e3-d739c18f9ebb",
   "metadata": {},
   "source": [
    "2. Now I don't want an even superposition, but instead I want it to be 1 approximately 25% of the time. How do I create that?\n",
    "\n",
    "Hint: Use rotation gates"
   ]
  },
  {
   "cell_type": "code",
   "execution_count": null,
   "id": "6c14a9f4-9543-4b87-a3a7-eedaf553d3ba",
   "metadata": {
    "tags": []
   },
   "outputs": [],
   "source": [
    "circ = Circuit()\n",
    "\n",
    "# Insert code block here ------------\n",
    "    \n",
    "# Insert code block here ------------\n",
    "\n",
    "circ.probability(target=0)"
   ]
  },
  {
   "cell_type": "code",
   "execution_count": null,
   "id": "ef6de1c1-3698-4961-9eda-0ed89fa76d09",
   "metadata": {
    "tags": []
   },
   "outputs": [],
   "source": [
    "DEVICE = LocalSimulator()\n",
    "task = DEVICE.run(circ)\n",
    "result = task.result()\n",
    "result.values"
   ]
  },
  {
   "cell_type": "markdown",
   "id": "e107dff5-37bf-4311-8c92-939af4706502",
   "metadata": {
    "tags": []
   },
   "source": [
    "3. Is that the only way I can create that? Find another way to achieve the same result."
   ]
  },
  {
   "cell_type": "code",
   "execution_count": null,
   "id": "fcf610bb-ca76-42eb-9ae7-b955d0000324",
   "metadata": {
    "tags": []
   },
   "outputs": [],
   "source": [
    "circ = Circuit()\n",
    "\n",
    "# Insert code block here ------------\n",
    "    \n",
    "# Insert code block here ------------\n",
    "\n",
    "circ.probability(target=0)"
   ]
  },
  {
   "cell_type": "code",
   "execution_count": null,
   "id": "8a722d18-e5ef-4542-9714-c2372381245b",
   "metadata": {
    "tags": []
   },
   "outputs": [],
   "source": [
    "DEVICE = LocalSimulator()\n",
    "task = DEVICE.run(circ)\n",
    "result = task.result()\n",
    "result.values"
   ]
  },
  {
   "cell_type": "markdown",
   "id": "99bd046d-45bf-4ab7-a408-f405438d4b96",
   "metadata": {},
   "source": [
    "4. Write the code to get any probability you want for 0 and 1.\n",
    "\n",
    "Hint: Look at the matrix for rotation gates"
   ]
  },
  {
   "cell_type": "code",
   "execution_count": null,
   "id": "6442d1a3-babb-4eca-99ae-304719539caa",
   "metadata": {
    "tags": []
   },
   "outputs": [],
   "source": [
    "prob_wanted_0 = 0.15"
   ]
  },
  {
   "cell_type": "code",
   "execution_count": null,
   "id": "de2c55de-f268-40c0-a6be-368736236606",
   "metadata": {
    "tags": []
   },
   "outputs": [],
   "source": [
    "# Insert some prior calculation\n",
    "rx_angle = np.arccos(np.sqrt(prob_wanted_0)) * 2"
   ]
  },
  {
   "cell_type": "code",
   "execution_count": null,
   "id": "277a168a-f5cf-4793-bfc0-62376b7d03c9",
   "metadata": {
    "tags": []
   },
   "outputs": [],
   "source": [
    "circ = Circuit()\n",
    "\n",
    "# Insert code block here ------------\n",
    "    \n",
    "# Insert code block here ------------\n",
    "\n",
    "circ.probability(target=0)"
   ]
  },
  {
   "cell_type": "code",
   "execution_count": null,
   "id": "271fb739-8025-4c75-ba4f-ddd19ef8108e",
   "metadata": {
    "tags": []
   },
   "outputs": [],
   "source": [
    "DEVICE = LocalSimulator()\n",
    "task = DEVICE.run(circ)\n",
    "result = task.result()\n",
    "result.values"
   ]
  },
  {
   "cell_type": "markdown",
   "id": "f9f2a552-ca47-46ab-aaf2-a7a188d5c301",
   "metadata": {},
   "source": [
    "## Multiple Qubits"
   ]
  },
  {
   "cell_type": "markdown",
   "id": "cacc20c1-c0ec-4ebd-be26-9bd85b24911f",
   "metadata": {},
   "source": [
    "As with classical bits, the true magic happens when we create multiple qubits and compose them together!"
   ]
  },
  {
   "cell_type": "code",
   "execution_count": null,
   "id": "9bf294e7-00b4-4582-ac71-95360a004d47",
   "metadata": {
    "tags": []
   },
   "outputs": [],
   "source": [
    "circ = Circuit()\n",
    "\n",
    "circ.i([0,1,2])"
   ]
  },
  {
   "cell_type": "code",
   "execution_count": null,
   "id": "1a06e543-044a-4d74-9997-296f324fec2d",
   "metadata": {},
   "outputs": [],
   "source": [
    "print(circ)"
   ]
  },
  {
   "cell_type": "markdown",
   "id": "cf6b9fec-83f8-4784-96c3-d8c750805993",
   "metadata": {},
   "source": [
    "## Dynamics with Multiple Qubits"
   ]
  },
  {
   "cell_type": "markdown",
   "id": "7d4dfc23-1b88-4c3b-8604-3d892ff71970",
   "metadata": {
    "tags": []
   },
   "source": [
    "What are some things we can do with multiple qubits? It is important to remember that dynamics with single qubits is just as important when thinking about multiple qubits."
   ]
  },
  {
   "cell_type": "markdown",
   "id": "0d01513e-8407-456e-8cff-c4c8ef4e9c2f",
   "metadata": {},
   "source": [
    "1a. First get 10 state, then turn it in 11 state using a 2 qubit gate."
   ]
  },
  {
   "cell_type": "code",
   "execution_count": null,
   "id": "8cfd92e8-42e1-43be-9fce-f36382cf68c0",
   "metadata": {
    "tags": []
   },
   "outputs": [],
   "source": [
    "circ = Circuit()\n",
    "\n",
    "# Insert code block here ------------\n",
    "    \n",
    "# Insert code block here ------------\n",
    "\n",
    "circ.state_vector()"
   ]
  },
  {
   "cell_type": "code",
   "execution_count": null,
   "id": "19d497c8-04b5-412d-a595-4de3ddce926a",
   "metadata": {
    "tags": []
   },
   "outputs": [],
   "source": [
    "DEVICE = LocalSimulator()\n",
    "task = DEVICE.run(circ)\n",
    "result = task.result()\n",
    "result.values"
   ]
  },
  {
   "cell_type": "markdown",
   "id": "be6f6d4b-6890-45fe-93af-c656a4da2804",
   "metadata": {},
   "source": [
    "1b. Is that the only way to get it? What would be the simplest way of getting such a state?"
   ]
  },
  {
   "cell_type": "code",
   "execution_count": null,
   "id": "b07d884f-fe0e-48bb-88d4-6a75f69c61aa",
   "metadata": {
    "tags": []
   },
   "outputs": [],
   "source": [
    "circ = Circuit()\n",
    "\n",
    "# Insert code block here ------------\n",
    "    \n",
    "# Insert code block here ------------\n",
    "\n",
    "circ.state_vector()"
   ]
  },
  {
   "cell_type": "code",
   "execution_count": null,
   "id": "1f65c1b0-7939-46c6-a24a-12b7e6171f0d",
   "metadata": {
    "tags": []
   },
   "outputs": [],
   "source": [
    "DEVICE = LocalSimulator()\n",
    "task = DEVICE.run(circ)\n",
    "result = task.result()\n",
    "result.values"
   ]
  },
  {
   "cell_type": "markdown",
   "id": "e0e56c5e-7a53-4f86-ab9e-246b5b6d67f2",
   "metadata": {},
   "source": [
    "2a. One of the most interesting states is the Bell state, which is an equal superposition between 00 and 11 state, as seen below:\n",
    "\n",
    "$$\\frac{|00 \\rangle + |11 \\rangle}{\\sqrt{2}}$$\n",
    "\n",
    "Create it below:"
   ]
  },
  {
   "cell_type": "code",
   "execution_count": null,
   "id": "de4cf931-29a4-4e71-851f-14089984dcf7",
   "metadata": {
    "tags": []
   },
   "outputs": [],
   "source": [
    "circ = Circuit()\n",
    "\n",
    "# Insert code block here ------------\n",
    "    \n",
    "# Insert code block here ------------\n",
    "\n",
    "circ.state_vector()"
   ]
  },
  {
   "cell_type": "code",
   "execution_count": null,
   "id": "ae83283a-316b-4d6e-86e3-1605bf2e1281",
   "metadata": {
    "tags": []
   },
   "outputs": [],
   "source": [
    "DEVICE = LocalSimulator()\n",
    "task = DEVICE.run(circ)\n",
    "result = task.result()\n",
    "result.values"
   ]
  },
  {
   "cell_type": "markdown",
   "id": "7be239a9-2623-4a1f-87bd-ea4cf07a6c5a",
   "metadata": {},
   "source": [
    "2b. Create the other Bell state, seen below:\n",
    "\n",
    "$$\\frac{|00 \\rangle - |11 \\rangle}{\\sqrt{2}}$$\n",
    "\n",
    "Create it below:"
   ]
  },
  {
   "cell_type": "code",
   "execution_count": null,
   "id": "a046059b-8a12-4f00-9578-76889ef5d359",
   "metadata": {
    "tags": []
   },
   "outputs": [],
   "source": [
    "circ = Circuit()\n",
    "\n",
    "# Insert code block here ------------\n",
    "    \n",
    "# Insert code block here ------------\n",
    "\n",
    "circ.state_vector()"
   ]
  },
  {
   "cell_type": "code",
   "execution_count": null,
   "id": "24f3a61a-19a3-4080-8bcd-d70657d0b72f",
   "metadata": {
    "tags": []
   },
   "outputs": [],
   "source": [
    "DEVICE = LocalSimulator()\n",
    "task = DEVICE.run(circ)\n",
    "result = task.result()\n",
    "result.values"
   ]
  },
  {
   "cell_type": "markdown",
   "id": "8589c8ea-d62b-4e48-9bb6-36f33ff19e62",
   "metadata": {},
   "source": [
    "3a. We know that we can apply any unitary matrix to the circuit. Try making a unitary for the CNOT gate and applying it. Repeat the exercise from 1a using it."
   ]
  },
  {
   "cell_type": "code",
   "execution_count": null,
   "id": "ec347d54-936f-4314-ab0d-ee4a7b3250ca",
   "metadata": {
    "tags": []
   },
   "outputs": [],
   "source": [
    "# Fill up the matrix\n",
    "cnot_unitary = np.array([[0, 0, 0, 0],\n",
    "                        [0, 0, 0, 0],\n",
    "                        [0, 0, 0, 0],\n",
    "                        [0, 0, 0, 0]])\n"
   ]
  },
  {
   "cell_type": "code",
   "execution_count": null,
   "id": "a53ff673-3a51-4693-8ae4-d1f91233cbd7",
   "metadata": {
    "tags": []
   },
   "outputs": [],
   "source": [
    "circ = Circuit()\n",
    "\n",
    "# Insert code block here ------------\n",
    "    \n",
    "# Insert code block here ------------\n",
    "\n",
    "circ.state_vector()"
   ]
  },
  {
   "cell_type": "code",
   "execution_count": null,
   "id": "341b7011-9f38-461f-85e5-e02229d50178",
   "metadata": {
    "tags": []
   },
   "outputs": [],
   "source": [
    "DEVICE = LocalSimulator()\n",
    "task = DEVICE.run(circ)\n",
    "result = task.result()\n",
    "result.values"
   ]
  },
  {
   "cell_type": "markdown",
   "id": "6696b44c-d480-4bf2-aa43-b553d3b2c304",
   "metadata": {},
   "source": [
    "3b. Now create the unitary matrices for the 2 Bell states above:"
   ]
  },
  {
   "cell_type": "code",
   "execution_count": null,
   "id": "5a17f8ed-f5da-444c-87a0-edcb2826f71b",
   "metadata": {
    "tags": []
   },
   "outputs": [],
   "source": [
    "bell_unitary_2a = "
   ]
  },
  {
   "cell_type": "code",
   "execution_count": null,
   "id": "6486276d-3062-45d7-8010-ccbf251b8834",
   "metadata": {
    "tags": []
   },
   "outputs": [],
   "source": [
    "circ = Circuit()\n",
    "\n",
    "# Insert code block here ------------\n",
    "    \n",
    "# Insert code block here ------------\n",
    "\n",
    "circ.state_vector()"
   ]
  },
  {
   "cell_type": "code",
   "execution_count": null,
   "id": "6af7f2e6-d15e-4642-aca4-5554b7a3a1e4",
   "metadata": {
    "tags": []
   },
   "outputs": [],
   "source": [
    "DEVICE = LocalSimulator()\n",
    "task = DEVICE.run(circ)\n",
    "result = task.result()\n",
    "result.values"
   ]
  },
  {
   "cell_type": "code",
   "execution_count": null,
   "id": "46388c3d-a6b6-4822-b2b4-b15a60ccf50e",
   "metadata": {
    "tags": []
   },
   "outputs": [],
   "source": [
    "bell_unitary_2b = "
   ]
  },
  {
   "cell_type": "code",
   "execution_count": null,
   "id": "44492238-be03-4a14-a909-607e6a233700",
   "metadata": {
    "tags": []
   },
   "outputs": [],
   "source": [
    "circ = Circuit()\n",
    "\n",
    "# Insert code block here ------------\n",
    "    \n",
    "# Insert code block here ------------\n",
    "\n",
    "circ.state_vector()"
   ]
  },
  {
   "cell_type": "code",
   "execution_count": null,
   "id": "3f76f955-8ff7-467e-8273-ceebf49e8d21",
   "metadata": {
    "tags": []
   },
   "outputs": [],
   "source": [
    "DEVICE = LocalSimulator()\n",
    "task = DEVICE.run(circ)\n",
    "result = task.result()\n",
    "result.values"
   ]
  },
  {
   "cell_type": "markdown",
   "id": "8055def9-4611-4af1-936f-e64d0a9ba4be",
   "metadata": {
    "tags": []
   },
   "source": [
    "3c. Using the unitaries of the 2 Bell States above, create the last two Bell States:\n",
    "    \n",
    "$$\\frac{|01 \\rangle +|10 \\rangle}{\\sqrt{2}}, \\frac{|01 \\rangle - |10 \\rangle}{\\sqrt{2}}$$"
   ]
  },
  {
   "cell_type": "code",
   "execution_count": null,
   "id": "d80cab0d-84b2-4212-98b0-58ffb30fe0e9",
   "metadata": {
    "tags": []
   },
   "outputs": [],
   "source": [
    "circ = Circuit()\n",
    "\n",
    "# Insert code block here ------------\n",
    "    \n",
    "# Insert code block here ------------\n",
    "\n",
    "circ.state_vector()"
   ]
  },
  {
   "cell_type": "code",
   "execution_count": null,
   "id": "48f012a7-ffbe-482f-b646-a4f7ada8166c",
   "metadata": {
    "tags": []
   },
   "outputs": [],
   "source": [
    "DEVICE = LocalSimulator()\n",
    "task = DEVICE.run(circ)\n",
    "result = task.result()\n",
    "result.values"
   ]
  },
  {
   "cell_type": "code",
   "execution_count": null,
   "id": "fa4aa312-9a6e-447b-9170-31a320fd208b",
   "metadata": {
    "tags": []
   },
   "outputs": [],
   "source": [
    "circ = Circuit()\n",
    "\n",
    "# Insert code block here ------------\n",
    "    \n",
    "# Insert code block here ------------\n",
    "\n",
    "circ.state_vector()"
   ]
  },
  {
   "cell_type": "code",
   "execution_count": null,
   "id": "ef5080cc-1ec5-4ff2-bf3c-c2afea54e145",
   "metadata": {
    "tags": []
   },
   "outputs": [],
   "source": [
    "DEVICE = LocalSimulator()\n",
    "task = DEVICE.run(circ)\n",
    "result = task.result()\n",
    "result.values"
   ]
  }
 ],
 "metadata": {
  "kernelspec": {
   "display_name": "conda_braket",
   "language": "python",
   "name": "conda_braket"
  },
  "language_info": {
   "codemirror_mode": {
    "name": "ipython",
    "version": 3
   },
   "file_extension": ".py",
   "mimetype": "text/x-python",
   "name": "python",
   "nbconvert_exporter": "python",
   "pygments_lexer": "ipython3",
   "version": "3.10.13"
  }
 },
 "nbformat": 4,
 "nbformat_minor": 5
}
